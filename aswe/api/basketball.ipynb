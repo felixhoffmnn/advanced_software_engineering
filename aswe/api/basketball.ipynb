{
 "cells": [
  {
   "cell_type": "code",
   "execution_count": 103,
   "metadata": {},
   "outputs": [],
   "source": [
    "from aswe.utils.request import http_request\n",
    "from datetime import date\n",
    "import os"
   ]
  },
  {
   "cell_type": "code",
   "execution_count": 6,
   "metadata": {},
   "outputs": [],
   "source": [
    "headers = {\n",
    "  'x-rapidapi-key': os.getenv(\"Sports_API_key\"),\n",
    "  'x-rapidapi-host': 'v1.basketball.api-sports.io'\n",
    "}"
   ]
  },
  {
   "cell_type": "code",
   "execution_count": 11,
   "metadata": {},
   "outputs": [],
   "source": [
    "def get_NBA_standings() -> list:\n",
    "    data = http_request(f'https://v1.basketball.api-sports.io/standings?league=12&season=2022-2023', headers=headers).json()\n",
    "    \n",
    "    wc_standings = []\n",
    "    ec_standings = []\n",
    "    conferences = []\n",
    "    for team in data[\"response\"][0]:\n",
    "        if team[\"group\"][\"name\"] == \"Eastern Conference\" or team[\"group\"][\"name\"] == \"Western Conference\": \n",
    "            if team[\"group\"][\"name\"] not in conferences:\n",
    "                conferences.append(team[\"group\"][\"name\"])\n",
    "                print(conferences[-1])\n",
    "            if team[\"group\"][\"name\"] == \"Eastern Conference\":\n",
    "                ec_standings.append(f\"{team['position']}. {team['team']['name']} wins: {team['games']['win']['total']} losses: {team['games']['lose']['total']}\")\n",
    "            if team[\"group\"][\"name\"] == \"Western Conference\":\n",
    "                wc_standings.append(f\"{team['position']}. {team['team']['name']} wins: {team['games']['win']['total']} losses: {team['games']['lose']['total']}\")\n",
    "    return [wc_standings, ec_standings]"
   ]
  },
  {
   "cell_type": "code",
   "execution_count": 64,
   "metadata": {},
   "outputs": [],
   "source": [
    "def get_team_id(team_name: str) -> int:\n",
    "    team_name = team_name.replace(' ', '%20')\n",
    "    data = http_request(f'https://v1.basketball.api-sports.io/teams?name={team_name}', headers=headers).json()\n",
    "    \n",
    "    if data[\"response\"] == []:\n",
    "        return None\n",
    "    \n",
    "    return data[\"response\"][0][\"id\"]"
   ]
  },
  {
   "cell_type": "code",
   "execution_count": 100,
   "metadata": {},
   "outputs": [],
   "source": [
    "def get_team_game_today(team_name: str) -> list:\n",
    "    today = date.today()\n",
    "    team_name = team_name.replace(' ', '%20')\n",
    "    id = get_team_id(team_name)\n",
    "    if id == None:\n",
    "        return None\n",
    "    data = http_request(f'https://v1.basketball.api-sports.io/games?date={today}&timezone=Europe/Berlin&league=12&season=2022-2023&team={id}', headers=headers).json()\n",
    "    \n",
    "    if data[\"response\"] == []:\n",
    "        return None\n",
    "    \n",
    "    games = []\n",
    "    for game in data[\"response\"]:\n",
    "        games.append(f\"{game['teams']['home']['name']} {game['scores']['home']['total']} - {game['scores']['away']['total']} {game['teams']['away']['name']}\")\n",
    "    return games"
   ]
  }
 ],
 "metadata": {
  "kernelspec": {
   "display_name": "Python 3.10.7 ('advanced-software-engineering-z59G5ini-py3.10')",
   "language": "python",
   "name": "python3"
  },
  "language_info": {
   "codemirror_mode": {
    "name": "ipython",
    "version": 3
   },
   "file_extension": ".py",
   "mimetype": "text/x-python",
   "name": "python",
   "nbconvert_exporter": "python",
   "pygments_lexer": "ipython3",
   "version": "3.10.7"
  },
  "orig_nbformat": 4,
  "vscode": {
   "interpreter": {
    "hash": "d3e05ba949fdc18b1dd0500fc7b632904c50b940a8449ee214a924a5fd567400"
   }
  }
 },
 "nbformat": 4,
 "nbformat_minor": 2
}
