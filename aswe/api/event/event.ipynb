{
  "cells": [
    {
      "cell_type": "markdown",
      "metadata": {},
      "source": [
        "### Imports\n"
      ]
    },
    {
      "cell_type": "code",
      "execution_count": 1,
      "metadata": {},
      "outputs": [],
      "source": [
        "from aswe.api.event import event as eventApi\n",
        "from aswe.api.event.event_params import EventApiEventParams\n",
        "from aswe.utils.request import http_request"
      ]
    },
    {
      "cell_type": "markdown",
      "metadata": {},
      "source": [
        "## Event\n"
      ]
    },
    {
      "cell_type": "code",
      "execution_count": 2,
      "metadata": {},
      "outputs": [],
      "source": [
        "query_params = EventApiEventParams(\n",
        "    city=[\"Stuttgart\"],\n",
        "    start_date_time=\"2022-11-24T00:00:00Z\",\n",
        "    end_date_time=\"2023-01-01T00:00:00Z\",\n",
        "    radius=20,\n",
        "    locale=[\"de-de\"]\n",
        ")\n",
        "\n",
        "# query_params = EventApiEventParams(\n",
        "#     city=[\"Wien\", \"Berlin\"],\n",
        "#     start_date_time=\"2021-11-01T00:00:00Z\",\n",
        "#     end_date_time=\"2022-11-30T00:00:00Z\",\n",
        "#     locale=[\"de-at\"],\n",
        "#     radius=100,\n",
        "#     classification_id=[\"KZazBEonSMnZfZ7v6kl\"]\n",
        "# )"
      ]
    },
    {
      "cell_type": "code",
      "execution_count": 3,
      "metadata": {},
      "outputs": [
        {
          "name": "stderr",
          "output_type": "stream",
          "text": [
            "2022-12-04 21:35:42.398 | SUCCESS  | aswe.utils.request:http_request:38 - Successfully fetched data from https://app.ticketmaster.com/discovery/v2/events?apikey=neJAdTtlbleapdGjrcAnIjW92Fh8DAGa&radius=20&unit=km&locale=de-de&startDateTime=2022-11-24T00:00:00Z&endDateTime=2023-01-01T00:00:00Z&city=Stuttgart with status code 200\n",
            "2022-12-04 21:35:42.399 | ERROR    | aswe.api.event.event:_reduce_events:52 - 'dateTime'\n"
          ]
        }
      ],
      "source": [
        "# response_json = crawler.events(query_params)\n",
        "response_json = eventApi.events(query_params)"
      ]
    },
    {
      "cell_type": "code",
      "execution_count": 4,
      "metadata": {},
      "outputs": [
        {
          "name": "stdout",
          "output_type": "stream",
          "text": [
            "[{'id': 'Z698xZC2Z17uErA',\n",
            "  'location': {'address': 'Heiligenwiesen 6',\n",
            "               'city': 'Stuttgart',\n",
            "               'name': 'LKA Longhorn'},\n",
            "  'name': 'voXXclub',\n",
            "  'start': '2022-12-17T20:00:00Z',\n",
            "  'status': 'rescheduled'},\n",
            " {'id': 'Z698xZC2Z17CK8K',\n",
            "  'location': {'address': 'Mercedesstraße 69',\n",
            "               'city': 'Stuttgart',\n",
            "               'name': 'Hanns-Martin-Schleyer-Halle'},\n",
            "  'name': 'Kontra K',\n",
            "  'start': '2022-12-19T19:00:00Z',\n",
            "  'status': 'rescheduled'}]\n"
          ]
        }
      ],
      "source": [
        "from pprint import pprint\n",
        "\n",
        "pprint(response_json)"
      ]
    }
  ],
  "metadata": {
    "kernelspec": {
      "display_name": "Python 3.10.8 ('advanced_software_engineering-L_QK1PTp-py3.10')",
      "language": "python",
      "name": "python3"
    },
    "language_info": {
      "codemirror_mode": {
        "name": "ipython",
        "version": 3
      },
      "file_extension": ".py",
      "mimetype": "text/x-python",
      "name": "python",
      "nbconvert_exporter": "python",
      "pygments_lexer": "ipython3",
      "version": "3.10.8"
    },
    "orig_nbformat": 4,
    "vscode": {
      "interpreter": {
        "hash": "1120ed7f700493669c54a713268e7402ae15dd8c52c574dcfb56885e58683fa2"
      }
    }
  },
  "nbformat": 4,
  "nbformat_minor": 2
}
