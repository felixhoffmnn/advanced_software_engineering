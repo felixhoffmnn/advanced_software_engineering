{
  "cells": [
    {
      "cell_type": "markdown",
      "metadata": {},
      "source": [
        "### Imports\n"
      ]
    },
    {
      "cell_type": "code",
      "execution_count": 2,
      "metadata": {},
      "outputs": [],
      "source": [
        "from aswe.api.event.event import EventApi\n",
        "from aswe.api.event.event_params import EventApiEventParams\n",
        "from aswe.utils.request import http_request\n",
        "\n",
        "api = EventApi()"
      ]
    },
    {
      "cell_type": "markdown",
      "metadata": {},
      "source": [
        "## Event\n"
      ]
    },
    {
      "cell_type": "code",
      "execution_count": 3,
      "metadata": {},
      "outputs": [],
      "source": [
        "query_params = EventApiEventParams(\n",
        "    city=[\"Stuttgart\"],\n",
        "    start_date_time=\"2022-11-24T00:00:00Z\",\n",
        "    end_date_time=\"2023-01-01T00:00:00Z\",\n",
        "    radius=20,\n",
        "    locale=[\"de-de\"]\n",
        ")\n",
        "\n",
        "crawler = EventApi()\n",
        "# query_params = EventApiEventParams(\n",
        "#     city=[\"Wien\", \"Berlin\"],\n",
        "#     start_date_time=\"2021-11-01T00:00:00Z\",\n",
        "#     end_date_time=\"2022-11-30T00:00:00Z\",\n",
        "#     locale=[\"de-at\"],\n",
        "#     radius=100,\n",
        "#     classification_id=[\"KZazBEonSMnZfZ7v6kl\"]\n",
        "# )"
      ]
    },
    {
      "cell_type": "code",
      "execution_count": 4,
      "metadata": {},
      "outputs": [
        {
          "name": "stderr",
          "output_type": "stream",
          "text": [
            "2022-11-27 16:37:00.226 | SUCCESS  | aswe.utils.request:http_request:38 - Successfully fetched data from https://app.ticketmaster.com/discovery/v2/events?apikey=neJAdTtlbleapdGjrcAnIjW92Fh8DAGa&radius=20&unit=km&locale=de-de&startDateTime=2022-11-24T00:00:00Z&endDateTime=2023-01-01T00:00:00Z&city=Stuttgart\n"
          ]
        },
        {
          "name": "stdout",
          "output_type": "stream",
          "text": [
            "'dateTime'\n"
          ]
        }
      ],
      "source": [
        "# response_json = crawler.events(query_params)\n",
        "response_json = crawler.events(query_params)"
      ]
    },
    {
      "cell_type": "code",
      "execution_count": 5,
      "metadata": {},
      "outputs": [
        {
          "name": "stdout",
          "output_type": "stream",
          "text": [
            "[{'id': 'Z698xZC2Z17ot_s',\n",
            "  'location': {'address': {'line1': 'Heiligenwiesen 6'},\n",
            "               'city': 'Stuttgart',\n",
            "               'name': 'LKA Longhorn'},\n",
            "  'name': \"Ra'is\",\n",
            "  'start': '2022-11-28T19:30:00Z',\n",
            "  'status': 'cancelled'},\n",
            " {'id': 'Z698xZC2Z17uKed',\n",
            "  'location': {'address': {'line1': 'Mercedesstraße 69'},\n",
            "               'city': 'Stuttgart',\n",
            "               'name': 'Hanns-Martin-Schleyer-Halle'},\n",
            "  'name': 'Simply Red',\n",
            "  'start': '2022-11-27T19:00:00Z',\n",
            "  'status': 'rescheduled'},\n",
            " {'id': 'Z698xZC2Z17uf7t',\n",
            "  'location': {'address': {'line1': 'Mercedesstraße 69'},\n",
            "               'city': 'Stuttgart',\n",
            "               'name': 'Hanns-Martin-Schleyer-Halle'},\n",
            "  'name': 'Simply Red | Platin Tickets',\n",
            "  'start': '2022-11-27T19:00:00Z',\n",
            "  'status': 'rescheduled'},\n",
            " {'id': 'Z698xZC2Z17ufb_',\n",
            "  'location': {'address': {'line1': 'Mercedesstraße 69'},\n",
            "               'city': 'Stuttgart',\n",
            "               'name': 'Hanns-Martin-Schleyer-Halle'},\n",
            "  'name': 'Simply Red | VIP Packages',\n",
            "  'start': '2022-11-27T19:00:00Z',\n",
            "  'status': 'rescheduled'},\n",
            " {'id': 'Z698xZC2Z17ovF-',\n",
            "  'location': {'address': {'line1': 'Berliner Platz 1-3'},\n",
            "               'city': 'Stuttgart',\n",
            "               'name': 'Liederhalle (Beethovensaal)'},\n",
            "  'name': 'Anastacia',\n",
            "  'start': '2022-11-29T19:00:00Z',\n",
            "  'status': 'rescheduled'},\n",
            " {'id': 'Z698xZC2Z17oU_9',\n",
            "  'location': {'address': {'line1': 'Mercedesstraße 69'},\n",
            "               'city': 'Stuttgart',\n",
            "               'name': 'Hanns-Martin-Schleyer-Halle'},\n",
            "  'name': 'Volbeat | VIP Premium Fan Package',\n",
            "  'start': '2022-12-01T18:00:00Z',\n",
            "  'status': 'offsale'},\n",
            " {'id': 'Z698xZC2Z17oU_K',\n",
            "  'location': {'address': {'line1': 'Mercedesstraße 69'},\n",
            "               'city': 'Stuttgart',\n",
            "               'name': 'Hanns-Martin-Schleyer-Halle'},\n",
            "  'name': 'Volbeat | VIP Seated Fan Package',\n",
            "  'start': '2022-12-01T18:00:00Z',\n",
            "  'status': 'offsale'},\n",
            " {'id': 'Z698xZC2Z17otp9',\n",
            "  'location': {'address': {'line1': 'Mercedesstraße 69'},\n",
            "               'city': 'Stuttgart',\n",
            "               'name': 'Hanns-Martin-Schleyer-Halle'},\n",
            "  'name': 'Volbeat - Servant Of The Road World Tour 2022',\n",
            "  'start': '2022-12-01T18:00:00Z',\n",
            "  'status': 'rescheduled'},\n",
            " {'id': 'Z698xZC2Z17oI0P',\n",
            "  'location': {'address': {'line1': 'Mercedesstraße 69'},\n",
            "               'city': 'Stuttgart',\n",
            "               'name': 'Hanns-Martin-Schleyer-Halle'},\n",
            "  'name': 'Volbeat - Servant Of The Road World Tour 2022',\n",
            "  'start': '2022-12-02T18:00:00Z',\n",
            "  'status': 'onsale'},\n",
            " {'id': 'Z698xZC2Z17otPE',\n",
            "  'location': {'address': {'line1': 'Mercedesstraße 69'},\n",
            "               'city': 'Stuttgart',\n",
            "               'name': 'Hanns-Martin-Schleyer-Halle'},\n",
            "  'name': 'Volbeat | VIP Seated Fan Package',\n",
            "  'start': '2022-12-02T18:00:00Z',\n",
            "  'status': 'offsale'},\n",
            " {'id': 'Z698xZC2Z17otPt',\n",
            "  'location': {'address': {'line1': 'Mercedesstraße 69'},\n",
            "               'city': 'Stuttgart',\n",
            "               'name': 'Hanns-Martin-Schleyer-Halle'},\n",
            "  'name': 'Volbeat | VIP Premium Fan Package',\n",
            "  'start': '2022-12-02T18:00:00Z',\n",
            "  'status': 'offsale'},\n",
            " {'id': 'Z698xZC2Z17oPA6',\n",
            "  'location': {'address': {'line1': 'Kegelenstraße 21'},\n",
            "               'city': 'Stuttgart',\n",
            "               'name': 'clubCANN'},\n",
            "  'name': 'AB Syndrom',\n",
            "  'start': '2022-12-03T19:00:00Z',\n",
            "  'status': 'onsale'},\n",
            " {'id': 'Z698xZC2Z17uErA',\n",
            "  'location': {'address': {'line1': 'Heiligenwiesen 6'},\n",
            "               'city': 'Stuttgart',\n",
            "               'name': 'LKA Longhorn'},\n",
            "  'name': 'voXXclub',\n",
            "  'start': '2022-12-17T19:00:00Z',\n",
            "  'status': 'rescheduled'},\n",
            " {'id': 'Z698xZC2Z17CK8K',\n",
            "  'location': {'address': {'line1': 'Mercedesstraße 69'},\n",
            "               'city': 'Stuttgart',\n",
            "               'name': 'Hanns-Martin-Schleyer-Halle'},\n",
            "  'name': 'Kontra K',\n",
            "  'start': '2022-12-19T18:00:00Z',\n",
            "  'status': 'rescheduled'}]\n"
          ]
        }
      ],
      "source": [
        "from pprint import pprint\n",
        "\n",
        "pprint(response_json)"
      ]
    }
  ],
  "metadata": {
    "kernelspec": {
      "display_name": "Python 3.10.8 ('.venv': poetry)",
      "language": "python",
      "name": "python3"
    },
    "language_info": {
      "codemirror_mode": {
        "name": "ipython",
        "version": 3
      },
      "file_extension": ".py",
      "mimetype": "text/x-python",
      "name": "python",
      "nbconvert_exporter": "python",
      "pygments_lexer": "ipython3",
      "version": "3.10.8"
    },
    "orig_nbformat": 4,
    "vscode": {
      "interpreter": {
        "hash": "d286e004ad5e495e0888fdef4eddec5d849a3417c6c0097b56fb490337480676"
      }
    }
  },
  "nbformat": 4,
  "nbformat_minor": 2
}
