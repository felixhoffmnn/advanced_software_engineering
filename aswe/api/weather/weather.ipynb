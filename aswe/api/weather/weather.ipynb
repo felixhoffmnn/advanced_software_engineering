{
  "cells": [
    {
      "cell_type": "code",
      "execution_count": 1,
      "metadata": {},
      "outputs": [],
      "source": [
        "from aswe.api.weather.weather_params import ElementsEnum, IncludeEnum, DynamicPeriodEnum\n",
        "from aswe.api.weather.weather import WeatherApi\n",
        "from datetime import datetime\n",
        "from pprint import pprint"
      ]
    },
    {
      "cell_type": "code",
      "execution_count": 9,
      "metadata": {},
      "outputs": [
        {
          "name": "stderr",
          "output_type": "stream",
          "text": [
            "2022-11-30 17:59:43.845 | SUCCESS  | aswe.utils.request:http_request:38 - Successfully fetched data from https://weather.visualcrossing.com/VisualCrossingWebServices/rest/services/timeline/Stuttgart,DE/2022-12-03T20:00:00Z?key=N6XDYBF74RN82CAX6V6RZE5NN&unitGroup=metric&elements=datetime,precipprob,temp&include=hours\n"
          ]
        }
      ],
      "source": [
        "crawler = WeatherApi()\n",
        "\n",
        "# response_json = crawler.dynamic_range(\n",
        "#     location=\"Stuttgart,DE\",\n",
        "#     dynamic_period=DynamicPeriodEnum.NEXT_WEEKEND,\n",
        "#     elements=[ElementsEnum.DATETIME, ElementsEnum.PRECIP_PROB, ElementsEnum.TEMP],\n",
        "#     include=[IncludeEnum.HOURS],\n",
        "# )\n",
        "\n",
        "response_json = crawler.forecast(\n",
        "    location=\"Stuttgart,DE\",\n",
        "    start_date=\"2022-12-03T20:00:00Z\",\n",
        "    elements=[ElementsEnum.DATETIME, ElementsEnum.PRECIP_PROB, ElementsEnum.TEMP],\n",
        "    include=[IncludeEnum.HOURS],\n",
        ")\n",
        "\n",
        "# WeatherApi.PARAMS.ELEMENTS.PRECIP_TYPE, WeatherApi.PARAMS.ELEMENTS.FEELSLIKE"
      ]
    },
    {
      "cell_type": "code",
      "execution_count": 15,
      "metadata": {},
      "outputs": [
        {
          "data": {
            "text/plain": [
              "{'datetime': '12:00:00', 'temp': 2.4, 'precipprob': 0.0}"
            ]
          },
          "execution_count": 15,
          "metadata": {},
          "output_type": "execute_result"
        }
      ],
      "source": [
        "response_json[\"days\"][0][\"hours\"][12]"
      ]
    },
    {
      "cell_type": "code",
      "execution_count": 13,
      "metadata": {},
      "outputs": [
        {
          "name": "stdout",
          "output_type": "stream",
          "text": [
            "{'address': 'Stuttgart,DE',\n",
            " 'days': [{'datetime': '2022-12-03',\n",
            "           'hours': [{'datetime': '00:00:00', 'precipprob': 23.8, 'temp': 1.5},\n",
            "                     {'datetime': '01:00:00', 'precipprob': 23.8, 'temp': 1.4},\n",
            "                     {'datetime': '02:00:00', 'precipprob': 9.5, 'temp': 1.4},\n",
            "                     {'datetime': '03:00:00', 'precipprob': 9.5, 'temp': 1.1},\n",
            "                     {'datetime': '04:00:00', 'precipprob': 9.5, 'temp': 0.7},\n",
            "                     {'datetime': '05:00:00', 'precipprob': 9.5, 'temp': 0.2},\n",
            "                     {'datetime': '06:00:00', 'precipprob': 9.5, 'temp': 0.0},\n",
            "                     {'datetime': '07:00:00', 'precipprob': 9.5, 'temp': -0.2},\n",
            "                     {'datetime': '08:00:00', 'precipprob': 0.0, 'temp': 0.1},\n",
            "                     {'datetime': '09:00:00', 'precipprob': 0.0, 'temp': 0.4},\n",
            "                     {'datetime': '10:00:00', 'precipprob': 0.0, 'temp': 0.7},\n",
            "                     {'datetime': '11:00:00', 'precipprob': 0.0, 'temp': 1.3},\n",
            "                     {'datetime': '12:00:00', 'precipprob': 0.0, 'temp': 2.0},\n",
            "                     {'datetime': '13:00:00', 'precipprob': 0.0, 'temp': 2.7},\n",
            "                     {'datetime': '14:00:00', 'precipprob': 0.0, 'temp': 2.6},\n",
            "                     {'datetime': '15:00:00', 'precipprob': 0.0, 'temp': 2.5},\n",
            "                     {'datetime': '16:00:00', 'precipprob': 0.0, 'temp': 2.5},\n",
            "                     {'datetime': '17:00:00', 'precipprob': 0.0, 'temp': 2.2},\n",
            "                     {'datetime': '18:00:00', 'precipprob': 0.0, 'temp': 1.9},\n",
            "                     {'datetime': '19:00:00', 'precipprob': 0.0, 'temp': 1.6},\n",
            "                     {'datetime': '20:00:00', 'precipprob': 4.8, 'temp': 1.4},\n",
            "                     {'datetime': '21:00:00', 'precipprob': 4.8, 'temp': 1.3},\n",
            "                     {'datetime': '22:00:00', 'precipprob': 4.8, 'temp': 1.2},\n",
            "                     {'datetime': '23:00:00', 'precipprob': 4.8, 'temp': 1.0}],\n",
            "           'precipprob': 23.8,\n",
            "           'temp': 1.3},\n",
            "          {'datetime': '2022-12-04',\n",
            "           'hours': [{'datetime': '00:00:00', 'precipprob': 4.8, 'temp': 0.9},\n",
            "                     {'datetime': '01:00:00', 'precipprob': 4.8, 'temp': 0.8},\n",
            "                     {'datetime': '02:00:00', 'precipprob': 4.8, 'temp': 0.9},\n",
            "                     {'datetime': '03:00:00', 'precipprob': 4.8, 'temp': 0.9},\n",
            "                     {'datetime': '04:00:00', 'precipprob': 4.8, 'temp': 1.1},\n",
            "                     {'datetime': '05:00:00', 'precipprob': 4.8, 'temp': 1.1},\n",
            "                     {'datetime': '06:00:00', 'precipprob': 4.8, 'temp': 1.1},\n",
            "                     {'datetime': '07:00:00', 'precipprob': 4.8, 'temp': 1.1},\n",
            "                     {'datetime': '08:00:00', 'precipprob': 4.8, 'temp': 1.3},\n",
            "                     {'datetime': '09:00:00', 'precipprob': 4.8, 'temp': 1.5},\n",
            "                     {'datetime': '10:00:00', 'precipprob': 4.8, 'temp': 1.7},\n",
            "                     {'datetime': '11:00:00', 'precipprob': 4.8, 'temp': 2.2},\n",
            "                     {'datetime': '12:00:00', 'precipprob': 4.8, 'temp': 2.8},\n",
            "                     {'datetime': '13:00:00', 'precipprob': 4.8, 'temp': 3.4},\n",
            "                     {'datetime': '14:00:00', 'precipprob': 0.0, 'temp': 3.5},\n",
            "                     {'datetime': '15:00:00', 'precipprob': 0.0, 'temp': 3.6},\n",
            "                     {'datetime': '16:00:00', 'precipprob': 0.0, 'temp': 3.8},\n",
            "                     {'datetime': '17:00:00', 'precipprob': 0.0, 'temp': 3.4},\n",
            "                     {'datetime': '18:00:00', 'precipprob': 0.0, 'temp': 3.2},\n",
            "                     {'datetime': '19:00:00', 'precipprob': 0.0, 'temp': 2.9},\n",
            "                     {'datetime': '20:00:00', 'precipprob': 4.8, 'temp': 2.9},\n",
            "                     {'datetime': '21:00:00', 'precipprob': 4.8, 'temp': 2.9},\n",
            "                     {'datetime': '22:00:00', 'precipprob': 4.8, 'temp': 2.9},\n",
            "                     {'datetime': '23:00:00', 'precipprob': 4.8, 'temp': 1.4}],\n",
            "           'precipprob': 4.8,\n",
            "           'temp': 2.1}],\n",
            " 'latitude': 48.7678,\n",
            " 'longitude': 9.17203,\n",
            " 'queryCost': 1,\n",
            " 'resolvedAddress': 'Stuttgart, Baden-Württemberg, Deutschland',\n",
            " 'timezone': 'Europe/Berlin',\n",
            " 'tzoffset': 1.0}\n"
          ]
        },
        {
          "data": {
            "text/plain": [
              "'2022-12-03'"
            ]
          },
          "execution_count": 13,
          "metadata": {},
          "output_type": "execute_result"
        }
      ],
      "source": [
        "\n",
        "\n",
        "# print(response_json)\n",
        "\n",
        "hour = datetime.now().hour\n",
        "\n",
        "pprint(response_json)\n",
        "\n",
        "weather_day = response_json[\"days\"][0][\"datetime\"]\n",
        "weather_day"
      ]
    }
  ],
  "metadata": {
    "kernelspec": {
      "display_name": "Python 3.10.8 ('advanced_software_engineering-L_QK1PTp-py3.10')",
      "language": "python",
      "name": "python3"
    },
    "language_info": {
      "codemirror_mode": {
        "name": "ipython",
        "version": 3
      },
      "file_extension": ".py",
      "mimetype": "text/x-python",
      "name": "python",
      "nbconvert_exporter": "python",
      "pygments_lexer": "ipython3",
      "version": "3.10.8"
    },
    "orig_nbformat": 4,
    "vscode": {
      "interpreter": {
        "hash": "1120ed7f700493669c54a713268e7402ae15dd8c52c574dcfb56885e58683fa2"
      }
    }
  },
  "nbformat": 4,
  "nbformat_minor": 2
}
