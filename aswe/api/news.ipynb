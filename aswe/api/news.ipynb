{
  "cells": [
    {
      "cell_type": "code",
      "execution_count": 12,
      "metadata": {},
      "outputs": [],
      "source": [
        "import os\n",
        "import sys\n",
        "\n",
        "from aswe.utils.request import http_request"
      ]
    },
    {
      "cell_type": "code",
      "execution_count": 13,
      "metadata": {},
      "outputs": [],
      "source": [
        "API_key = os.getenv(\"NEWS_API_key\")"
      ]
    },
    {
      "cell_type": "code",
      "execution_count": 14,
      "metadata": {},
      "outputs": [],
      "source": [
        "def top_headlines_search(country = \"us\", max_results=3):\n",
        "    result = []\n",
        "    headline_request = http_request(\n",
        "        f\"https://newsapi.org/v2/top-headlines?country={country}&apiKey={API_key}\"\n",
        "    ).json()\n",
        "    if max_results > len(headline_request[\"articles\"]):\n",
        "        max_results = len(headline_request[\"articles\"])\n",
        "    for i in range(max_results):\n",
        "        result.append(headline_request[\"articles\"][i][\"title\"] + \": \" + headline_request[\"articles\"][i][\"description\"])\n",
        "    return result"
      ]
    },
    {
      "cell_type": "code",
      "execution_count": 15,
      "metadata": {},
      "outputs": [],
      "source": [
        "def keyword_search(keyword, max_results=3):\n",
        "    result = []\n",
        "    keyword_request = http_request(\n",
        "        f\"https://newsapi.org/v2/everything?q={keyword}&apiKey={API_key}\"\n",
        "    ).json()\n",
        "    if max_results > len(keyword_request[\"articles\"]):\n",
        "        max_results = len(keyword_request[\"articles\"])\n",
        "    for i in range(max_results):\n",
        "        result.append(keyword_request[\"articles\"][i][\"title\"] + \": \" + keyword_request[\"articles\"][i][\"description\"])\n",
        "    return result"
      ]
    },
    {
      "cell_type": "code",
      "execution_count": null,
      "metadata": {},
      "outputs": [],
      "source": []
    }
  ],
  "metadata": {
    "kernelspec": {
      "display_name": "Python 3.10.7 ('advanced-software-engineering-z59G5ini-py3.10')",
      "language": "python",
      "name": "python3"
    },
    "language_info": {
      "codemirror_mode": {
        "name": "ipython",
        "version": 3
      },
      "file_extension": ".py",
      "mimetype": "text/x-python",
      "name": "python",
      "nbconvert_exporter": "python",
      "pygments_lexer": "ipython3",
      "version": "3.10.7"
    },
    "orig_nbformat": 4,
    "vscode": {
      "interpreter": {
        "hash": "d3e05ba949fdc18b1dd0500fc7b632904c50b940a8449ee214a924a5fd567400"
      }
    }
  },
  "nbformat": 4,
  "nbformat_minor": 2
}
