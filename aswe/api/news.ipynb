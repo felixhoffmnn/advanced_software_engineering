{
 "cells": [
  {
   "cell_type": "code",
   "execution_count": 1,
   "metadata": {},
   "outputs": [],
   "source": [
    "import os\n",
    "import sys\n",
    "\n",
    "from aswe.utils.http_request import http_request"
   ]
  },
  {
   "cell_type": "code",
   "execution_count": 2,
   "metadata": {},
   "outputs": [],
   "source": [
    "API_key = os.getenv(\"NEWS_API_key\")"
   ]
  },
  {
   "cell_type": "code",
   "execution_count": 6,
   "metadata": {},
   "outputs": [],
   "source": [
    "def top_headlines_search(country = \"us\", max_results=3):\n",
    "    headline_request = http_request(\n",
    "        f\"https://newsapi.org/v2/top-headlines?country={country}&apiKey={API_key}\"\n",
    "    ).json()\n",
    "    if max_results > len(headline_request[\"articles\"]):\n",
    "        max_results = len(headline_request[\"articles\"])\n",
    "    result = [\n",
    "        f\"{headline_request['articles'][i]['title']}: {headline_request['articles'][i]['description']}\"\n",
    "        for i in range(max_results)\n",
    "    ]\n",
    "    return result"
   ]
  },
  {
   "cell_type": "code",
   "execution_count": 10,
   "metadata": {},
   "outputs": [],
   "source": [
    "def keyword_search(keyword, max_results=3):\n",
    "    result = \"\"\n",
    "    keyword_request = http_request(\n",
    "        f\"https://newsapi.org/v2/everything?q={keyword}&apiKey={API_key}\"\n",
    "    ).json()\n",
    "    if max_results > len(keyword_request[\"articles\"]):\n",
    "        max_results = len(keyword_request[\"articles\"])\n",
    "    result = [\n",
    "        f\"{keyword_request['articles'][i]['title']}: {keyword_request['articles'][i]['description']}\"\n",
    "        for i in range(max_results)\n",
    "    ]\n",
    "    return result"
   ]
  },
  {
   "cell_type": "code",
   "execution_count": 11,
   "metadata": {},
   "outputs": [
    {
     "name": "stderr",
     "output_type": "stream",
     "text": [
      "2022-11-10 09:18:56.882 | SUCCESS  | aswe.utils.http_request:http_request:32 - Successfully fetched data from https://newsapi.org/v2/top-headlines?country=us&apiKey=77d07b454fc9420f8d6a6321fb2dd975\n",
      "2022-11-10 09:18:57.173 | SUCCESS  | aswe.utils.http_request:http_request:32 - Successfully fetched data from https://newsapi.org/v2/everything?q=midterm elections&apiKey=77d07b454fc9420f8d6a6321fb2dd975\n"
     ]
    }
   ],
   "source": [
    "result1 = top_headlines_search()\n",
    "result2 = keyword_search(\"midterm elections\")"
   ]
  },
  {
   "cell_type": "code",
   "execution_count": 12,
   "metadata": {},
   "outputs": [
    {
     "name": "stdout",
     "output_type": "stream",
     "text": [
      "['Tapper: Why this year\\'s midterms are like \\'Sharknado\\': CNN\\'s Jake Tapper explains why the 2022 midterm elections are shaping up to be one of the \"weirdest and least predictable\" midterms in modern memory.', 'Twitter cut 15 percent of its trust and safety staff but says it won’t impact moderation: Twitter’s head of safety and integrity Yoel Roth claims the company’s “core moderation capabilities” are still in place despite recent job cuts. Moderation has been a concern ahead of the upcoming midterm elections.', 'US midterm elections: What do people care about?: Abortion, inflation, gun control and voting rights are some topics being widely debated by US voters.']\n"
     ]
    }
   ],
   "source": [
    "print(result2)"
   ]
  },
  {
   "cell_type": "code",
   "execution_count": null,
   "metadata": {},
   "outputs": [],
   "source": []
  }
 ],
 "metadata": {
  "kernelspec": {
   "display_name": "Python 3.10.8 ('advanced-software-engineering-1dLge2xI-py3.10')",
   "language": "python",
   "name": "python3"
  },
  "language_info": {
   "codemirror_mode": {
    "name": "ipython",
    "version": 3
   },
   "file_extension": ".py",
   "mimetype": "text/x-python",
   "name": "python",
   "nbconvert_exporter": "python",
   "pygments_lexer": "ipython3",
   "version": "3.10.8"
  },
  "orig_nbformat": 4,
  "vscode": {
   "interpreter": {
    "hash": "559d28ad8bdf1afbc113991f661d3a3d2183e7932bc3daf0a788ec2f684f3799"
   }
  }
 },
 "nbformat": 4,
 "nbformat_minor": 2
}
