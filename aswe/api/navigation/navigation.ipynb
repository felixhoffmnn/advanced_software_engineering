{
 "cells": [
  {
   "cell_type": "code",
   "execution_count": 3,
   "metadata": {},
   "outputs": [],
   "source": [
    "import os\n",
    "from datetime import datetime\n",
    "\n",
    "import googlemaps as gmaps\n",
    "from vvspy import get_departures, get_trips\n",
    "from vvspy.obj import Departure, Trip"
   ]
  },
  {
   "cell_type": "code",
   "execution_count": 4,
   "metadata": {},
   "outputs": [],
   "source": [
    "station_1 = \"de:08111:355\"  # Wallgraben\n",
    "station_2 = \"de:08111:6002\"  # Vaihingen\n",
    "station_3 = \"de:08111:6112\"  # Hauptbahnhof\n",
    "station_4 = \"de:08111:6056\"  # Stadtmitte"
   ]
  },
  {
   "cell_type": "code",
   "execution_count": 5,
   "metadata": {},
   "outputs": [
    {
     "name": "stdout",
     "output_type": "stream",
     "text": [
      "[Delayed] [17:00] [81]: Lambertweg - Büsnau\n",
      "[Delayed] [17:01] [S3]: Backnang - Flughafen/Messe\n",
      "[17:00] [U1]: Vaihingen Bf - Fellbach\n",
      "[Delayed] [17:01] [S3]: Flughafen/Messe - Backnang\n",
      "[17:03] [U3]: Vaihingen Bf - Plieningen\n",
      "[17:06] [82]: Rohr Mitte - Waldeck\n",
      "[17:10] [S2]: Schorndorf - Filderstadt\n",
      "[17:10] [U1]: Vaihingen Bf - Fellbach\n",
      "[Delayed] [17:12] [S1]: Herrenberg - Kirchheim (T)\n",
      "[17:13] [U3]: Vaihingen Bf - Plieningen\n"
     ]
    }
   ],
   "source": [
    "\"\"\"\n",
    "Get specific data about incoming departure \n",
    "and e.g. display them on a monitor\n",
    "\"\"\"\n",
    "\n",
    "result = get_departures(station_2, limit=10)\n",
    "\n",
    "if result:\n",
    "    for res in result:\n",
    "        print(res)"
   ]
  },
  {
   "cell_type": "code",
   "execution_count": 6,
   "metadata": {},
   "outputs": [
    {
     "name": "stdout",
     "output_type": "stream",
     "text": [
      "Connection (13 minutes):\n",
      "[S1]: [Delayed] [16:09] @ Stadtmitte - [Delayed] [16:20] @ Vaihingen\n",
      "[U3]: [16:23] @ Vaihingen Bf - [16:25] @ Wallgraben\n",
      "Connection (27 minutes):\n",
      "[S3]: [Delayed] [16:14] @ Stadtmitte - [16:15] @ Stuttgart Hauptbahnhof (tief)\n",
      "[Walk]: [16:17] @ Stuttgart Hauptbahnhof (tief) - [16:21] @ Hauptbf (Arnulf-Klett-Platz)\n",
      "[U12]: [16:21] @ Hauptbf (A.-Klett-Pl.) - [Delayed] [16:43] @ Wallgraben\n",
      "Connection (14 minutes):\n",
      "[S3]: [Delayed] [16:19] @ Stadtmitte - [Delayed] [16:31] @ Vaihingen\n",
      "[U3]: [16:43] @ Vaihingen Bf - [16:45] @ Wallgraben\n",
      "Connection (21 minutes):\n",
      "[U14]: [16:22] @ Rotebühlplatz - [16:25] @ Charlottenplatz\n",
      "[U12]: [16:34] @ Charlottenplatz - [16:52] @ Wallgraben\n"
     ]
    }
   ],
   "source": [
    "result = get_trips(station_4, station_1, limit=10)\n",
    "\n",
    "if result:\n",
    "    for res in result:\n",
    "        print(res)"
   ]
  },
  {
   "cell_type": "code",
   "execution_count": 7,
   "metadata": {},
   "outputs": [
    {
     "name": "stdout",
     "output_type": "stream",
     "text": [
      "Duration: 14 (not accurate)\n",
      "With S1 from Stadtmitte at 2022-12-04 18:07:00 to Vaihingen at 2022-12-04 18:19:00\n",
      "With U3 from Vaihingen Bf at 2022-12-04 18:31:00 to Wallgraben at 2022-12-04 18:33:24\n",
      "Real Duration: 26\n",
      "Duration: 21 (not accurate)\n",
      "With 43 from Rotebühlplatz at 2022-12-04 18:13:00 to Charlottenplatz at 2022-12-04 18:17:00\n",
      "With U12 from Charlottenplatz at 2022-12-04 18:20:00 to Wallgraben at 2022-12-04 18:37:00\n",
      "Real Duration: 24\n",
      "Duration: 14 (not accurate)\n",
      "With S2 from Stadtmitte at 2022-12-04 18:27:00 to Vaihingen at 2022-12-04 18:39:00\n",
      "With U3 from Vaihingen Bf at 2022-12-04 18:46:00 to Wallgraben at 2022-12-04 18:48:24\n",
      "Real Duration: 21\n",
      "Duration: 21 (not accurate)\n",
      "With 43 from Rotebühlplatz at 2022-12-04 18:28:00 to Charlottenplatz at 2022-12-04 18:32:00\n",
      "With U12 from Charlottenplatz at 2022-12-04 18:35:00 to Wallgraben at 2022-12-04 18:52:00\n",
      "Real Duration: 24\n"
     ]
    }
   ],
   "source": [
    "from datetime import timedelta\n",
    "from typing import List\n",
    "\n",
    "from requests import Response\n",
    "\n",
    "\n",
    "result = get_trips(station_4, station_1, check_time=datetime.now()+timedelta(hours=2), limit=10)\n",
    "\n",
    "if result is not None and not isinstance(result, Response):\n",
    "    for res in result:\n",
    "        print(f\"Duration: {int(res.duration/ 60)} (not accurate)\")\n",
    "        for connection in res.connections:\n",
    "            print(f\"With {connection.transportation.disassembled_name} from {connection.origin.name} at {connection.origin.departure_time_estimated} to {connection.destination.name} at {connection.destination.arrival_time_estimated}\")\n",
    "        print(f\"Real Duration: {int((res.connections[-1].destination.arrival_time_estimated - res.connections[0].origin.departure_time_estimated).total_seconds()/60)}\")"
   ]
  },
  {
   "cell_type": "code",
   "execution_count": 10,
   "metadata": {},
   "outputs": [
    {
     "name": "stdout",
     "output_type": "stream",
     "text": [
      "Trip 1:\n",
      "Duration: 27\n",
      "Connection: S1 Stadtmitte to Stuttgart Hauptbahnhof (tief) [17:25 - 17:26]\n",
      "Connection: Walk Stuttgart Hauptbahnhof (tief) to Hauptbf (Arnulf-Klett-Platz) [17:27 - 17:31]\n",
      "Connection: U12 Hauptbf (A.-Klett-Pl.) to Wallgraben [17:31 - 17:52]\n",
      "Trip 2:\n",
      "Duration: 24\n",
      "Connection: 43 Rotebühlplatz to Charlottenplatz [19:43 - 19:47]\n",
      "Connection: U12 Charlottenplatz to Wallgraben [19:50 - 20:07]\n"
     ]
    }
   ],
   "source": [
    "from aswe.api.navigation.vvs import get_next_connection, get_latest_connection\n",
    "\n",
    "trip_1 = get_next_connection(station_4, station_1)\n",
    "trip_2 = get_latest_connection(station_4, station_1, datetime.now()+timedelta(hours=3))\n",
    "\n",
    "print(f\"Trip 1:\")\n",
    "print(f\"Duration: {trip_1.duration}\")\n",
    "for con in trip_1.connections:\n",
    "    print(f\"Connection: {con.train_name} {con.start_location} to {con.end_location} [{con.start_time.strftime('%H:%M')} - {con.end_time.strftime('%H:%M')}]\")\n",
    "\n",
    "print(f\"Trip 2:\")\n",
    "print(f\"Duration: {trip_2.duration}\")\n",
    "for con in trip_2.connections:\n",
    "    print(f\"Connection: {con.train_name} {con.start_location} to {con.end_location} [{con.start_time.strftime('%H:%M')} - {con.end_time.strftime('%H:%M')}]\")\n"
   ]
  },
  {
   "cell_type": "code",
   "execution_count": null,
   "metadata": {},
   "outputs": [
    {
     "name": "stdout",
     "output_type": "stream",
     "text": [
      "\n",
      " API queries_quota: 60 \n",
      "\n"
     ]
    }
   ],
   "source": [
    "client = gmaps.Client(key=os.getenv(\"GOOGLE_MAPS_API_KEY\"))"
   ]
  },
  {
   "cell_type": "code",
   "execution_count": null,
   "metadata": {},
   "outputs": [
    {
     "ename": "NameError",
     "evalue": "name 'datetime' is not defined",
     "output_type": "error",
     "traceback": [
      "\u001b[0;31m---------------------------------------------------------------------------\u001b[0m",
      "\u001b[0;31mNameError\u001b[0m                                 Traceback (most recent call last)",
      "\u001b[0;32m/tmp/ipykernel_58039/173027778.py\u001b[0m in \u001b[0;36m<module>\u001b[0;34m\u001b[0m\n\u001b[0;32m----> 1\u001b[0;31m \u001b[0mnow\u001b[0m \u001b[0;34m=\u001b[0m \u001b[0mdatetime\u001b[0m\u001b[0;34m.\u001b[0m\u001b[0mnow\u001b[0m\u001b[0;34m(\u001b[0m\u001b[0;34m)\u001b[0m\u001b[0;34m\u001b[0m\u001b[0;34m\u001b[0m\u001b[0m\n\u001b[0m\u001b[1;32m      2\u001b[0m \u001b[0mdirections_result\u001b[0m \u001b[0;34m=\u001b[0m \u001b[0mclient\u001b[0m\u001b[0;34m.\u001b[0m\u001b[0mdirections\u001b[0m\u001b[0;34m(\u001b[0m\u001b[0;34m\"Sydney Town Hall\"\u001b[0m\u001b[0;34m,\u001b[0m \u001b[0;34m\"Parramatta, NSW\"\u001b[0m\u001b[0;34m,\u001b[0m \u001b[0mmode\u001b[0m\u001b[0;34m=\u001b[0m\u001b[0;34m\"bicycling\"\u001b[0m\u001b[0;34m)\u001b[0m\u001b[0;34m\u001b[0m\u001b[0;34m\u001b[0m\u001b[0m\n\u001b[1;32m      3\u001b[0m \u001b[0;34m\u001b[0m\u001b[0m\n\u001b[1;32m      4\u001b[0m \u001b[0mdirections_result\u001b[0m\u001b[0;34m\u001b[0m\u001b[0;34m\u001b[0m\u001b[0m\n",
      "\u001b[0;31mNameError\u001b[0m: name 'datetime' is not defined"
     ]
    }
   ],
   "source": [
    "now = datetime.now()\n",
    "directions_result = client.directions(\"Sydney Town Hall\", \"Parramatta, NSW\", mode=\"bicycling\")\n",
    "\n",
    "directions_result"
   ]
  }
 ],
 "metadata": {
  "kernelspec": {
   "display_name": "Python 3.10.8 ('.venv': poetry)",
   "language": "python",
   "name": "python3"
  },
  "language_info": {
   "codemirror_mode": {
    "name": "ipython",
    "version": 3
   },
   "file_extension": ".py",
   "mimetype": "text/x-python",
   "name": "python",
   "nbconvert_exporter": "python",
   "pygments_lexer": "ipython3",
   "version": "3.10.8"
  },
  "orig_nbformat": 4,
  "vscode": {
   "interpreter": {
    "hash": "476345c094002d1e482b4a3e6315a3300ac484ca3dd1b6db1a1c5de2821d734f"
   }
  }
 },
 "nbformat": 4,
 "nbformat_minor": 2
}
