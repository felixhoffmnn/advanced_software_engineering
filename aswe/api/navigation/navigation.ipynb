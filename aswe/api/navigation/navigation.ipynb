{
 "cells": [
  {
   "cell_type": "code",
   "execution_count": 2,
   "metadata": {},
   "outputs": [
    {
     "ename": "ModuleNotFoundError",
     "evalue": "No module named 'vvspy'",
     "output_type": "error",
     "traceback": [
      "\u001b[0;31m---------------------------------------------------------------------------\u001b[0m",
      "\u001b[0;31mModuleNotFoundError\u001b[0m                       Traceback (most recent call last)",
      "\u001b[0;32m/tmp/ipykernel_58039/2196762720.py\u001b[0m in \u001b[0;36m<module>\u001b[0;34m\u001b[0m\n\u001b[1;32m      3\u001b[0m \u001b[0;34m\u001b[0m\u001b[0m\n\u001b[1;32m      4\u001b[0m \u001b[0;32mimport\u001b[0m \u001b[0mgooglemaps\u001b[0m \u001b[0;32mas\u001b[0m \u001b[0mgmaps\u001b[0m\u001b[0;34m\u001b[0m\u001b[0;34m\u001b[0m\u001b[0m\n\u001b[0;32m----> 5\u001b[0;31m \u001b[0;32mfrom\u001b[0m \u001b[0mvvspy\u001b[0m \u001b[0;32mimport\u001b[0m \u001b[0mget_departures\u001b[0m\u001b[0;34m,\u001b[0m \u001b[0mget_trips\u001b[0m\u001b[0;34m\u001b[0m\u001b[0;34m\u001b[0m\u001b[0m\n\u001b[0m\u001b[1;32m      6\u001b[0m \u001b[0;32mfrom\u001b[0m \u001b[0mvvspy\u001b[0m\u001b[0;34m.\u001b[0m\u001b[0mobj\u001b[0m \u001b[0;32mimport\u001b[0m \u001b[0mDeparture\u001b[0m\u001b[0;34m,\u001b[0m \u001b[0mTrip\u001b[0m\u001b[0;34m\u001b[0m\u001b[0;34m\u001b[0m\u001b[0m\n",
      "\u001b[0;31mModuleNotFoundError\u001b[0m: No module named 'vvspy'"
     ]
    }
   ],
   "source": [
    "import os\n",
    "from datetime import datetime\n",
    "\n",
    "import googlemaps as gmaps\n",
    "from vvspy import get_departures, get_trips\n",
    "from vvspy.obj import Departure, Trip"
   ]
  },
  {
   "cell_type": "code",
   "execution_count": null,
   "metadata": {},
   "outputs": [],
   "source": [
    "station_1 = \"de:08111:355\"  # Wallgraben\n",
    "station_2 = \"de:08111:6002\"  # Vaihingen\n",
    "station_3 = \"de:08111:6112\"  # Hauptbahnhof\n",
    "station_4 = \"de:08111:6056\"  # Stadtmitte"
   ]
  },
  {
   "cell_type": "code",
   "execution_count": null,
   "metadata": {},
   "outputs": [
    {
     "name": "stdout",
     "output_type": "stream",
     "text": [
      "[Delayed] [10:45] [S1]: Herrenberg - Kirchheim (T)\n",
      "[10:45] [S3]: Vaihingen - Backnang\n",
      "[Delayed] [10:48] [82]: Rohr Mitte - Waldeck\n",
      "[10:49] [81]: Lambertweg - Büsnau\n",
      "[10:49] [81]: Büsnauer Platz - Dürrlewang\n",
      "[10:50] [S2]: Filderstadt - Schorndorf\n",
      "[10:50] [U1]: Vaihingen Bf - Fellbach\n",
      "[Delayed] [10:51] [S1]: Kirchheim (T) - Herrenberg\n",
      "[10:53] [U3]: Vaihingen Bf - Plieningen\n",
      "[10:54] [84]: Vaihingen ZOB - Universität\n"
     ]
    }
   ],
   "source": [
    "\"\"\"\n",
    "Get specific data about incoming departure \n",
    "and e.g. display them on a monitor\n",
    "\"\"\"\n",
    "\n",
    "result = get_departures(station_2, limit=10)\n",
    "\n",
    "if result:\n",
    "    for res in result:\n",
    "        print(res)"
   ]
  },
  {
   "cell_type": "code",
   "execution_count": null,
   "metadata": {},
   "outputs": [
    {
     "name": "stdout",
     "output_type": "stream",
     "text": [
      "Connection (12 minutes):\n",
      "[S2]: [Delayed] [09:47] @ Stadtmitte - [Delayed] [09:59] @ Vaihingen\n",
      "Connection (12 minutes):\n",
      "[S3]: [Delayed] [09:52] @ Stadtmitte - [Delayed] [10:04] @ Vaihingen\n",
      "Connection (11 minutes):\n",
      "[S1]: [Delayed] [09:55] @ Stadtmitte - [Delayed] [10:06] @ Vaihingen\n",
      "Connection (13 minutes):\n",
      "[S2]: [Delayed] [10:00] @ Stadtmitte - [Delayed] [10:13] @ Vaihingen\n"
     ]
    }
   ],
   "source": [
    "result = get_trips(station_4, station_2, limit=10)\n",
    "\n",
    "if result:\n",
    "    for res in result:\n",
    "        print(res)"
   ]
  },
  {
   "cell_type": "code",
   "execution_count": null,
   "metadata": {},
   "outputs": [
    {
     "name": "stdout",
     "output_type": "stream",
     "text": [
      "\n",
      " API queries_quota: 60 \n",
      "\n"
     ]
    }
   ],
   "source": [
    "client = gmaps.Client(key=os.getenv(\"GOOGLE_MAPS_API_KEY\"))"
   ]
  },
  {
   "cell_type": "code",
   "execution_count": 1,
   "metadata": {},
   "outputs": [
    {
     "ename": "NameError",
     "evalue": "name 'datetime' is not defined",
     "output_type": "error",
     "traceback": [
      "\u001b[0;31m---------------------------------------------------------------------------\u001b[0m",
      "\u001b[0;31mNameError\u001b[0m                                 Traceback (most recent call last)",
      "\u001b[0;32m/tmp/ipykernel_58039/173027778.py\u001b[0m in \u001b[0;36m<module>\u001b[0;34m\u001b[0m\n\u001b[0;32m----> 1\u001b[0;31m \u001b[0mnow\u001b[0m \u001b[0;34m=\u001b[0m \u001b[0mdatetime\u001b[0m\u001b[0;34m.\u001b[0m\u001b[0mnow\u001b[0m\u001b[0;34m(\u001b[0m\u001b[0;34m)\u001b[0m\u001b[0;34m\u001b[0m\u001b[0;34m\u001b[0m\u001b[0m\n\u001b[0m\u001b[1;32m      2\u001b[0m \u001b[0mdirections_result\u001b[0m \u001b[0;34m=\u001b[0m \u001b[0mclient\u001b[0m\u001b[0;34m.\u001b[0m\u001b[0mdirections\u001b[0m\u001b[0;34m(\u001b[0m\u001b[0;34m\"Sydney Town Hall\"\u001b[0m\u001b[0;34m,\u001b[0m \u001b[0;34m\"Parramatta, NSW\"\u001b[0m\u001b[0;34m,\u001b[0m \u001b[0mmode\u001b[0m\u001b[0;34m=\u001b[0m\u001b[0;34m\"bicycling\"\u001b[0m\u001b[0;34m)\u001b[0m\u001b[0;34m\u001b[0m\u001b[0;34m\u001b[0m\u001b[0m\n\u001b[1;32m      3\u001b[0m \u001b[0;34m\u001b[0m\u001b[0m\n\u001b[1;32m      4\u001b[0m \u001b[0mdirections_result\u001b[0m\u001b[0;34m\u001b[0m\u001b[0;34m\u001b[0m\u001b[0m\n",
      "\u001b[0;31mNameError\u001b[0m: name 'datetime' is not defined"
     ]
    }
   ],
   "source": [
    "now = datetime.now()\n",
    "directions_result = client.directions(\"Sydney Town Hall\", \"Parramatta, NSW\", mode=\"bicycling\")\n",
    "\n",
    "directions_result"
   ]
  }
 ],
 "metadata": {
  "kernelspec": {
   "display_name": "Python 3.7.15 ('.venv': poetry)",
   "language": "python",
   "name": "python3"
  },
  "language_info": {
   "codemirror_mode": {
    "name": "ipython",
    "version": 3
   },
   "file_extension": ".py",
   "mimetype": "text/x-python",
   "name": "python",
   "nbconvert_exporter": "python",
   "pygments_lexer": "ipython3",
   "version": "3.7.15"
  },
  "orig_nbformat": 4,
  "vscode": {
   "interpreter": {
    "hash": "bc6869f430160c52400ea7a1020277e7de2406d4fd413cb69cf07bee30138b54"
   }
  }
 },
 "nbformat": 4,
 "nbformat_minor": 2
}
