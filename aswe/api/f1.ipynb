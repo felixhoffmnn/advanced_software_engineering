{
 "cells": [
  {
   "cell_type": "code",
   "execution_count": 87,
   "metadata": {},
   "outputs": [],
   "source": [
    "from src.utils.http_request import http_request\n",
    "from pandas.io.json import json_normalize"
   ]
  },
  {
   "cell_type": "code",
   "execution_count": 88,
   "metadata": {},
   "outputs": [],
   "source": [
    "def get_results_by_round(year, round):\n",
    "    \"\"\"Get results for a given year.\n",
    "\n",
    "    Args:\n",
    "        year (int): Year to get results for.\n",
    "        round (int): Round to get results for.\n",
    "\n",
    "    Returns:\n",
    "        list: List of results.\n",
    "    \"\"\"\n",
    "    url = f\"https://ergast.com/api/f1/{year}/{round}/results.json\"\n",
    "    response = http_request(url).json()\n",
    "    \n",
    "    if response[\"MRData\"][\"total\"] == \"0\":\n",
    "        return None\n",
    "    result = [\n",
    "        f\"{driver['Driver']['givenName']} {driver['Driver']['familyName']} - {driver['Constructor']['name']} - {driver['position']}\"\n",
    "        for driver in response[\"MRData\"][\"RaceTable\"][\"Races\"][0][\"Results\"]\n",
    "    ]\n",
    "    return result"
   ]
  },
  {
   "cell_type": "code",
   "execution_count": 89,
   "metadata": {},
   "outputs": [],
   "source": [
    "def get_results_next_round():\n",
    "    \"\"\"Get results for the next round.\n",
    "\n",
    "    Args:\n",
    "        year (int): Year to get results for.\n",
    "        round (int): Round to get results for.\n",
    "\n",
    "    Returns:\n",
    "        list: List of results.\n",
    "    \"\"\"\n",
    "    url = f\"https://ergast.com/api/f1/current/next/results.json\"\n",
    "    response = http_request(url).json()\n",
    "    \n",
    "    if response[\"MRData\"][\"total\"] == \"0\":\n",
    "        return None\n",
    "    result = [\n",
    "        f\"{driver['Driver']['givenName']} {driver['Driver']['familyName']} - {driver['Constructor']['name']} - {driver['position']}\"\n",
    "        for driver in response[\"MRData\"][\"RaceTable\"][\"Races\"][0][\"Results\"]\n",
    "    ]\n",
    "    return result"
   ]
  },
  {
   "cell_type": "code",
   "execution_count": 90,
   "metadata": {},
   "outputs": [],
   "source": [
    "def get_results_last_round():\n",
    "    \"\"\"Get results for the next round.\n",
    "\n",
    "    Args:\n",
    "        year (int): Year to get results for.\n",
    "        round (int): Round to get results for.\n",
    "\n",
    "    Returns:\n",
    "        list: List of results.\n",
    "    \"\"\"\n",
    "    url = f\"https://ergast.com/api/f1/current/last/results.json\"\n",
    "    response = http_request(url).json()\n",
    "\n",
    "    result = [\n",
    "        f\"{driver['Driver']['givenName']} {driver['Driver']['familyName']} - {driver['Constructor']['name']} - {driver['position']}\"\n",
    "        for driver in response[\"MRData\"][\"RaceTable\"][\"Races\"][0][\"Results\"]\n",
    "    ]\n",
    "    return result"
   ]
  },
  {
   "cell_type": "code",
   "execution_count": 83,
   "metadata": {},
   "outputs": [
    {
     "name": "stderr",
     "output_type": "stream",
     "text": [
      "2022-11-07 22:11:40.118 | SUCCESS  | src.utils.http_request:http_request:32 - Successfully fetched data from https://ergast.com/api/f1/current/last/results.json\n"
     ]
    }
   ],
   "source": []
  }
 ],
 "metadata": {
  "kernelspec": {
   "display_name": "Python 3.10.7 ('advanced-software-engineering-z59G5ini-py3.10')",
   "language": "python",
   "name": "python3"
  },
  "language_info": {
   "codemirror_mode": {
    "name": "ipython",
    "version": 3
   },
   "file_extension": ".py",
   "mimetype": "text/x-python",
   "name": "python",
   "nbconvert_exporter": "python",
   "pygments_lexer": "ipython3",
   "version": "3.10.7"
  },
  "orig_nbformat": 4,
  "vscode": {
   "interpreter": {
    "hash": "d3e05ba949fdc18b1dd0500fc7b632904c50b940a8449ee214a924a5fd567400"
   }
  }
 },
 "nbformat": 4,
 "nbformat_minor": 2
}
