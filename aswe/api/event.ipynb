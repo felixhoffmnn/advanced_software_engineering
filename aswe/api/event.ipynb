{
  "cells": [
    {
      "cell_type": "markdown",
      "metadata": {},
      "source": [
        "## Event\n"
      ]
    },
    {
      "cell_type": "markdown",
      "metadata": {},
      "source": [
        "### Imports\n"
      ]
    },
    {
      "cell_type": "code",
      "execution_count": 3,
      "metadata": {},
      "outputs": [],
      "source": [
        "from aswe.api.event.event import EventApi\n",
        "from aswe.utils.request import http_request\n",
        "\n",
        "api = EventApi()"
      ]
    },
    {
      "cell_type": "markdown",
      "metadata": {},
      "source": [
        "### Examples\n"
      ]
    },
    {
      "cell_type": "code",
      "execution_count": 5,
      "metadata": {},
      "outputs": [],
      "source": [
        "crawler = EventApi()\n",
        "# query_params = EventApiEventParams(\n",
        "#     city=[\"Wien\", \"Berlin\"],\n",
        "#     start_date_time=\"2021-11-01T00:00:00Z\",\n",
        "#     end_date_time=\"2022-11-30T00:00:00Z\",\n",
        "#     locale=[\"de-at\"],\n",
        "#     radius=100,\n",
        "#     classification_id=[\"KZazBEonSMnZfZ7v6kl\"]\n",
        "# )\n",
        "\n",
        "query_params = EventApiClassificationParams(\n",
        "    id=\"KZazBEonSMnZfZ7vFnt\"\n",
        ")"
      ]
    },
    {
      "cell_type": "code",
      "execution_count": 6,
      "metadata": {},
      "outputs": [
        {
          "name": "stderr",
          "output_type": "stream",
          "text": [
            "2022-11-09 17:20:33.245 | SUCCESS  | src.utils.http_request:http_request:32 - Successfully fetched data from https://app.ticketmaster.com/discovery/v2/classifications?apikey=neJAdTtlbleapdGjrcAnIjW92Fh8DAGa&id=KZazBEonSMnZfZ7vFnt\n"
          ]
        }
      ],
      "source": [
        "# response_json = crawler.events(query_params)\n",
        "response_json = crawler.classifications(query_params)"
      ]
    },
    {
      "cell_type": "code",
      "execution_count": 7,
      "metadata": {},
      "outputs": [
        {
          "name": "stdout",
          "output_type": "stream",
          "text": [
            "{'_embedded': {'classifications': [{'family': False, '_links': {'self': {'href': '/discovery/v2/classifications/KZFzniwnSyZfZ7v7n1?locale=en-us'}}, 'segment': {'id': 'KZFzniwnSyZfZ7v7n1', 'name': 'Miscellaneous', 'locale': 'en-us', 'primaryId': 'dataAdmin-segment-00000000000003e9', '_links': {'self': {'href': '/discovery/v2/classifications/segments/KZFzniwnSyZfZ7v7n1?locale=en-us'}}, '_embedded': {'genres': [{'id': 'KnvZfZ7vAAa', 'name': 'Casino/Gaming', 'locale': 'en-us', '_links': {'self': {'href': '/discovery/v2/classifications/genres/KnvZfZ7vAAa?locale=en-us'}}, '_embedded': {'subgenres': [{'id': 'KZazBEonSMnZfZ7vFnt', 'name': 'Casino/Gaming', 'locale': 'en-us', '_links': {'self': {'href': '/discovery/v2/classifications/subgenres/KZazBEonSMnZfZ7vFnt?locale=en-us'}}}]}}]}}}]}, '_links': {'self': {'href': '/discovery/v2/classifications?id=KZazBEonSMnZfZ7vFnt'}}, 'page': {'size': 20, 'totalElements': 1, 'totalPages': 1, 'number': 0}}\n"
          ]
        }
      ],
      "source": [
        "print(response_json)"
      ]
    }
  ],
  "metadata": {
    "kernelspec": {
      "display_name": "Python 3.10.7 ('advanced-software-engineering-z59G5ini-py3.10')",
      "language": "python",
      "name": "python3"
    },
    "language_info": {
      "codemirror_mode": {
        "name": "ipython",
        "version": 3
      },
      "file_extension": ".py",
      "mimetype": "text/x-python",
      "name": "python",
      "nbconvert_exporter": "python",
      "pygments_lexer": "ipython3",
      "version": "3.10.7"
    },
    "orig_nbformat": 4,
    "vscode": {
      "interpreter": {
        "hash": "d3e05ba949fdc18b1dd0500fc7b632904c50b940a8449ee214a924a5fd567400"
      }
    }
  },
  "nbformat": 4,
  "nbformat_minor": 2
}
