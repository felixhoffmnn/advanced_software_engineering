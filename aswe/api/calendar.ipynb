{
 "cells": [
  {
   "cell_type": "code",
   "execution_count": 101,
   "metadata": {},
   "outputs": [],
   "source": [
    "import os.path\n",
    "import pickle\n",
    "from dataclasses import dataclass\n",
    "from datetime import datetime, timedelta\n",
    "\n",
    "from google.auth.transport.requests import Request\n",
    "from google_auth_oauthlib.flow import InstalledAppFlow\n",
    "from googleapiclient.discovery import build"
   ]
  },
  {
   "cell_type": "code",
   "execution_count": 102,
   "metadata": {},
   "outputs": [],
   "source": [
    "SCOPES = [\"https://www.googleapis.com/auth/calendar\"]\n",
    "CREDENTIALS_FILE = \"../../../../credentials.json\"\n",
    "PICKLE_FILE = \"../../../../token.pickle\""
   ]
  },
  {
   "cell_type": "code",
   "execution_count": 103,
   "metadata": {},
   "outputs": [],
   "source": [
    "# startTime/endTime format: \"yyyy-MM-ddTHH:mm:ss+01:00\"\n",
    "# date format: \"yyyy-MM-dd\"\n",
    "@dataclass\n",
    "class Event:\n",
    "    title: str\n",
    "    description: str\n",
    "    location: str\n",
    "    full_day: bool\n",
    "    date: str\n",
    "    startTime: str\n",
    "    endTime: str"
   ]
  },
  {
   "cell_type": "code",
   "execution_count": 104,
   "metadata": {},
   "outputs": [],
   "source": [
    "def get_calendar_service():\n",
    "    creds = None\n",
    "    if os.path.exists(PICKLE_FILE):  # stores access tokens once created (automatically)\n",
    "        with open(PICKLE_FILE, \"rb\") as token:\n",
    "            creds = pickle.load(token)\n",
    "    if not creds or not creds.valid:\n",
    "        if creds and creds.expired and creds.refresh_token:\n",
    "            creds.refresh(Request())\n",
    "        else:\n",
    "            flow = InstalledAppFlow.from_client_secrets_file(CREDENTIALS_FILE, SCOPES)\n",
    "            creds = flow.run_local_server(port=0)\n",
    "\n",
    "        # Save the credentials for the next run\n",
    "        with open(PICKLE_FILE, \"wb\") as token:\n",
    "            pickle.dump(creds, token)\n",
    "\n",
    "    service = build(\"calendar\", \"v3\", credentials=creds)\n",
    "    return service"
   ]
  },
  {
   "cell_type": "code",
   "execution_count": 105,
   "metadata": {},
   "outputs": [
    {
     "name": "stdout",
     "output_type": "stream",
     "text": [
      "[Event(title='Test2', description='Beschreibung', location='Ortsname', full_day=True, date='2022-10-19', startTime='', endTime=''), Event(title='Test', description='', location='', full_day=False, date='', startTime='2022-10-19T20:00:00+02:00', endTime='2022-10-19T21:00:00+02:00'), Event(title='Maschinelles Lernen', description='', location='', full_day=False, date='', startTime='2022-10-19T08:30:00+02:00', endTime='2022-10-19T12:00:00+02:00'), Event(title='Maschinelles Lernen', description='', location='', full_day=False, date='', startTime='2022-10-19T13:00:00+02:00', endTime='2022-10-19T16:00:00+02:00')]\n"
     ]
    }
   ],
   "source": [
    "# timestamp format: \"yyyy-MM-ddTHH:mm:ss.ffffffZ\"\n",
    "def getEventsByTimeframe(min_timestamp: str, max_timestamp: str):\n",
    "    service = get_calendar_service()\n",
    "\n",
    "    calendars = service.calendarList().list().execute().get('items', [])\n",
    "    calendarIDs = []\n",
    "    eventArray = []\n",
    "    for i in range(len(calendars)):\n",
    "        currentCalendar = calendars[i].get('id', '')\n",
    "        if (currentCalendar != ''):\n",
    "\n",
    "            eventsResult = (\n",
    "                service.events()\n",
    "                .list(\n",
    "                    calendarId=currentCalendar,\n",
    "                    timeMin=min_timestamp,\n",
    "                    timeMax=max_timestamp,\n",
    "                    maxResults=100,\n",
    "                    singleEvents=True,\n",
    "                    orderBy=\"startTime\",\n",
    "                )\n",
    "                .execute()\n",
    "            )\n",
    "\n",
    "            events = eventsResult.get(\"items\", [])\n",
    "\n",
    "            for eventData in events:\n",
    "                event = Event(\n",
    "                    title=eventData.get(\"summary\", \"\"),\n",
    "                    description=eventData.get(\"description\", \"\"),\n",
    "                    location=eventData.get(\"location\", \"\"),\n",
    "                    full_day=\"date\" in eventData.get(\"start\", {}),\n",
    "                    date=eventData.get(\"start\", {}).get(\"date\", \"\"),\n",
    "                    startTime=eventData.get(\"start\", {}).get(\"dateTime\", \"\"),\n",
    "                    endTime=eventData.get(\"end\", {}).get(\"dateTime\", \"\"),\n",
    "                )\n",
    "                eventArray.append(event)\n",
    "\n",
    "    return eventArray\n",
    "\n",
    "\n",
    "# Example usage:\n",
    "# print(getEventsByTimeframe(\"2022-10-19T00:00:00.000001Z\", \"2022-10-19T23:59:59.999999Z\"))"
   ]
  },
  {
   "cell_type": "code",
   "execution_count": 106,
   "metadata": {},
   "outputs": [
    {
     "name": "stdout",
     "output_type": "stream",
     "text": [
      "[Event(title='Testeintrag', description='', location='', full_day=True, date='2022-11-03', startTime='', endTime=''), Event(title='Advanced Software Engineering', description='', location='', full_day=False, date='', startTime='2022-11-03T08:15:00+01:00', endTime='2022-11-03T12:00:00+01:00'), Event(title='Maschinelles Lernen - ONLINE', description='', location='', full_day=False, date='', startTime='2022-11-03T16:00:00+01:00', endTime='2022-11-03T17:30:00+01:00')]\n"
     ]
    }
   ],
   "source": [
    "def getAllEventsToday():\n",
    "    todayMin = datetime.today().strftime(\"%Y-%m-%dT00:00:00.000001Z\")\n",
    "    todayMax = datetime.today().strftime(\"%Y-%m-%dT23:59:59.999999Z\")\n",
    "\n",
    "    return getEventsByTimeframe(todayMin, todayMax)\n",
    "\n",
    "\n",
    "# Example usage:\n",
    "# print(getAllEventsToday())"
   ]
  },
  {
   "cell_type": "code",
   "execution_count": 107,
   "metadata": {},
   "outputs": [
    {
     "name": "stdout",
     "output_type": "stream",
     "text": [
      "Event(title='Maschinelles Lernen - ONLINE', description='', location='', full_day=False, date='', startTime='2022-11-03T16:00:00+01:00', endTime='2022-11-03T17:30:00+01:00')\n"
     ]
    }
   ],
   "source": [
    "def getNextEventToday():\n",
    "    events = getAllEventsToday()\n",
    "\n",
    "    for event in events:\n",
    "        if not event.full_day: \n",
    "            startTime = datetime.strptime(event.startTime, \"%Y-%m-%dT%H:%M:%S+01:00\")\n",
    "            if datetime.now() < startTime:\n",
    "                return event \n",
    "    return None\n",
    "\n",
    "# Example usage:\n",
    "# print(getNextEventToday())"
   ]
  },
  {
   "cell_type": "code",
   "execution_count": 108,
   "metadata": {},
   "outputs": [
    {
     "name": "stdout",
     "output_type": "stream",
     "text": [
      "Created Event: {'summary': 'TestCreate1', 'location': 'Location1', 'description': 'Description1', 'start': {'dateTime': '2022-10-20T16:30:00+01:00', 'timeZone': 'Europe/Berlin'}, 'end': {'dateTime': '2022-10-20T17:30:00+01:00', 'timeZone': 'Europe/Berlin'}}\n"
     ]
    }
   ],
   "source": [
    "def createEvent(eventInfo: Event):\n",
    "    if eventInfo.full_day:\n",
    "        endDate = (datetime.fromisoformat(eventInfo.date) + timedelta(days=1)).strftime(\"%Y-%m-%d\")\n",
    "    else:\n",
    "        endDate = \"\"\n",
    "\n",
    "    event = {\n",
    "        \"summary\": eventInfo.title,\n",
    "        \"location\": eventInfo.location,\n",
    "        \"description\": eventInfo.description,\n",
    "        \"start\": {\"dateTime\": eventInfo.startTime, \"timeZone\": \"Europe/Berlin\", \"date\": eventInfo.date},\n",
    "        \"end\": {\"dateTime\": eventInfo.endTime, \"timeZone\": \"Europe/Berlin\", \"date\": endDate},\n",
    "    }\n",
    "\n",
    "    if eventInfo.full_day:\n",
    "        event.get(\"start\").pop(\"dateTime\")\n",
    "        event.get(\"start\").pop(\"timeZone\")\n",
    "        event.get(\"end\").pop(\"dateTime\")\n",
    "        event.get(\"end\").pop(\"timeZone\")\n",
    "    else:\n",
    "        event.get(\"start\").pop(\"date\")\n",
    "        event.get(\"end\").pop(\"date\")\n",
    "\n",
    "    service = get_calendar_service()\n",
    "    createdEvent = service.events().insert(calendarId=\"primary\", body=event).execute()\n",
    "\n",
    "    # print(f'Created Event: {event}')\n",
    "\n",
    "\n",
    "# Example usage:\n",
    "# createEvent(Event(\n",
    "#     title = 'TestCreate1',\n",
    "#     description = 'Description1',\n",
    "#     location = 'Location1',\n",
    "#     full_day = False,\n",
    "#     date = '2022-10-20',\n",
    "#     startTime = '2022-10-20T16:30:00+01:00',\n",
    "#     endTime = '2022-10-20T17:30:00+01:00'\n",
    "# ))"
   ]
  }
 ],
 "metadata": {
  "kernelspec": {
   "display_name": "Python 3.8.8 ('base')",
   "language": "python",
   "name": "python3"
  },
  "language_info": {
   "codemirror_mode": {
    "name": "ipython",
    "version": 3
   },
   "file_extension": ".py",
   "mimetype": "text/x-python",
   "name": "python",
   "nbconvert_exporter": "python",
   "pygments_lexer": "ipython3",
   "version": "3.8.8"
  },
  "orig_nbformat": 4,
  "vscode": {
   "interpreter": {
    "hash": "de4e9109d5859e703bb46671643fbb9b6de0e73abc3c679ee725e52a4795f3ac"
   }
  }
 },
 "nbformat": 4,
 "nbformat_minor": 2
}
