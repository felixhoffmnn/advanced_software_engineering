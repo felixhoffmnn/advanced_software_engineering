{
 "cells": [
  {
   "cell_type": "code",
   "execution_count": 10,
   "metadata": {},
   "outputs": [],
   "source": [
    "from aswe.utils.request import http_request\n",
    "from datetime import date\n",
    "from dotenv import load_dotenv\n",
    "import os"
   ]
  },
  {
   "cell_type": "code",
   "execution_count": 11,
   "metadata": {},
   "outputs": [
    {
     "name": "stdout",
     "output_type": "stream",
     "text": [
      "{'x-rapidapi-key': '8ecf2f5824f80d65b69e7dc7110e9285', 'x-rapidapi-host': 'v1.handball.api-sports.io'}\n"
     ]
    }
   ],
   "source": [
    "load_dotenv()\n",
    "headers = {\n",
    "  'x-rapidapi-key': os.getenv(\"Sports_API_key\"),\n",
    "  'x-rapidapi-host': 'v1.handball.api-sports.io'\n",
    "}\n",
    "print(headers)"
   ]
  },
  {
   "cell_type": "code",
   "execution_count": 78,
   "metadata": {},
   "outputs": [],
   "source": [
    "def get_league_id(league_name:str) -> int:\n",
    "    data = http_request(f'https://v1.handball.api-sports.io/leagues', headers=headers).json()\n",
    "    for league in data['response']:\n",
    "        if league['name'] == league_name:\n",
    "            return league['id']\n",
    "    return None"
   ]
  },
  {
   "cell_type": "code",
   "execution_count": 80,
   "metadata": {},
   "outputs": [],
   "source": [
    "def get_league_table(league_name = \"Bundesliga\") -> list:\n",
    "    league_id = get_league_id(league_name)\n",
    "    if league_id is None:\n",
    "        return None\n",
    "    standings = http_request(f'https://v1.handball.api-sports.io/standings?league={league_id}&season=2022', headers=headers).json()\n",
    "    table = []\n",
    "    for position in standings['response'][0]:\n",
    "        table.append(f'{position[\"position\"]} {position[\"team\"][\"name\"]} {position[\"points\"]}')\n",
    "    return table"
   ]
  },
  {
   "cell_type": "code",
   "execution_count": 81,
   "metadata": {},
   "outputs": [],
   "source": [
    "def get_team_id(team_name: str) -> int:\n",
    "    team_name = team_name.replace(' ', '%20')\n",
    "    data = http_request(f'https://v1.handball.api-sports.io/teams?name={team_name}', headers=headers).json()\n",
    "    \n",
    "    if data[\"response\"] == []:\n",
    "        return None\n",
    "    \n",
    "    return data[\"response\"][0][\"id\"]"
   ]
  },
  {
   "cell_type": "code",
   "execution_count": 88,
   "metadata": {},
   "outputs": [],
   "source": [
    "def get_team_game_today(team_name: str, league_name = \"Bundesliga\") -> list:\n",
    "    league_id = get_league_id(league_name)\n",
    "    if league_id is None:\n",
    "        return None\n",
    "    today = date.today()\n",
    "    team_name = team_name.replace(' ', '%20')\n",
    "    id = get_team_id(team_name)\n",
    "    if id == None:\n",
    "        return None\n",
    "    data = http_request(f'https://v1.handball.api-sports.io/games?date={today}&timezone=Europe/Berlin&league={league_id}&season=2022&team={id}', headers=headers).json()\n",
    "    \n",
    "    if data[\"response\"] == []:\n",
    "        return None\n",
    "    games = []\n",
    "    for game in data[\"response\"]:\n",
    "        games.append(f\"{game['teams']['home']['name']} {game['scores']['home']} - {game['scores']['away']} {game['teams']['away']['name']}\")\n",
    "    return games"
   ]
  }
 ],
 "metadata": {
  "kernelspec": {
   "display_name": "Python 3.10.7 ('advanced_software_engineering-z59G5ini-py3.10')",
   "language": "python",
   "name": "python3"
  },
  "language_info": {
   "codemirror_mode": {
    "name": "ipython",
    "version": 3
   },
   "file_extension": ".py",
   "mimetype": "text/x-python",
   "name": "python",
   "nbconvert_exporter": "python",
   "pygments_lexer": "ipython3",
   "version": "3.10.7"
  },
  "orig_nbformat": 4,
  "vscode": {
   "interpreter": {
    "hash": "bc54ab3331ce49cd2f2a0915d149eb456a367c9e50e39ef8ecda741e9239fc07"
   }
  }
 },
 "nbformat": 4,
 "nbformat_minor": 2
}
