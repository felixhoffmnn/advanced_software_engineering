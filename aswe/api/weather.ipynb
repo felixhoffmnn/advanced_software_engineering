{
  "cells": [
    {
      "cell_type": "code",
      "execution_count": 18,
      "metadata": {},
      "outputs": [],
      "source": [
        "import os\n",
        "\n",
        "from aswe.api.weather.weather_params import ElementsEnum, IncludeEnum, DynamicPeriodEnum\n",
        "\n",
        "from aswe.api.weather.weather import WeatherApi\n",
        "from aswe.utils.request import http_request"
      ]
    },
    {
      "cell_type": "code",
      "execution_count": 23,
      "metadata": {},
      "outputs": [
        {
          "name": "stderr",
          "output_type": "stream",
          "text": [
            "2022-11-26 14:49:21.641 | SUCCESS  | aswe.utils.request:http_request:38 - Successfully fetched data from https://weather.visualcrossing.com/VisualCrossingWebServices/rest/services/timeline/Stuttgart,DE/today?key=N6XDYBF74RN82CAX6V6RZE5NN&unitGroup=metric&elements=precipprob,temp&include=hours\n"
          ]
        }
      ],
      "source": [
        "crawler = WeatherApi()\n",
        "\n",
        "response_json = crawler.dynamic_range(\n",
        "    location=\"Stuttgart,DE\",\n",
        "    dynamic_period=DynamicPeriodEnum.TODAY,\n",
        "    elements=[ElementsEnum.PRECIP_PROB, ElementsEnum.TEMP],\n",
        "    include=[IncludeEnum.HOURS],\n",
        ")\n",
        "\n",
        "# WeatherApi.PARAMS.ELEMENTS.PRECIP_TYPE, WeatherApi.PARAMS.ELEMENTS.FEELSLIKE"
      ]
    },
    {
      "cell_type": "code",
      "execution_count": 25,
      "metadata": {},
      "outputs": [
        {
          "name": "stdout",
          "output_type": "stream",
          "text": [
            "{'temp': 8.2, 'precipprob': 0.0}\n"
          ]
        }
      ],
      "source": [
        "from datetime import datetime\n",
        "\n",
        "# print(response_json)\n",
        "\n",
        "hour = datetime.now().hour\n",
        "\n",
        "print(response_json[\"days\"][0][\"hours\"][hour])"
      ]
    }
  ],
  "metadata": {
    "kernelspec": {
      "display_name": "Python 3.10.8 ('.venv': poetry)",
      "language": "python",
      "name": "python3"
    },
    "language_info": {
      "codemirror_mode": {
        "name": "ipython",
        "version": 3
      },
      "file_extension": ".py",
      "mimetype": "text/x-python",
      "name": "python",
      "nbconvert_exporter": "python",
      "pygments_lexer": "ipython3",
      "version": "3.10.8"
    },
    "orig_nbformat": 4,
    "vscode": {
      "interpreter": {
        "hash": "baabcb704439773e0636d6421154f6ecef9e95cf4b2c0c9159bd7e61e875d6de"
      }
    }
  },
  "nbformat": 4,
  "nbformat_minor": 2
}
