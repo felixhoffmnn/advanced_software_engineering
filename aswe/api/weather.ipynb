{
 "cells": [
  {
   "cell_type": "code",
   "execution_count": 1,
   "metadata": {},
   "outputs": [],
   "source": [
    "import os\n",
    "\n",
    "from aswe.api.weather.weather import WeatherApi\n",
    "from aswe.utils.http_request import http_request"
   ]
  },
  {
   "cell_type": "code",
   "execution_count": null,
   "metadata": {},
   "outputs": [],
   "source": [
    "crawler = WeatherApi()\n",
    "\n",
    "response_json = crawler.historic_day(\n",
    "    location=\"Stuttgart,DE\",\n",
    "    date=\"2022-10-19\",\n",
    "    elements=[WeatherApi.PARAMS.ELEMENTS.PRECIP_TYPE, WeatherApi.PARAMS.ELEMENTS.FEELSLIKE],\n",
    "    include=[WeatherApi.PARAMS.INCLUDE.EVENTS],\n",
    ")"
   ]
  },
  {
   "cell_type": "code",
   "execution_count": null,
   "metadata": {},
   "outputs": [],
   "source": [
    "print(response_json)"
   ]
  }
 ],
 "metadata": {
  "kernelspec": {
   "display_name": "Python 3.10.8 ('advanced-software-engineering-J8FyIT0w-py3.10')",
   "language": "python",
   "name": "python3"
  },
  "language_info": {
   "codemirror_mode": {
    "name": "ipython",
    "version": 3
   },
   "file_extension": ".py",
   "mimetype": "text/x-python",
   "name": "python",
   "nbconvert_exporter": "python",
   "pygments_lexer": "ipython3",
   "version": "3.10.8"
  },
  "orig_nbformat": 4,
  "vscode": {
   "interpreter": {
    "hash": "7bff30677687d477eb2d61e3360e02230b43085e3cce367fbc0dc4c73fd3f77e"
   }
  }
 },
 "nbformat": 4,
 "nbformat_minor": 2
}
