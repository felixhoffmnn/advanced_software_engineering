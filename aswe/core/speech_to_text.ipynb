{
 "cells": [
  {
   "cell_type": "code",
   "execution_count": 1,
   "metadata": {},
   "outputs": [],
   "source": [
    "import speech_recognition as sr\n",
    "import pyttsx3\n",
    "import pyaudio\n",
    "import time\n"
   ]
  },
  {
   "cell_type": "code",
   "execution_count": 5,
   "metadata": {},
   "outputs": [],
   "source": [
    "# Initialize the recognizer\n",
    "r = sr.Recognizer()\n",
    "\n",
    "# Function to convert text to\n",
    "# speech\n",
    "def SpeakText(command):\n",
    "    # Initialize the engine\n",
    "    engine = pyttsx3.init()\n",
    "    engine.say(command)\n",
    "    engine.runAndWait()"
   ]
  },
  {
   "cell_type": "code",
   "execution_count": 6,
   "metadata": {},
   "outputs": [
    {
     "name": "stdout",
     "output_type": "stream",
     "text": [
      "['Cam Link 4K: USB Audio (hw:1,0)', 'HDA Intel PCH: ALC1150 Analog (hw:2,0)', 'HDA Intel PCH: ALC1150 Digital (hw:2,1)', 'HDA Intel PCH: ALC1150 Alt Analog (hw:2,2)', 'HDA ATI HDMI: 0 (hw:3,3)', 'HDA ATI HDMI: 1 (hw:3,7)', 'HDA ATI HDMI: DELL U2721DE (hw:3,8)', 'HDA ATI HDMI: 3 (hw:3,9)', 'HDA ATI HDMI: 4 (hw:3,10)', 'HDA ATI HDMI: DELL U2722DE (hw:3,11)', 'pipewire', 'default', 'Blue Snowball Mono', 'Cam Link 4K Analog Stereo', 'WEBRTC VoiceEngine', 'Built-in Audio Analog Stereo', 'Built-in Audio Analog Stereo Monitor', 'Ellesmere HDMI Audio [Radeon RX 470/480 / 570/580/590] Digital Stereo (HDMI 3)', 'Ellesmere HDMI Audio [Radeon RX 470/480 / 570/580/590] Digital Stereo (HDMI 3) Monitor', 'WEBRTC VoiceEngine Monitor']\n"
     ]
    },
    {
     "name": "stderr",
     "output_type": "stream",
     "text": [
      "ALSA lib pcm_dsnoop.c:566:(snd_pcm_dsnoop_open) unable to open slave\n",
      "ALSA lib pcm_dmix.c:999:(snd_pcm_dmix_open) unable to open slave\n",
      "ALSA lib pcm.c:2664:(snd_pcm_open_noupdate) Unknown PCM cards.pcm.rear\n",
      "ALSA lib pcm.c:2664:(snd_pcm_open_noupdate) Unknown PCM cards.pcm.center_lfe\n",
      "ALSA lib pcm.c:2664:(snd_pcm_open_noupdate) Unknown PCM cards.pcm.side\n",
      "ALSA lib confmisc.c:1369:(snd_func_refer) Unable to find definition 'cards.0.pcm.hdmi.0:CARD=0,AES0=4,AES1=130,AES2=0,AES3=2'\n",
      "ALSA lib conf.c:5180:(_snd_config_evaluate) function snd_func_refer returned error: No such file or directory\n",
      "ALSA lib conf.c:5703:(snd_config_expand) Evaluate error: No such file or directory\n",
      "ALSA lib pcm.c:2664:(snd_pcm_open_noupdate) Unknown PCM hdmi\n",
      "ALSA lib confmisc.c:1369:(snd_func_refer) Unable to find definition 'cards.0.pcm.hdmi.0:CARD=0,AES0=4,AES1=130,AES2=0,AES3=2'\n",
      "ALSA lib conf.c:5180:(_snd_config_evaluate) function snd_func_refer returned error: No such file or directory\n",
      "ALSA lib conf.c:5703:(snd_config_expand) Evaluate error: No such file or directory\n",
      "ALSA lib pcm.c:2664:(snd_pcm_open_noupdate) Unknown PCM hdmi\n",
      "ALSA lib confmisc.c:1369:(snd_func_refer) Unable to find definition 'cards.0.pcm.modem.0:CARD=0'\n",
      "ALSA lib conf.c:5180:(_snd_config_evaluate) function snd_func_refer returned error: No such file or directory\n",
      "ALSA lib conf.c:5703:(snd_config_expand) Evaluate error: No such file or directory\n",
      "ALSA lib pcm.c:2664:(snd_pcm_open_noupdate) Unknown PCM cards.pcm.phoneline:CARD=0,DEV=0\n",
      "ALSA lib confmisc.c:1369:(snd_func_refer) Unable to find definition 'cards.0.pcm.modem.0:CARD=0'\n",
      "ALSA lib conf.c:5180:(_snd_config_evaluate) function snd_func_refer returned error: No such file or directory\n",
      "ALSA lib conf.c:5703:(snd_config_expand) Evaluate error: No such file or directory\n",
      "ALSA lib pcm.c:2664:(snd_pcm_open_noupdate) Unknown PCM cards.pcm.phoneline:CARD=0,DEV=0\n",
      "ALSA lib confmisc.c:1369:(snd_func_refer) Unable to find definition 'cards.0.pcm.modem.0:CARD=0'\n",
      "ALSA lib conf.c:5180:(_snd_config_evaluate) function snd_func_refer returned error: No such file or directory\n",
      "ALSA lib conf.c:5703:(snd_config_expand) Evaluate error: No such file or directory\n",
      "ALSA lib pcm.c:2664:(snd_pcm_open_noupdate) Unknown PCM phoneline\n",
      "ALSA lib confmisc.c:1369:(snd_func_refer) Unable to find definition 'cards.0.pcm.modem.0:CARD=0'\n",
      "ALSA lib conf.c:5180:(_snd_config_evaluate) function snd_func_refer returned error: No such file or directory\n",
      "ALSA lib conf.c:5703:(snd_config_expand) Evaluate error: No such file or directory\n",
      "ALSA lib pcm.c:2664:(snd_pcm_open_noupdate) Unknown PCM phoneline\n",
      "ALSA lib pcm_dmix.c:999:(snd_pcm_dmix_open) unable to open slave\n"
     ]
    }
   ],
   "source": [
    "print(sr.Microphone.list_microphone_names())\n"
   ]
  },
  {
   "cell_type": "code",
   "execution_count": 13,
   "metadata": {},
   "outputs": [
    {
     "name": "stdout",
     "output_type": "stream",
     "text": [
      "Did you say maxime is lost\n"
     ]
    },
    {
     "ename": "OSError",
     "evalue": "libespeak.so.1: cannot open shared object file: No such file or directory",
     "output_type": "error",
     "traceback": [
      "\u001b[0;31m---------------------------------------------------------------------------\u001b[0m",
      "\u001b[0;31mKeyError\u001b[0m                                  Traceback (most recent call last)",
      "File \u001b[0;32m~/.cache/pypoetry/virtualenvs/advanced-software-engineering-m0rZkWJX-py3.10/lib/python3.10/site-packages/pyttsx3/__init__.py:20\u001b[0m, in \u001b[0;36minit\u001b[0;34m(driverName, debug)\u001b[0m\n\u001b[1;32m     19\u001b[0m \u001b[39mtry\u001b[39;00m:\n\u001b[0;32m---> 20\u001b[0m     eng \u001b[39m=\u001b[39m _activeEngines[driverName]\n\u001b[1;32m     21\u001b[0m \u001b[39mexcept\u001b[39;00m \u001b[39mKeyError\u001b[39;00m:\n",
      "File \u001b[0;32m/usr/lib64/python3.10/weakref.py:137\u001b[0m, in \u001b[0;36mWeakValueDictionary.__getitem__\u001b[0;34m(self, key)\u001b[0m\n\u001b[1;32m    136\u001b[0m     \u001b[39mself\u001b[39m\u001b[39m.\u001b[39m_commit_removals()\n\u001b[0;32m--> 137\u001b[0m o \u001b[39m=\u001b[39m \u001b[39mself\u001b[39;49m\u001b[39m.\u001b[39;49mdata[key]()\n\u001b[1;32m    138\u001b[0m \u001b[39mif\u001b[39;00m o \u001b[39mis\u001b[39;00m \u001b[39mNone\u001b[39;00m:\n",
      "\u001b[0;31mKeyError\u001b[0m: None",
      "\nDuring handling of the above exception, another exception occurred:\n",
      "\u001b[0;31mOSError\u001b[0m                                   Traceback (most recent call last)",
      "Cell \u001b[0;32mIn [13], line 26\u001b[0m\n\u001b[1;32m     23\u001b[0m         MyText \u001b[39m=\u001b[39m MyText\u001b[39m.\u001b[39mlower()\n\u001b[1;32m     25\u001b[0m         \u001b[39mprint\u001b[39m(\u001b[39m\"\u001b[39m\u001b[39mDid you say \u001b[39m\u001b[39m\"\u001b[39m\u001b[39m+\u001b[39mMyText)\n\u001b[0;32m---> 26\u001b[0m         SpeakText(MyText)\n\u001b[1;32m     28\u001b[0m \u001b[39mexcept\u001b[39;00m sr\u001b[39m.\u001b[39mRequestError \u001b[39mas\u001b[39;00m e:\n\u001b[1;32m     29\u001b[0m     \u001b[39mprint\u001b[39m(\u001b[39m\"\u001b[39m\u001b[39mCould not request results; \u001b[39m\u001b[39m{0}\u001b[39;00m\u001b[39m\"\u001b[39m\u001b[39m.\u001b[39mformat(e))\n",
      "Cell \u001b[0;32mIn [5], line 8\u001b[0m, in \u001b[0;36mSpeakText\u001b[0;34m(command)\u001b[0m\n\u001b[1;32m      6\u001b[0m \u001b[39mdef\u001b[39;00m \u001b[39mSpeakText\u001b[39m(command):\n\u001b[1;32m      7\u001b[0m     \u001b[39m# Initialize the engine\u001b[39;00m\n\u001b[0;32m----> 8\u001b[0m     engine \u001b[39m=\u001b[39m pyttsx3\u001b[39m.\u001b[39;49minit()\n\u001b[1;32m      9\u001b[0m     engine\u001b[39m.\u001b[39msay(command)\n\u001b[1;32m     10\u001b[0m     engine\u001b[39m.\u001b[39mrunAndWait()\n",
      "File \u001b[0;32m~/.cache/pypoetry/virtualenvs/advanced-software-engineering-m0rZkWJX-py3.10/lib/python3.10/site-packages/pyttsx3/__init__.py:22\u001b[0m, in \u001b[0;36minit\u001b[0;34m(driverName, debug)\u001b[0m\n\u001b[1;32m     20\u001b[0m     eng \u001b[39m=\u001b[39m _activeEngines[driverName]\n\u001b[1;32m     21\u001b[0m \u001b[39mexcept\u001b[39;00m \u001b[39mKeyError\u001b[39;00m:\n\u001b[0;32m---> 22\u001b[0m     eng \u001b[39m=\u001b[39m Engine(driverName, debug)\n\u001b[1;32m     23\u001b[0m     _activeEngines[driverName] \u001b[39m=\u001b[39m eng\n\u001b[1;32m     24\u001b[0m \u001b[39mreturn\u001b[39;00m eng\n",
      "File \u001b[0;32m~/.cache/pypoetry/virtualenvs/advanced-software-engineering-m0rZkWJX-py3.10/lib/python3.10/site-packages/pyttsx3/engine.py:30\u001b[0m, in \u001b[0;36mEngine.__init__\u001b[0;34m(self, driverName, debug)\u001b[0m\n\u001b[1;32m     20\u001b[0m \u001b[39mdef\u001b[39;00m \u001b[39m__init__\u001b[39m(\u001b[39mself\u001b[39m, driverName\u001b[39m=\u001b[39m\u001b[39mNone\u001b[39;00m, debug\u001b[39m=\u001b[39m\u001b[39mFalse\u001b[39;00m):\n\u001b[1;32m     21\u001b[0m     \u001b[39m\"\"\"\u001b[39;00m\n\u001b[1;32m     22\u001b[0m \u001b[39m    Constructs a new TTS engine instance.\u001b[39;00m\n\u001b[1;32m     23\u001b[0m \n\u001b[0;32m   (...)\u001b[0m\n\u001b[1;32m     28\u001b[0m \u001b[39m    @type debug: bool\u001b[39;00m\n\u001b[1;32m     29\u001b[0m \u001b[39m    \"\"\"\u001b[39;00m\n\u001b[0;32m---> 30\u001b[0m     \u001b[39mself\u001b[39m\u001b[39m.\u001b[39mproxy \u001b[39m=\u001b[39m driver\u001b[39m.\u001b[39;49mDriverProxy(weakref\u001b[39m.\u001b[39;49mproxy(\u001b[39mself\u001b[39;49m), driverName, debug)\n\u001b[1;32m     31\u001b[0m     \u001b[39m# initialize other vars\u001b[39;00m\n\u001b[1;32m     32\u001b[0m     \u001b[39mself\u001b[39m\u001b[39m.\u001b[39m_connects \u001b[39m=\u001b[39m {}\n",
      "File \u001b[0;32m~/.cache/pypoetry/virtualenvs/advanced-software-engineering-m0rZkWJX-py3.10/lib/python3.10/site-packages/pyttsx3/driver.py:50\u001b[0m, in \u001b[0;36mDriverProxy.__init__\u001b[0;34m(self, engine, driverName, debug)\u001b[0m\n\u001b[1;32m     48\u001b[0m \u001b[39m# import driver module\u001b[39;00m\n\u001b[1;32m     49\u001b[0m name \u001b[39m=\u001b[39m \u001b[39m'\u001b[39m\u001b[39mpyttsx3.drivers.\u001b[39m\u001b[39m%s\u001b[39;00m\u001b[39m'\u001b[39m \u001b[39m%\u001b[39m driverName\n\u001b[0;32m---> 50\u001b[0m \u001b[39mself\u001b[39m\u001b[39m.\u001b[39m_module \u001b[39m=\u001b[39m importlib\u001b[39m.\u001b[39;49mimport_module(name)\n\u001b[1;32m     51\u001b[0m \u001b[39m# build driver instance\u001b[39;00m\n\u001b[1;32m     52\u001b[0m \u001b[39mself\u001b[39m\u001b[39m.\u001b[39m_driver \u001b[39m=\u001b[39m \u001b[39mself\u001b[39m\u001b[39m.\u001b[39m_module\u001b[39m.\u001b[39mbuildDriver(weakref\u001b[39m.\u001b[39mproxy(\u001b[39mself\u001b[39m))\n",
      "File \u001b[0;32m/usr/lib64/python3.10/importlib/__init__.py:126\u001b[0m, in \u001b[0;36mimport_module\u001b[0;34m(name, package)\u001b[0m\n\u001b[1;32m    124\u001b[0m             \u001b[39mbreak\u001b[39;00m\n\u001b[1;32m    125\u001b[0m         level \u001b[39m+\u001b[39m\u001b[39m=\u001b[39m \u001b[39m1\u001b[39m\n\u001b[0;32m--> 126\u001b[0m \u001b[39mreturn\u001b[39;00m _bootstrap\u001b[39m.\u001b[39;49m_gcd_import(name[level:], package, level)\n",
      "File \u001b[0;32m<frozen importlib._bootstrap>:1050\u001b[0m, in \u001b[0;36m_gcd_import\u001b[0;34m(name, package, level)\u001b[0m\n",
      "File \u001b[0;32m<frozen importlib._bootstrap>:1027\u001b[0m, in \u001b[0;36m_find_and_load\u001b[0;34m(name, import_)\u001b[0m\n",
      "File \u001b[0;32m<frozen importlib._bootstrap>:1006\u001b[0m, in \u001b[0;36m_find_and_load_unlocked\u001b[0;34m(name, import_)\u001b[0m\n",
      "File \u001b[0;32m<frozen importlib._bootstrap>:688\u001b[0m, in \u001b[0;36m_load_unlocked\u001b[0;34m(spec)\u001b[0m\n",
      "File \u001b[0;32m<frozen importlib._bootstrap_external>:883\u001b[0m, in \u001b[0;36mexec_module\u001b[0;34m(self, module)\u001b[0m\n",
      "File \u001b[0;32m<frozen importlib._bootstrap>:241\u001b[0m, in \u001b[0;36m_call_with_frames_removed\u001b[0;34m(f, *args, **kwds)\u001b[0m\n",
      "File \u001b[0;32m~/.cache/pypoetry/virtualenvs/advanced-software-engineering-m0rZkWJX-py3.10/lib/python3.10/site-packages/pyttsx3/drivers/espeak.py:9\u001b[0m\n\u001b[1;32m      7\u001b[0m \u001b[39mfrom\u001b[39;00m \u001b[39mtempfile\u001b[39;00m \u001b[39mimport\u001b[39;00m NamedTemporaryFile\n\u001b[1;32m      8\u001b[0m \u001b[39mfrom\u001b[39;00m \u001b[39m.\u001b[39;00m\u001b[39m.\u001b[39;00m\u001b[39mvoice\u001b[39;00m \u001b[39mimport\u001b[39;00m Voice\n\u001b[0;32m----> 9\u001b[0m \u001b[39mfrom\u001b[39;00m \u001b[39m.\u001b[39;00m \u001b[39mimport\u001b[39;00m _espeak, toUtf8, fromUtf8\n\u001b[1;32m     12\u001b[0m \u001b[39mdef\u001b[39;00m \u001b[39mbuildDriver\u001b[39m(proxy):\n\u001b[1;32m     13\u001b[0m     \u001b[39mreturn\u001b[39;00m EspeakDriver(proxy)\n",
      "File \u001b[0;32m~/.cache/pypoetry/virtualenvs/advanced-software-engineering-m0rZkWJX-py3.10/lib/python3.10/site-packages/pyttsx3/drivers/_espeak.py:18\u001b[0m\n\u001b[1;32m     15\u001b[0m         aflags\u001b[39m.\u001b[39mappend((arg[\u001b[39m2\u001b[39m], arg[\u001b[39m0\u001b[39m]) \u001b[39m+\u001b[39m arg[\u001b[39m3\u001b[39m:])\n\u001b[1;32m     16\u001b[0m     \u001b[39mreturn\u001b[39;00m CFUNCTYPE(result, \u001b[39m*\u001b[39matypes)((name, dll), \u001b[39mtuple\u001b[39m(aflags))\n\u001b[0;32m---> 18\u001b[0m dll \u001b[39m=\u001b[39m cdll\u001b[39m.\u001b[39;49mLoadLibrary(\u001b[39m'\u001b[39;49m\u001b[39mlibespeak.so.1\u001b[39;49m\u001b[39m'\u001b[39;49m)\n\u001b[1;32m     20\u001b[0m \u001b[39m# constants and such from speak_lib.h\u001b[39;00m\n\u001b[1;32m     22\u001b[0m EVENT_LIST_TERMINATED \u001b[39m=\u001b[39m \u001b[39m0\u001b[39m\n",
      "File \u001b[0;32m/usr/lib64/python3.10/ctypes/__init__.py:452\u001b[0m, in \u001b[0;36mLibraryLoader.LoadLibrary\u001b[0;34m(self, name)\u001b[0m\n\u001b[1;32m    451\u001b[0m \u001b[39mdef\u001b[39;00m \u001b[39mLoadLibrary\u001b[39m(\u001b[39mself\u001b[39m, name):\n\u001b[0;32m--> 452\u001b[0m     \u001b[39mreturn\u001b[39;00m \u001b[39mself\u001b[39;49m\u001b[39m.\u001b[39;49m_dlltype(name)\n",
      "File \u001b[0;32m/usr/lib64/python3.10/ctypes/__init__.py:374\u001b[0m, in \u001b[0;36mCDLL.__init__\u001b[0;34m(self, name, mode, handle, use_errno, use_last_error, winmode)\u001b[0m\n\u001b[1;32m    371\u001b[0m \u001b[39mself\u001b[39m\u001b[39m.\u001b[39m_FuncPtr \u001b[39m=\u001b[39m _FuncPtr\n\u001b[1;32m    373\u001b[0m \u001b[39mif\u001b[39;00m handle \u001b[39mis\u001b[39;00m \u001b[39mNone\u001b[39;00m:\n\u001b[0;32m--> 374\u001b[0m     \u001b[39mself\u001b[39m\u001b[39m.\u001b[39m_handle \u001b[39m=\u001b[39m _dlopen(\u001b[39mself\u001b[39;49m\u001b[39m.\u001b[39;49m_name, mode)\n\u001b[1;32m    375\u001b[0m \u001b[39melse\u001b[39;00m:\n\u001b[1;32m    376\u001b[0m     \u001b[39mself\u001b[39m\u001b[39m.\u001b[39m_handle \u001b[39m=\u001b[39m handle\n",
      "\u001b[0;31mOSError\u001b[0m: libespeak.so.1: cannot open shared object file: No such file or directory"
     ]
    }
   ],
   "source": [
    "# Loop infinitely for user to\n",
    "# speak\n",
    "\n",
    "while 1:\n",
    "\n",
    "    # Exception handling to handle\n",
    "    # exceptions at the runtime\n",
    "    try:\n",
    "\n",
    "        # use the microphone as source for input.\n",
    "        with sr.Microphone() as source2:\n",
    "\n",
    "            # wait for a second to let the recognizer\n",
    "            # adjust the energy threshold based on\n",
    "            # the surrounding noise level\n",
    "            r.adjust_for_ambient_noise(source2, duration=0.2)\n",
    "\n",
    "            # listens for the user's input\n",
    "            audio2 = r.listen(source2)\n",
    "\n",
    "            # Using google to recognize audio\n",
    "            MyText = r.recognize_google(audio2)\n",
    "            MyText = MyText.lower()\n",
    "\n",
    "            print(\"Did you say \" + MyText)\n",
    "            SpeakText(MyText)\n",
    "\n",
    "    except sr.RequestError as e:\n",
    "        print(\"Could not request results; {0}\".format(e))\n",
    "\n",
    "    except sr.UnknownValueError:\n",
    "        print(\"unknown error occured\")"
   ]
  },
  {
   "cell_type": "code",
   "execution_count": 2,
   "metadata": {},
   "outputs": [],
   "source": [
    "# this is called from the background thread\n",
    "def callback(recognizer, audio):\n",
    "    # received audio data, now we'll recognize it using Google Speech Recognition\n",
    "    try:\n",
    "        # for testing purposes, we're just using the default API key\n",
    "        # to use another API key, use `r.recognize_google(audio, key=\"GOOGLE_SPEECH_RECOGNITION_API_KEY\")`\n",
    "        # instead of `r.recognize_google(audio)`\n",
    "        print(\"Google Speech Recognition thinks you said \" + recognizer.recognize_google(audio))\n",
    "    except sr.UnknownValueError:\n",
    "        print(\"Google Speech Recognition could not understand audio\")\n",
    "    except sr.RequestError as e:\n",
    "        print(\"Could not request results from Google Speech Recognition service; {0}\".format(e))\n"
   ]
  },
  {
   "cell_type": "code",
   "execution_count": 5,
   "metadata": {},
   "outputs": [
    {
     "name": "stdout",
     "output_type": "stream",
     "text": [
      "Google Speech Recognition thinks you said what is not intellect\n"
     ]
    },
    {
     "ename": "KeyboardInterrupt",
     "evalue": "",
     "output_type": "error",
     "traceback": [
      "\u001b[0;31m---------------------------------------------------------------------------\u001b[0m",
      "\u001b[0;31mKeyboardInterrupt\u001b[0m                         Traceback (most recent call last)",
      "Cell \u001b[0;32mIn [5], line 17\u001b[0m\n\u001b[1;32m     14\u001b[0m stop_listening(wait_for_stop\u001b[39m=\u001b[39m\u001b[39mFalse\u001b[39;00m)\n\u001b[1;32m     16\u001b[0m \u001b[39m# do some more unrelated things\u001b[39;00m\n\u001b[0;32m---> 17\u001b[0m \u001b[39mwhile\u001b[39;00m \u001b[39mTrue\u001b[39;00m: time\u001b[39m.\u001b[39msleep(\u001b[39m0.1\u001b[39m)\n",
      "\u001b[0;31mKeyboardInterrupt\u001b[0m: "
     ]
    }
   ],
   "source": [
    "r = sr.Recognizer()\n",
    "m = sr.Microphone()\n",
    "with m as source:\n",
    "    r.adjust_for_ambient_noise(source)  # we only need to calibrate once, before we start listening\n",
    "\n",
    "# start listening in the background (note that we don't have to do this inside a `with` statement)\n",
    "stop_listening = r.listen_in_background(m, callback)\n",
    "# `stop_listening` is now a function that, when called, stops background listening\n",
    "\n",
    "# do some unrelated computations for 5 seconds\n",
    "for _ in range(50):\n",
    "    time.sleep(0.1)  # we're still listening even though the main thread is doing other things\n",
    "\n",
    "# calling this function requests that the background listener stop listening\n",
    "stop_listening(wait_for_stop=False)\n",
    "\n",
    "# do some more unrelated things\n",
    "while True:\n",
    "    time.sleep(\n",
    "        0.1\n",
    "    )  # we're not listening anymore, even though the background thread might still be running for a second or two while cleaning up and stopping"
   ]
  },
  {
   "cell_type": "code",
   "execution_count": 1,
   "metadata": {},
   "outputs": [],
   "source": [
    "import json\n",
    "from pathlib import Path\n",
    "\n",
    "\n",
    "with open(Path(\"../../data/use_case/quotes.json\"), \"r\", encoding=\"utf-8\") as file:\n",
    "    quotes = json.load(file)\n"
   ]
  },
  {
   "cell_type": "code",
   "execution_count": 2,
   "metadata": {},
   "outputs": [
    {
     "data": {
      "text/plain": [
       "{'time': ['time', 'what time is it'],\n",
       " 'well_being': ['how are you'],\n",
       " 'love': ['i love you'],\n",
       " 'name': ['what is your name', \"what's your name\"],\n",
       " 'exit': ['exit', 'quit', 'goodbye']}"
      ]
     },
     "execution_count": 2,
     "metadata": {},
     "output_type": "execute_result"
    }
   ],
   "source": [
    "quotes[\"general\"]\n"
   ]
  },
  {
   "cell_type": "code",
   "execution_count": 4,
   "metadata": {},
   "outputs": [
    {
     "data": {
      "text/plain": [
       "True"
      ]
     },
     "execution_count": 4,
     "metadata": {},
     "output_type": "execute_result"
    }
   ],
   "source": [
    "any(\"time\" in element for element in [\n",
    "    \"time\",\n",
    "    \"what time is it\",\n",
    "    \"how are you\",\n",
    "    \"i love you\",\n",
    "    \"what is your name\",\n",
    "    \"what's your name\",\n",
    "    \"exit\",\n",
    "    \"quit\",\n",
    "    \"goodbye\",\n",
    "])"
   ]
  }
 ],
 "metadata": {
  "kernelspec": {
   "display_name": "Python 3.10.7 ('aswe-AcYaalTJ-py3.10')",
   "language": "python",
   "name": "python3"
  },
  "language_info": {
   "codemirror_mode": {
    "name": "ipython",
    "version": 3
   },
   "file_extension": ".py",
   "mimetype": "text/x-python",
   "name": "python",
   "nbconvert_exporter": "python",
   "pygments_lexer": "ipython3",
   "version": "3.10.7"
  },
  "orig_nbformat": 4,
  "vscode": {
   "interpreter": {
    "hash": "a74c469999195ea67262c391cb1f56b06c0b79c71426a6b79c949ffcd41f2b53"
   }
  }
 },
 "nbformat": 4,
 "nbformat_minor": 2
}
