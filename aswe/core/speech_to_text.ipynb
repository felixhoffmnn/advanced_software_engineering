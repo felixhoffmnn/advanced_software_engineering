{
  "cells": [
    {
      "cell_type": "code",
      "execution_count": 1,
      "metadata": {},
      "outputs": [],
      "source": [
        "import speech_recognition as sr\n",
        "import pyttsx3\n",
        "import pyaudio\n",
        "import time\n"
      ]
    },
    {
      "cell_type": "code",
      "execution_count": 5,
      "metadata": {},
      "outputs": [],
      "source": [
        "# Initialize the recognizer\n",
        "r = sr.Recognizer()\n",
        "\n",
        "# Function to convert text to\n",
        "# speech\n",
        "def SpeakText(command):\n",
        "    # Initialize the engine\n",
        "    engine = pyttsx3.init()\n",
        "    engine.say(command)\n",
        "    engine.runAndWait()"
      ]
    },
    {
      "cell_type": "code",
      "execution_count": 6,
      "metadata": {},
      "outputs": [
        {
          "name": "stdout",
          "output_type": "stream",
          "text": [
            "['Cam Link 4K: USB Audio (hw:1,0)', 'HDA Intel PCH: ALC1150 Analog (hw:2,0)', 'HDA Intel PCH: ALC1150 Digital (hw:2,1)', 'HDA Intel PCH: ALC1150 Alt Analog (hw:2,2)', 'HDA ATI HDMI: 0 (hw:3,3)', 'HDA ATI HDMI: 1 (hw:3,7)', 'HDA ATI HDMI: DELL U2721DE (hw:3,8)', 'HDA ATI HDMI: 3 (hw:3,9)', 'HDA ATI HDMI: 4 (hw:3,10)', 'HDA ATI HDMI: DELL U2722DE (hw:3,11)', 'pipewire', 'default', 'Blue Snowball Mono', 'Cam Link 4K Analog Stereo', 'WEBRTC VoiceEngine', 'Built-in Audio Analog Stereo', 'Built-in Audio Analog Stereo Monitor', 'Ellesmere HDMI Audio [Radeon RX 470/480 / 570/580/590] Digital Stereo (HDMI 3)', 'Ellesmere HDMI Audio [Radeon RX 470/480 / 570/580/590] Digital Stereo (HDMI 3) Monitor', 'WEBRTC VoiceEngine Monitor']\n"
          ]
        },
        {
          "name": "stderr",
          "output_type": "stream",
          "text": [
            "ALSA lib pcm_dsnoop.c:566:(snd_pcm_dsnoop_open) unable to open slave\n",
            "ALSA lib pcm_dmix.c:999:(snd_pcm_dmix_open) unable to open slave\n",
            "ALSA lib pcm.c:2664:(snd_pcm_open_noupdate) Unknown PCM cards.pcm.rear\n",
            "ALSA lib pcm.c:2664:(snd_pcm_open_noupdate) Unknown PCM cards.pcm.center_lfe\n",
            "ALSA lib pcm.c:2664:(snd_pcm_open_noupdate) Unknown PCM cards.pcm.side\n",
            "ALSA lib confmisc.c:1369:(snd_func_refer) Unable to find definition 'cards.0.pcm.hdmi.0:CARD=0,AES0=4,AES1=130,AES2=0,AES3=2'\n",
            "ALSA lib conf.c:5180:(_snd_config_evaluate) function snd_func_refer returned error: No such file or directory\n",
            "ALSA lib conf.c:5703:(snd_config_expand) Evaluate error: No such file or directory\n",
            "ALSA lib pcm.c:2664:(snd_pcm_open_noupdate) Unknown PCM hdmi\n",
            "ALSA lib confmisc.c:1369:(snd_func_refer) Unable to find definition 'cards.0.pcm.hdmi.0:CARD=0,AES0=4,AES1=130,AES2=0,AES3=2'\n",
            "ALSA lib conf.c:5180:(_snd_config_evaluate) function snd_func_refer returned error: No such file or directory\n",
            "ALSA lib conf.c:5703:(snd_config_expand) Evaluate error: No such file or directory\n",
            "ALSA lib pcm.c:2664:(snd_pcm_open_noupdate) Unknown PCM hdmi\n",
            "ALSA lib confmisc.c:1369:(snd_func_refer) Unable to find definition 'cards.0.pcm.modem.0:CARD=0'\n",
            "ALSA lib conf.c:5180:(_snd_config_evaluate) function snd_func_refer returned error: No such file or directory\n",
            "ALSA lib conf.c:5703:(snd_config_expand) Evaluate error: No such file or directory\n",
            "ALSA lib pcm.c:2664:(snd_pcm_open_noupdate) Unknown PCM cards.pcm.phoneline:CARD=0,DEV=0\n",
            "ALSA lib confmisc.c:1369:(snd_func_refer) Unable to find definition 'cards.0.pcm.modem.0:CARD=0'\n",
            "ALSA lib conf.c:5180:(_snd_config_evaluate) function snd_func_refer returned error: No such file or directory\n",
            "ALSA lib conf.c:5703:(snd_config_expand) Evaluate error: No such file or directory\n",
            "ALSA lib pcm.c:2664:(snd_pcm_open_noupdate) Unknown PCM cards.pcm.phoneline:CARD=0,DEV=0\n",
            "ALSA lib confmisc.c:1369:(snd_func_refer) Unable to find definition 'cards.0.pcm.modem.0:CARD=0'\n",
            "ALSA lib conf.c:5180:(_snd_config_evaluate) function snd_func_refer returned error: No such file or directory\n",
            "ALSA lib conf.c:5703:(snd_config_expand) Evaluate error: No such file or directory\n",
            "ALSA lib pcm.c:2664:(snd_pcm_open_noupdate) Unknown PCM phoneline\n",
            "ALSA lib confmisc.c:1369:(snd_func_refer) Unable to find definition 'cards.0.pcm.modem.0:CARD=0'\n",
            "ALSA lib conf.c:5180:(_snd_config_evaluate) function snd_func_refer returned error: No such file or directory\n",
            "ALSA lib conf.c:5703:(snd_config_expand) Evaluate error: No such file or directory\n",
            "ALSA lib pcm.c:2664:(snd_pcm_open_noupdate) Unknown PCM phoneline\n",
            "ALSA lib pcm_dmix.c:999:(snd_pcm_dmix_open) unable to open slave\n"
          ]
        }
      ],
      "source": [
        "print(sr.Microphone.list_microphone_names())\n"
      ]
    },
    {
      "cell_type": "code",
      "execution_count": 13,
      "metadata": {},
      "outputs": [
        {
          "name": "stdout",
          "output_type": "stream",
          "text": [
            "Did you say maxime is lost\n"
          ]
        },
        {
          "ename": "OSError",
          "evalue": "libespeak.so.1: cannot open shared object file: No such file or directory",
          "output_type": "error",
          "traceback": [
            "\u001b[0;31m---------------------------------------------------------------------------\u001b[0m",
            "\u001b[0;31mKeyError\u001b[0m                                  Traceback (most recent call last)",
            "File \u001b[0;32m~/.cache/pypoetry/virtualenvs/advanced-software-engineering-m0rZkWJX-py3.10/lib/python3.10/site-packages/pyttsx3/__init__.py:20\u001b[0m, in \u001b[0;36minit\u001b[0;34m(driverName, debug)\u001b[0m\n\u001b[1;32m     19\u001b[0m \u001b[39mtry\u001b[39;00m:\n\u001b[0;32m---> 20\u001b[0m     eng \u001b[39m=\u001b[39m _activeEngines[driverName]\n\u001b[1;32m     21\u001b[0m \u001b[39mexcept\u001b[39;00m \u001b[39mKeyError\u001b[39;00m:\n",
            "File \u001b[0;32m/usr/lib64/python3.10/weakref.py:137\u001b[0m, in \u001b[0;36mWeakValueDictionary.__getitem__\u001b[0;34m(self, key)\u001b[0m\n\u001b[1;32m    136\u001b[0m     \u001b[39mself\u001b[39m\u001b[39m.\u001b[39m_commit_removals()\n\u001b[0;32m--> 137\u001b[0m o \u001b[39m=\u001b[39m \u001b[39mself\u001b[39;49m\u001b[39m.\u001b[39;49mdata[key]()\n\u001b[1;32m    138\u001b[0m \u001b[39mif\u001b[39;00m o \u001b[39mis\u001b[39;00m \u001b[39mNone\u001b[39;00m:\n",
            "\u001b[0;31mKeyError\u001b[0m: None",
            "\nDuring handling of the above exception, another exception occurred:\n",
            "\u001b[0;31mOSError\u001b[0m                                   Traceback (most recent call last)",
            "Cell \u001b[0;32mIn [13], line 26\u001b[0m\n\u001b[1;32m     23\u001b[0m         MyText \u001b[39m=\u001b[39m MyText\u001b[39m.\u001b[39mlower()\n\u001b[1;32m     25\u001b[0m         \u001b[39mprint\u001b[39m(\u001b[39m\"\u001b[39m\u001b[39mDid you say \u001b[39m\u001b[39m\"\u001b[39m\u001b[39m+\u001b[39mMyText)\n\u001b[0;32m---> 26\u001b[0m         SpeakText(MyText)\n\u001b[1;32m     28\u001b[0m \u001b[39mexcept\u001b[39;00m sr\u001b[39m.\u001b[39mRequestError \u001b[39mas\u001b[39;00m e:\n\u001b[1;32m     29\u001b[0m     \u001b[39mprint\u001b[39m(\u001b[39m\"\u001b[39m\u001b[39mCould not request results; \u001b[39m\u001b[39m{0}\u001b[39;00m\u001b[39m\"\u001b[39m\u001b[39m.\u001b[39mformat(e))\n",
            "Cell \u001b[0;32mIn [5], line 8\u001b[0m, in \u001b[0;36mSpeakText\u001b[0;34m(command)\u001b[0m\n\u001b[1;32m      6\u001b[0m \u001b[39mdef\u001b[39;00m \u001b[39mSpeakText\u001b[39m(command):\n\u001b[1;32m      7\u001b[0m     \u001b[39m# Initialize the engine\u001b[39;00m\n\u001b[0;32m----> 8\u001b[0m     engine \u001b[39m=\u001b[39m pyttsx3\u001b[39m.\u001b[39;49minit()\n\u001b[1;32m      9\u001b[0m     engine\u001b[39m.\u001b[39msay(command)\n\u001b[1;32m     10\u001b[0m     engine\u001b[39m.\u001b[39mrunAndWait()\n",
            "File \u001b[0;32m~/.cache/pypoetry/virtualenvs/advanced-software-engineering-m0rZkWJX-py3.10/lib/python3.10/site-packages/pyttsx3/__init__.py:22\u001b[0m, in \u001b[0;36minit\u001b[0;34m(driverName, debug)\u001b[0m\n\u001b[1;32m     20\u001b[0m     eng \u001b[39m=\u001b[39m _activeEngines[driverName]\n\u001b[1;32m     21\u001b[0m \u001b[39mexcept\u001b[39;00m \u001b[39mKeyError\u001b[39;00m:\n\u001b[0;32m---> 22\u001b[0m     eng \u001b[39m=\u001b[39m Engine(driverName, debug)\n\u001b[1;32m     23\u001b[0m     _activeEngines[driverName] \u001b[39m=\u001b[39m eng\n\u001b[1;32m     24\u001b[0m \u001b[39mreturn\u001b[39;00m eng\n",
            "File \u001b[0;32m~/.cache/pypoetry/virtualenvs/advanced-software-engineering-m0rZkWJX-py3.10/lib/python3.10/site-packages/pyttsx3/engine.py:30\u001b[0m, in \u001b[0;36mEngine.__init__\u001b[0;34m(self, driverName, debug)\u001b[0m\n\u001b[1;32m     20\u001b[0m \u001b[39mdef\u001b[39;00m \u001b[39m__init__\u001b[39m(\u001b[39mself\u001b[39m, driverName\u001b[39m=\u001b[39m\u001b[39mNone\u001b[39;00m, debug\u001b[39m=\u001b[39m\u001b[39mFalse\u001b[39;00m):\n\u001b[1;32m     21\u001b[0m     \u001b[39m\"\"\"\u001b[39;00m\n\u001b[1;32m     22\u001b[0m \u001b[39m    Constructs a new TTS engine instance.\u001b[39;00m\n\u001b[1;32m     23\u001b[0m \n\u001b[0;32m   (...)\u001b[0m\n\u001b[1;32m     28\u001b[0m \u001b[39m    @type debug: bool\u001b[39;00m\n\u001b[1;32m     29\u001b[0m \u001b[39m    \"\"\"\u001b[39;00m\n\u001b[0;32m---> 30\u001b[0m     \u001b[39mself\u001b[39m\u001b[39m.\u001b[39mproxy \u001b[39m=\u001b[39m driver\u001b[39m.\u001b[39;49mDriverProxy(weakref\u001b[39m.\u001b[39;49mproxy(\u001b[39mself\u001b[39;49m), driverName, debug)\n\u001b[1;32m     31\u001b[0m     \u001b[39m# initialize other vars\u001b[39;00m\n\u001b[1;32m     32\u001b[0m     \u001b[39mself\u001b[39m\u001b[39m.\u001b[39m_connects \u001b[39m=\u001b[39m {}\n",
            "File \u001b[0;32m~/.cache/pypoetry/virtualenvs/advanced-software-engineering-m0rZkWJX-py3.10/lib/python3.10/site-packages/pyttsx3/driver.py:50\u001b[0m, in \u001b[0;36mDriverProxy.__init__\u001b[0;34m(self, engine, driverName, debug)\u001b[0m\n\u001b[1;32m     48\u001b[0m \u001b[39m# import driver module\u001b[39;00m\n\u001b[1;32m     49\u001b[0m name \u001b[39m=\u001b[39m \u001b[39m'\u001b[39m\u001b[39mpyttsx3.drivers.\u001b[39m\u001b[39m%s\u001b[39;00m\u001b[39m'\u001b[39m \u001b[39m%\u001b[39m driverName\n\u001b[0;32m---> 50\u001b[0m \u001b[39mself\u001b[39m\u001b[39m.\u001b[39m_module \u001b[39m=\u001b[39m importlib\u001b[39m.\u001b[39;49mimport_module(name)\n\u001b[1;32m     51\u001b[0m \u001b[39m# build driver instance\u001b[39;00m\n\u001b[1;32m     52\u001b[0m \u001b[39mself\u001b[39m\u001b[39m.\u001b[39m_driver \u001b[39m=\u001b[39m \u001b[39mself\u001b[39m\u001b[39m.\u001b[39m_module\u001b[39m.\u001b[39mbuildDriver(weakref\u001b[39m.\u001b[39mproxy(\u001b[39mself\u001b[39m))\n",
            "File \u001b[0;32m/usr/lib64/python3.10/importlib/__init__.py:126\u001b[0m, in \u001b[0;36mimport_module\u001b[0;34m(name, package)\u001b[0m\n\u001b[1;32m    124\u001b[0m             \u001b[39mbreak\u001b[39;00m\n\u001b[1;32m    125\u001b[0m         level \u001b[39m+\u001b[39m\u001b[39m=\u001b[39m \u001b[39m1\u001b[39m\n\u001b[0;32m--> 126\u001b[0m \u001b[39mreturn\u001b[39;00m _bootstrap\u001b[39m.\u001b[39;49m_gcd_import(name[level:], package, level)\n",
            "File \u001b[0;32m<frozen importlib._bootstrap>:1050\u001b[0m, in \u001b[0;36m_gcd_import\u001b[0;34m(name, package, level)\u001b[0m\n",
            "File \u001b[0;32m<frozen importlib._bootstrap>:1027\u001b[0m, in \u001b[0;36m_find_and_load\u001b[0;34m(name, import_)\u001b[0m\n",
            "File \u001b[0;32m<frozen importlib._bootstrap>:1006\u001b[0m, in \u001b[0;36m_find_and_load_unlocked\u001b[0;34m(name, import_)\u001b[0m\n",
            "File \u001b[0;32m<frozen importlib._bootstrap>:688\u001b[0m, in \u001b[0;36m_load_unlocked\u001b[0;34m(spec)\u001b[0m\n",
            "File \u001b[0;32m<frozen importlib._bootstrap_external>:883\u001b[0m, in \u001b[0;36mexec_module\u001b[0;34m(self, module)\u001b[0m\n",
            "File \u001b[0;32m<frozen importlib._bootstrap>:241\u001b[0m, in \u001b[0;36m_call_with_frames_removed\u001b[0;34m(f, *args, **kwds)\u001b[0m\n",
            "File \u001b[0;32m~/.cache/pypoetry/virtualenvs/advanced-software-engineering-m0rZkWJX-py3.10/lib/python3.10/site-packages/pyttsx3/drivers/espeak.py:9\u001b[0m\n\u001b[1;32m      7\u001b[0m \u001b[39mfrom\u001b[39;00m \u001b[39mtempfile\u001b[39;00m \u001b[39mimport\u001b[39;00m NamedTemporaryFile\n\u001b[1;32m      8\u001b[0m \u001b[39mfrom\u001b[39;00m \u001b[39m.\u001b[39;00m\u001b[39m.\u001b[39;00m\u001b[39mvoice\u001b[39;00m \u001b[39mimport\u001b[39;00m Voice\n\u001b[0;32m----> 9\u001b[0m \u001b[39mfrom\u001b[39;00m \u001b[39m.\u001b[39;00m \u001b[39mimport\u001b[39;00m _espeak, toUtf8, fromUtf8\n\u001b[1;32m     12\u001b[0m \u001b[39mdef\u001b[39;00m \u001b[39mbuildDriver\u001b[39m(proxy):\n\u001b[1;32m     13\u001b[0m     \u001b[39mreturn\u001b[39;00m EspeakDriver(proxy)\n",
            "File \u001b[0;32m~/.cache/pypoetry/virtualenvs/advanced-software-engineering-m0rZkWJX-py3.10/lib/python3.10/site-packages/pyttsx3/drivers/_espeak.py:18\u001b[0m\n\u001b[1;32m     15\u001b[0m         aflags\u001b[39m.\u001b[39mappend((arg[\u001b[39m2\u001b[39m], arg[\u001b[39m0\u001b[39m]) \u001b[39m+\u001b[39m arg[\u001b[39m3\u001b[39m:])\n\u001b[1;32m     16\u001b[0m     \u001b[39mreturn\u001b[39;00m CFUNCTYPE(result, \u001b[39m*\u001b[39matypes)((name, dll), \u001b[39mtuple\u001b[39m(aflags))\n\u001b[0;32m---> 18\u001b[0m dll \u001b[39m=\u001b[39m cdll\u001b[39m.\u001b[39;49mLoadLibrary(\u001b[39m'\u001b[39;49m\u001b[39mlibespeak.so.1\u001b[39;49m\u001b[39m'\u001b[39;49m)\n\u001b[1;32m     20\u001b[0m \u001b[39m# constants and such from speak_lib.h\u001b[39;00m\n\u001b[1;32m     22\u001b[0m EVENT_LIST_TERMINATED \u001b[39m=\u001b[39m \u001b[39m0\u001b[39m\n",
            "File \u001b[0;32m/usr/lib64/python3.10/ctypes/__init__.py:452\u001b[0m, in \u001b[0;36mLibraryLoader.LoadLibrary\u001b[0;34m(self, name)\u001b[0m\n\u001b[1;32m    451\u001b[0m \u001b[39mdef\u001b[39;00m \u001b[39mLoadLibrary\u001b[39m(\u001b[39mself\u001b[39m, name):\n\u001b[0;32m--> 452\u001b[0m     \u001b[39mreturn\u001b[39;00m \u001b[39mself\u001b[39;49m\u001b[39m.\u001b[39;49m_dlltype(name)\n",
            "File \u001b[0;32m/usr/lib64/python3.10/ctypes/__init__.py:374\u001b[0m, in \u001b[0;36mCDLL.__init__\u001b[0;34m(self, name, mode, handle, use_errno, use_last_error, winmode)\u001b[0m\n\u001b[1;32m    371\u001b[0m \u001b[39mself\u001b[39m\u001b[39m.\u001b[39m_FuncPtr \u001b[39m=\u001b[39m _FuncPtr\n\u001b[1;32m    373\u001b[0m \u001b[39mif\u001b[39;00m handle \u001b[39mis\u001b[39;00m \u001b[39mNone\u001b[39;00m:\n\u001b[0;32m--> 374\u001b[0m     \u001b[39mself\u001b[39m\u001b[39m.\u001b[39m_handle \u001b[39m=\u001b[39m _dlopen(\u001b[39mself\u001b[39;49m\u001b[39m.\u001b[39;49m_name, mode)\n\u001b[1;32m    375\u001b[0m \u001b[39melse\u001b[39;00m:\n\u001b[1;32m    376\u001b[0m     \u001b[39mself\u001b[39m\u001b[39m.\u001b[39m_handle \u001b[39m=\u001b[39m handle\n",
            "\u001b[0;31mOSError\u001b[0m: libespeak.so.1: cannot open shared object file: No such file or directory"
          ]
        }
      ],
      "source": [
        "# Loop infinitely for user to\n",
        "# speak\n",
        "\n",
        "while 1:\n",
        "\n",
        "    # Exception handling to handle\n",
        "    # exceptions at the runtime\n",
        "    try:\n",
        "\n",
        "        # use the microphone as source for input.\n",
        "        with sr.Microphone() as source2:\n",
        "\n",
        "            # wait for a second to let the recognizer\n",
        "            # adjust the energy threshold based on\n",
        "            # the surrounding noise level\n",
        "            r.adjust_for_ambient_noise(source2, duration=0.2)\n",
        "\n",
        "            # listens for the user's input\n",
        "            audio2 = r.listen(source2)\n",
        "\n",
        "            # Using google to recognize audio\n",
        "            MyText = r.recognize_google(audio2)\n",
        "            MyText = MyText.lower()\n",
        "\n",
        "            print(\"Did you say \" + MyText)\n",
        "            SpeakText(MyText)\n",
        "\n",
        "    except sr.RequestError as e:\n",
        "        print(\"Could not request results; {0}\".format(e))\n",
        "\n",
        "    except sr.UnknownValueError:\n",
        "        print(\"unknown error occured\")"
      ]
    },
    {
      "cell_type": "code",
      "execution_count": 2,
      "metadata": {},
      "outputs": [],
      "source": [
        "# this is called from the background thread\n",
        "def callback(recognizer, audio):\n",
        "    # received audio data, now we'll recognize it using Google Speech Recognition\n",
        "    try:\n",
        "        # for testing purposes, we're just using the default API key\n",
        "        # to use another API key, use `r.recognize_google(audio, key=\"GOOGLE_SPEECH_RECOGNITION_API_KEY\")`\n",
        "        # instead of `r.recognize_google(audio)`\n",
        "        print(\"Google Speech Recognition thinks you said \" + recognizer.recognize_google(audio))\n",
        "    except sr.UnknownValueError:\n",
        "        print(\"Google Speech Recognition could not understand audio\")\n",
        "    except sr.RequestError as e:\n",
        "        print(\"Could not request results from Google Speech Recognition service; {0}\".format(e))\n"
      ]
    },
    {
      "cell_type": "code",
      "execution_count": 5,
      "metadata": {},
      "outputs": [
        {
          "name": "stdout",
          "output_type": "stream",
          "text": [
            "Google Speech Recognition thinks you said what is not intellect\n"
          ]
        },
        {
          "ename": "KeyboardInterrupt",
          "evalue": "",
          "output_type": "error",
          "traceback": [
            "\u001b[0;31m---------------------------------------------------------------------------\u001b[0m",
            "\u001b[0;31mKeyboardInterrupt\u001b[0m                         Traceback (most recent call last)",
            "Cell \u001b[0;32mIn [5], line 17\u001b[0m\n\u001b[1;32m     14\u001b[0m stop_listening(wait_for_stop\u001b[39m=\u001b[39m\u001b[39mFalse\u001b[39;00m)\n\u001b[1;32m     16\u001b[0m \u001b[39m# do some more unrelated things\u001b[39;00m\n\u001b[0;32m---> 17\u001b[0m \u001b[39mwhile\u001b[39;00m \u001b[39mTrue\u001b[39;00m: time\u001b[39m.\u001b[39msleep(\u001b[39m0.1\u001b[39m)\n",
            "\u001b[0;31mKeyboardInterrupt\u001b[0m: "
          ]
        }
      ],
      "source": [
        "r = sr.Recognizer()\n",
        "m = sr.Microphone()\n",
        "with m as source:\n",
        "    r.adjust_for_ambient_noise(source)  # we only need to calibrate once, before we start listening\n",
        "\n",
        "# start listening in the background (note that we don't have to do this inside a `with` statement)\n",
        "stop_listening = r.listen_in_background(m, callback)\n",
        "# `stop_listening` is now a function that, when called, stops background listening\n",
        "\n",
        "# do some unrelated computations for 5 seconds\n",
        "for _ in range(50):\n",
        "    time.sleep(0.1)  # we're still listening even though the main thread is doing other things\n",
        "\n",
        "# calling this function requests that the background listener stop listening\n",
        "stop_listening(wait_for_stop=False)\n",
        "\n",
        "# do some more unrelated things\n",
        "while True:\n",
        "    time.sleep(\n",
        "        0.1\n",
        "    )  # we're not listening anymore, even though the background thread might still be running for a second or two while cleaning up and stopping"
      ]
    },
    {
      "cell_type": "code",
      "execution_count": 36,
      "metadata": {},
      "outputs": [],
      "source": [
        "import json\n",
        "from pathlib import Path\n",
        "\n",
        "\n",
        "with open(Path(\"../../data/quotes.json\"), \"r\", encoding=\"utf-8\") as file:\n",
        "    quotes = json.load(file)\n"
      ]
    },
    {
      "cell_type": "code",
      "execution_count": 2,
      "metadata": {},
      "outputs": [
        {
          "data": {
            "text/plain": [
              "{'time': ['time', 'what time is it'],\n",
              " 'well_being': ['how are you'],\n",
              " 'love': ['i love you'],\n",
              " 'name': ['what is your name', \"what's your name\"],\n",
              " 'exit': ['exit', 'quit', 'goodbye']}"
            ]
          },
          "execution_count": 2,
          "metadata": {},
          "output_type": "execute_result"
        }
      ],
      "source": [
        "quotes[\"general\"]\n"
      ]
    },
    {
      "cell_type": "code",
      "execution_count": 4,
      "metadata": {},
      "outputs": [
        {
          "data": {
            "text/plain": [
              "True"
            ]
          },
          "execution_count": 4,
          "metadata": {},
          "output_type": "execute_result"
        }
      ],
      "source": [
        "any(\"time\" in element for element in [\n",
        "    \"time\",\n",
        "    \"what time is it\",\n",
        "    \"how are you\",\n",
        "    \"i love you\",\n",
        "    \"what is your name\",\n",
        "    \"what's your name\",\n",
        "    \"exit\",\n",
        "    \"quit\",\n",
        "    \"goodbye\",\n",
        "])"
      ]
    },
    {
      "cell_type": "code",
      "execution_count": 74,
      "metadata": {},
      "outputs": [
        {
          "data": {
            "text/html": [
              "<div>\n",
              "<style scoped>\n",
              "    .dataframe tbody tr th:only-of-type {\n",
              "        vertical-align: middle;\n",
              "    }\n",
              "\n",
              "    .dataframe tbody tr th {\n",
              "        vertical-align: top;\n",
              "    }\n",
              "\n",
              "    .dataframe thead th {\n",
              "        text-align: right;\n",
              "    }\n",
              "</style>\n",
              "<table border=\"1\" class=\"dataframe\">\n",
              "  <thead>\n",
              "    <tr style=\"text-align: right;\">\n",
              "      <th></th>\n",
              "      <th>use_case</th>\n",
              "      <th>choice</th>\n",
              "      <th>phrase</th>\n",
              "    </tr>\n",
              "  </thead>\n",
              "  <tbody>\n",
              "    <tr>\n",
              "      <th>0</th>\n",
              "      <td>morningBriefing</td>\n",
              "      <td>1</td>\n",
              "      <td>whats going on</td>\n",
              "    </tr>\n",
              "    <tr>\n",
              "      <th>1</th>\n",
              "      <td>morningBriefing</td>\n",
              "      <td>2</td>\n",
              "      <td>morning briefing</td>\n",
              "    </tr>\n",
              "    <tr>\n",
              "      <th>2</th>\n",
              "      <td>events</td>\n",
              "      <td>1</td>\n",
              "      <td>events</td>\n",
              "    </tr>\n",
              "    <tr>\n",
              "      <th>3</th>\n",
              "      <td>transportation</td>\n",
              "      <td>1</td>\n",
              "      <td>train</td>\n",
              "    </tr>\n",
              "    <tr>\n",
              "      <th>4</th>\n",
              "      <td>transportation</td>\n",
              "      <td>2</td>\n",
              "      <td>bus</td>\n",
              "    </tr>\n",
              "    <tr>\n",
              "      <th>5</th>\n",
              "      <td>transportation</td>\n",
              "      <td>3</td>\n",
              "      <td>car</td>\n",
              "    </tr>\n",
              "    <tr>\n",
              "      <th>6</th>\n",
              "      <td>transportation</td>\n",
              "      <td>4</td>\n",
              "      <td>bike</td>\n",
              "    </tr>\n",
              "    <tr>\n",
              "      <th>7</th>\n",
              "      <td>general</td>\n",
              "      <td>time</td>\n",
              "      <td>time</td>\n",
              "    </tr>\n",
              "    <tr>\n",
              "      <th>8</th>\n",
              "      <td>general</td>\n",
              "      <td>time</td>\n",
              "      <td>what time is it</td>\n",
              "    </tr>\n",
              "    <tr>\n",
              "      <th>9</th>\n",
              "      <td>general</td>\n",
              "      <td>time</td>\n",
              "      <td>what's the time</td>\n",
              "    </tr>\n",
              "    <tr>\n",
              "      <th>10</th>\n",
              "      <td>general</td>\n",
              "      <td>time</td>\n",
              "      <td>what is the time</td>\n",
              "    </tr>\n",
              "    <tr>\n",
              "      <th>11</th>\n",
              "      <td>general</td>\n",
              "      <td>wellBeing</td>\n",
              "      <td>how are you</td>\n",
              "    </tr>\n",
              "    <tr>\n",
              "      <th>12</th>\n",
              "      <td>general</td>\n",
              "      <td>wellBeing</td>\n",
              "      <td>how are you doing</td>\n",
              "    </tr>\n",
              "    <tr>\n",
              "      <th>13</th>\n",
              "      <td>general</td>\n",
              "      <td>wellBeing</td>\n",
              "      <td>how are you feeling</td>\n",
              "    </tr>\n",
              "    <tr>\n",
              "      <th>14</th>\n",
              "      <td>general</td>\n",
              "      <td>wellBeing</td>\n",
              "      <td>how are you doing today</td>\n",
              "    </tr>\n",
              "    <tr>\n",
              "      <th>15</th>\n",
              "      <td>general</td>\n",
              "      <td>wellBeing</td>\n",
              "      <td>how are you feeling today</td>\n",
              "    </tr>\n",
              "    <tr>\n",
              "      <th>16</th>\n",
              "      <td>general</td>\n",
              "      <td>love</td>\n",
              "      <td>i love you</td>\n",
              "    </tr>\n",
              "    <tr>\n",
              "      <th>17</th>\n",
              "      <td>general</td>\n",
              "      <td>name</td>\n",
              "      <td>what is your name</td>\n",
              "    </tr>\n",
              "    <tr>\n",
              "      <th>18</th>\n",
              "      <td>general</td>\n",
              "      <td>name</td>\n",
              "      <td>what's your name</td>\n",
              "    </tr>\n",
              "    <tr>\n",
              "      <th>19</th>\n",
              "      <td>general</td>\n",
              "      <td>exit</td>\n",
              "      <td>exit</td>\n",
              "    </tr>\n",
              "    <tr>\n",
              "      <th>20</th>\n",
              "      <td>general</td>\n",
              "      <td>exit</td>\n",
              "      <td>quit</td>\n",
              "    </tr>\n",
              "    <tr>\n",
              "      <th>21</th>\n",
              "      <td>general</td>\n",
              "      <td>exit</td>\n",
              "      <td>goodbye</td>\n",
              "    </tr>\n",
              "    <tr>\n",
              "      <th>22</th>\n",
              "      <td>general</td>\n",
              "      <td>exit</td>\n",
              "      <td>bye</td>\n",
              "    </tr>\n",
              "  </tbody>\n",
              "</table>\n",
              "</div>"
            ],
            "text/plain": [
              "           use_case     choice                     phrase\n",
              "0   morningBriefing          1             whats going on\n",
              "1   morningBriefing          2           morning briefing\n",
              "2            events          1                     events\n",
              "3    transportation          1                      train\n",
              "4    transportation          2                        bus\n",
              "5    transportation          3                        car\n",
              "6    transportation          4                       bike\n",
              "7           general       time                       time\n",
              "8           general       time            what time is it\n",
              "9           general       time            what's the time\n",
              "10          general       time           what is the time\n",
              "11          general  wellBeing                how are you\n",
              "12          general  wellBeing          how are you doing\n",
              "13          general  wellBeing        how are you feeling\n",
              "14          general  wellBeing    how are you doing today\n",
              "15          general  wellBeing  how are you feeling today\n",
              "16          general       love                 i love you\n",
              "17          general       name          what is your name\n",
              "18          general       name           what's your name\n",
              "19          general       exit                       exit\n",
              "20          general       exit                       quit\n",
              "21          general       exit                    goodbye\n",
              "22          general       exit                        bye"
            ]
          },
          "execution_count": 74,
          "metadata": {},
          "output_type": "execute_result"
        }
      ],
      "source": [
        "import pandas as pd\n",
        "\n",
        "# normalize json\n",
        "# test = [[key, key2, value2] for key, value in quotes.items() for key2, value2 in value.items()]\n",
        "pd.DataFrame(\n",
        "    [[use_case, choice, phrase] for use_case, value in quotes.items() for choice, phrase in value.items()],\n",
        "    columns=[\"use_case\", \"choice\", \"phrase\"],\n",
        ").explode(\"phrase\").reset_index(drop=True)"
      ]
    },
    {
      "cell_type": "code",
      "execution_count": 33,
      "metadata": {},
      "outputs": [
        {
          "name": "stdout",
          "output_type": "stream",
          "text": [
            "general_time_3 {'morningBriefing_1_0': 0.4, 'morningBriefing_2_0': 0.3783783783783784, 'events_1_0': 0.37037037037037035, 'transportation_1_0': 0.23076923076923078, 'transportation_2_0': 0.08333333333333333, 'transportation_3_0': 0.08333333333333333, 'transportation_4_0': 0.24, 'general_time_0': 0.32, 'general_time_1': 0.6111111111111112, 'general_time_2': 0.5555555555555556, 'general_time_3': 0.6486486486486487, 'general_wellBeing_0': 0.25, 'general_wellBeing_1': 0.3684210526315789, 'general_wellBeing_2': 0.5, 'general_wellBeing_3': 0.36363636363636365, 'general_wellBeing_4': 0.4782608695652174, 'general_love_0': 0.3870967741935484, 'general_name_0': 0.5263157894736842, 'general_name_1': 0.43243243243243246, 'general_exit_0': 0.24, 'general_exit_1': 0.16, 'general_exit_2': 0.14285714285714285, 'general_exit_3': 0.08333333333333333}\n"
          ]
        }
      ],
      "source": [
        "from difflib import SequenceMatcher, \n",
        "from flatten_json import flatten\n",
        "\n",
        "flat_json: dict[str, str] = flatten(quotes)\n",
        "result = {key: SequenceMatcher(None, \"time, test, leo, nick\", value).quick_ratio() for key, value in flat_json.items()}\n",
        "print(max(result, key=result.get), result)"
      ]
    },
    {
      "cell_type": "code",
      "execution_count": 35,
      "metadata": {},
      "outputs": [
        {
          "data": {
            "text/plain": [
              "{'morningBriefing_1_0': 0.4,\n",
              " 'morningBriefing_2_0': 0.3783783783783784,\n",
              " 'events_1_0': 0.37037037037037035,\n",
              " 'transportation_1_0': 0.23076923076923078,\n",
              " 'transportation_2_0': 0.08333333333333333,\n",
              " 'transportation_3_0': 0.08333333333333333,\n",
              " 'transportation_4_0': 0.24,\n",
              " 'general_time_0': 0.32,\n",
              " 'general_time_1': 0.6111111111111112,\n",
              " 'general_time_2': 0.5555555555555556,\n",
              " 'general_time_3': 0.6486486486486487,\n",
              " 'general_wellBeing_0': 0.25,\n",
              " 'general_wellBeing_1': 0.3684210526315789,\n",
              " 'general_wellBeing_2': 0.5,\n",
              " 'general_wellBeing_3': 0.36363636363636365,\n",
              " 'general_wellBeing_4': 0.4782608695652174,\n",
              " 'general_love_0': 0.3870967741935484,\n",
              " 'general_name_0': 0.5263157894736842,\n",
              " 'general_name_1': 0.43243243243243246,\n",
              " 'general_exit_0': 0.24,\n",
              " 'general_exit_1': 0.16,\n",
              " 'general_exit_2': 0.14285714285714285,\n",
              " 'general_exit_3': 0.08333333333333333}"
            ]
          },
          "execution_count": 35,
          "metadata": {},
          "output_type": "execute_result"
        }
      ],
      "source": [
        "result"
      ]
    }
  ],
  "metadata": {
    "kernelspec": {
      "display_name": "Python 3.10.7 ('aswe-AcYaalTJ-py3.10')",
      "language": "python",
      "name": "python3"
    },
    "language_info": {
      "codemirror_mode": {
        "name": "ipython",
        "version": 3
      },
      "file_extension": ".py",
      "mimetype": "text/x-python",
      "name": "python",
      "nbconvert_exporter": "python",
      "pygments_lexer": "ipython3",
      "version": "3.10.7"
    },
    "orig_nbformat": 4,
    "vscode": {
      "interpreter": {
        "hash": "a74c469999195ea67262c391cb1f56b06c0b79c71426a6b79c949ffcd41f2b53"
      }
    }
  },
  "nbformat": 4,
  "nbformat_minor": 2
}
