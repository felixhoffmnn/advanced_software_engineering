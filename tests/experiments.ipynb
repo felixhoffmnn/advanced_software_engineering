{
  "cells": [
    {
      "cell_type": "markdown",
      "metadata": {},
      "source": [
        "`test_quotes.py`"
      ]
    },
    {
      "cell_type": "code",
      "execution_count": 17,
      "metadata": {},
      "outputs": [],
      "source": [
        "import json\n",
        "from collections import Counter\n",
        "from itertools import chain\n",
        "from pathlib import Path\n",
        "\n",
        "with open(Path(\"../data/quotes.json\"), encoding=\"utf-8\") as file:\n",
        "    quotes = json.load(file)\n",
        "\n",
        "counter = Counter(list(chain.from_iterable([list(chain.from_iterable(e.values())) for e in quotes.values()])))\n",
        "for key, value in counter.items():\n",
        "    if value != 1:\n",
        "        raise ValueError(f\"Value {key} is not unique.\")"
      ]
    },
    {
      "cell_type": "code",
      "execution_count": 20,
      "metadata": {},
      "outputs": [
        {
          "data": {
            "text/plain": [
              "['whats going on',\n",
              " 'morning briefing',\n",
              " 'events',\n",
              " 'train',\n",
              " 'bus',\n",
              " 'car',\n",
              " 'bike',\n",
              " 'time',\n",
              " 'what time is it',\n",
              " \"what's the time\",\n",
              " 'what is the time',\n",
              " 'how are you',\n",
              " 'how are you doing',\n",
              " 'how are you feeling',\n",
              " 'how are you doing today',\n",
              " 'how are you feeling today',\n",
              " 'i love you',\n",
              " 'what is your name',\n",
              " \"what's your name\",\n",
              " 'exit',\n",
              " 'quit',\n",
              " 'goodbye',\n",
              " 'bye']"
            ]
          },
          "execution_count": 20,
          "metadata": {},
          "output_type": "execute_result"
        }
      ],
      "source": [
        "list(chain.from_iterable([list(chain.from_iterable(e.values())) for e in quotes.values()]))"
      ]
    },
    {
      "cell_type": "markdown",
      "metadata": {},
      "source": [
        "`test_user_interaction.py`"
      ]
    },
    {
      "cell_type": "code",
      "execution_count": 1,
      "metadata": {},
      "outputs": [
        {
          "name": "stdout",
          "output_type": "stream",
          "text": [
            "User: this is a test for the text to speech conversion\n"
          ]
        },
        {
          "data": {
            "text/plain": [
              "'this is a test for the text to speech conversion'"
            ]
          },
          "execution_count": 1,
          "metadata": {},
          "output_type": "execute_result"
        }
      ],
      "source": [
        "from pathlib import Path\n",
        "\n",
        "from aswe.core.user_interaction import SpeechToText\n",
        "\n",
        "audio_path = Path(\"../data/test_user_interaction.wav\")\n",
        "stt = SpeechToText(microphone_index=-1)\n",
        "\n",
        "parsed_text = stt.convert_audio_file(audio_path)"
      ]
    }
  ],
  "metadata": {
    "kernelspec": {
      "display_name": "Python 3.10.7 ('aswe-AcYaalTJ-py3.10')",
      "language": "python",
      "name": "python3"
    },
    "language_info": {
      "codemirror_mode": {
        "name": "ipython",
        "version": 3
      },
      "file_extension": ".py",
      "mimetype": "text/x-python",
      "name": "python",
      "nbconvert_exporter": "python",
      "pygments_lexer": "ipython3",
      "version": "3.10.7"
    },
    "orig_nbformat": 4,
    "vscode": {
      "interpreter": {
        "hash": "a74c469999195ea67262c391cb1f56b06c0b79c71426a6b79c949ffcd41f2b53"
      }
    }
  },
  "nbformat": 4,
  "nbformat_minor": 2
}
