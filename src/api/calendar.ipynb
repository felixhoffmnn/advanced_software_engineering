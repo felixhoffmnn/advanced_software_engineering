{
 "cells": [
  {
   "cell_type": "code",
   "execution_count": 47,
   "metadata": {},
   "outputs": [],
   "source": [
    "import pickle\n",
    "import os.path\n",
    "from dataclasses import dataclass\n",
    "from datetime import datetime\n",
    "from datetime import timedelta\n",
    "from googleapiclient.discovery import build\n",
    "from google_auth_oauthlib.flow import InstalledAppFlow\n",
    "from google.auth.transport.requests import Request"
   ]
  },
  {
   "cell_type": "code",
   "execution_count": 48,
   "metadata": {},
   "outputs": [],
   "source": [
    "SCOPES = ['https://www.googleapis.com/auth/calendar']\n",
    "CREDENTIALS_FILE = '../../../credentials.json'\n",
    "PICKLE_FILE = '../../../token.pickle'"
   ]
  },
  {
   "cell_type": "code",
   "execution_count": 49,
   "metadata": {},
   "outputs": [],
   "source": [
    "# startTime/endTime format: \"yyyy-MM-ddTHH:mm:ss+02:00\"\n",
    "# date format: \"yyyy-MM-dd\"\n",
    "@dataclass\n",
    "class Event:\n",
    "    title: str\n",
    "    description: str\n",
    "    location: str\n",
    "    full_day: bool\n",
    "    date: str\n",
    "    startTime: str\n",
    "    endTime: str"
   ]
  },
  {
   "cell_type": "code",
   "execution_count": 50,
   "metadata": {},
   "outputs": [],
   "source": [
    "def get_calendar_service():\n",
    "    creds = None\n",
    "    if os.path.exists(PICKLE_FILE): # stores access tokens once created (automatically)\n",
    "        with open(PICKLE_FILE, 'rb') as token:\n",
    "            creds = pickle.load(token)\n",
    "    if not creds or not creds.valid:\n",
    "        if creds and creds.expired and creds.refresh_token:\n",
    "            creds.refresh(Request())\n",
    "        else:\n",
    "            flow = InstalledAppFlow.from_client_secrets_file(\n",
    "                CREDENTIALS_FILE, SCOPES)\n",
    "            creds = flow.run_local_server(port=0)\n",
    "\n",
    "        # Save the credentials for the next run\n",
    "        with open(PICKLE_FILE, 'wb') as token:\n",
    "            pickle.dump(creds, token)\n",
    "\n",
    "    service = build('calendar', 'v3', credentials=creds)\n",
    "    return service"
   ]
  },
  {
   "cell_type": "code",
   "execution_count": 51,
   "metadata": {},
   "outputs": [
    {
     "name": "stdout",
     "output_type": "stream",
     "text": [
      "[Event(title='Test2', description='Beschreibung', location='Ortsname', full_day=True, date='2022-10-19', startTime='', endTime=''), Event(title='Test', description='', location='', full_day=False, date='', startTime='2022-10-19T20:00:00+02:00', endTime='2022-10-19T21:00:00+02:00')]\n"
     ]
    }
   ],
   "source": [
    "# timestamp format: \"yyyy-MM-ddTHH:mm:ss.ffffffZ\"\n",
    "def getEventsByTimeframe(min_timestamp: str, max_timestamp: str):\n",
    "    service = get_calendar_service()\n",
    "\n",
    "    eventsResult = service.events().list(\n",
    "        calendarId='primary',\n",
    "        timeMin=min_timestamp,\n",
    "        timeMax=max_timestamp,\n",
    "        maxResults=100,\n",
    "        singleEvents=True,\n",
    "        orderBy='startTime',\n",
    "    ).execute()\n",
    "\n",
    "    events = eventsResult.get('items', [])\n",
    "\n",
    "    if not events:\n",
    "        print('No upcoming events found.')\n",
    "        return events\n",
    "\n",
    "    eventArray = []\n",
    "    for eventData in events:\n",
    "        event = Event(\n",
    "            title = eventData.get('summary', ''),\n",
    "            description = eventData.get('description', ''),\n",
    "            location = eventData.get('location', ''),\n",
    "            full_day = 'date' in eventData.get('start', {}),\n",
    "            date = eventData.get('start', {}).get('date', ''),\n",
    "            startTime = eventData.get('start', {}).get('dateTime', ''),\n",
    "            endTime = eventData.get('end', {}).get('dateTime', '')\n",
    "        )\n",
    "        eventArray.append(event)\n",
    "    \n",
    "    return eventArray\n",
    "\n",
    "# Example usage:\n",
    "# print(getEventsByTimeframe(\"2022-10-19T00:00:00.000001Z\", \"2022-10-19T23:59:59.999999Z\"))"
   ]
  },
  {
   "cell_type": "code",
   "execution_count": 52,
   "metadata": {},
   "outputs": [
    {
     "name": "stdout",
     "output_type": "stream",
     "text": [
      "[Event(title='Test3', description='', location='', full_day=False, date='', startTime='2022-10-20T13:00:00+02:00', endTime='2022-10-20T14:00:00+02:00')]\n"
     ]
    }
   ],
   "source": [
    "def getAllEventsToday():\n",
    "    todayMin = datetime.today().strftime('%Y-%m-%dT00:00:00.000001Z')\n",
    "    todayMax = datetime.today().strftime('%Y-%m-%dT23:59:59.999999Z')\n",
    "\n",
    "    return getEventsByTimeframe(todayMin, todayMax)\n",
    "\n",
    "# Example usage:\n",
    "# print(getAllEventsToday())"
   ]
  },
  {
   "cell_type": "code",
   "execution_count": 53,
   "metadata": {},
   "outputs": [
    {
     "name": "stdout",
     "output_type": "stream",
     "text": [
      "Created Event: {'summary': 'TestCreate1', 'location': 'Location1', 'description': 'Description1', 'start': {'dateTime': '2022-10-20T16:30:00+02:00', 'timeZone': 'Europe/Berlin'}, 'end': {'dateTime': '2022-10-20T17:30:00+02:00', 'timeZone': 'Europe/Berlin'}}\n"
     ]
    }
   ],
   "source": [
    "def createEvent(eventInfo: Event):\n",
    "    if eventInfo.full_day:\n",
    "        endDate = (datetime.fromisoformat(eventInfo.date) + timedelta(days=1)).strftime('%Y-%m-%d')\n",
    "    else:\n",
    "        endDate = ''\n",
    "\n",
    "    event = {\n",
    "    'summary': eventInfo.title,\n",
    "    'location': eventInfo.location,\n",
    "    'description': eventInfo.description,\n",
    "    'start': {\n",
    "        'dateTime': eventInfo.startTime,\n",
    "        'timeZone': 'Europe/Berlin',\n",
    "        'date': eventInfo.date\n",
    "    },\n",
    "    'end': {\n",
    "        'dateTime': eventInfo.endTime,\n",
    "        'timeZone': 'Europe/Berlin',\n",
    "        'date': endDate\n",
    "    }\n",
    "    }\n",
    "\n",
    "    if eventInfo.full_day:\n",
    "        event.get('start').pop('dateTime')\n",
    "        event.get('start').pop('timeZone')\n",
    "        event.get('end').pop('dateTime')\n",
    "        event.get('end').pop('timeZone')\n",
    "    else:\n",
    "        event.get('start').pop('date')\n",
    "        event.get('end').pop('date')\n",
    "\n",
    "    service = get_calendar_service()\n",
    "    createdEvent = service.events().insert(calendarId='primary', body=event).execute()\n",
    "\n",
    "    # print(f'Created Event: {event}')\n",
    "    \n",
    "\n",
    "\n",
    "# Example usage:\n",
    "# createEvent(Event(\n",
    "#     title = 'TestCreate1',\n",
    "#     description = 'Description1',\n",
    "#     location = 'Location1',\n",
    "#     full_day = False,\n",
    "#     date = '2022-10-20',\n",
    "#     startTime = '2022-10-20T16:30:00+02:00',\n",
    "#     endTime = '2022-10-20T17:30:00+02:00'\n",
    "# ))\n"
   ]
  }
 ],
 "metadata": {
  "kernelspec": {
   "display_name": "Python 3.8.8 ('base')",
   "language": "python",
   "name": "python3"
  },
  "language_info": {
   "codemirror_mode": {
    "name": "ipython",
    "version": 3
   },
   "file_extension": ".py",
   "mimetype": "text/x-python",
   "name": "python",
   "nbconvert_exporter": "python",
   "pygments_lexer": "ipython3",
   "version": "3.8.8"
  },
  "orig_nbformat": 4,
  "vscode": {
   "interpreter": {
    "hash": "de4e9109d5859e703bb46671643fbb9b6de0e73abc3c679ee725e52a4795f3ac"
   }
  }
 },
 "nbformat": 4,
 "nbformat_minor": 2
}
