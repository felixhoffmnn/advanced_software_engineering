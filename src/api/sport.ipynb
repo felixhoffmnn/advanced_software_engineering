{
 "cells": [
  {
   "cell_type": "code",
   "execution_count": 4,
   "metadata": {},
   "outputs": [],
   "source": [
    "import sys\n",
    "import os\n",
    "\n",
    "module_path = os.path.abspath(os.path.join(\"..\"))\n",
    "if module_path not in sys.path:\n",
    "    sys.path.append(module_path)\n",
    "from utils.http_request import http_request"
   ]
  },
  {
   "cell_type": "code",
   "execution_count": 5,
   "metadata": {},
   "outputs": [],
   "source": [
    "headers = { 'X-Auth-Token': \"fd9319ab2ce94d5f95a1f8f922f0dea4\" }"
   ]
  },
  {
   "cell_type": "code",
   "execution_count": 6,
   "metadata": {},
   "outputs": [],
   "source": [
    "def convert_league_name(name):\n",
    "    valid = {\"Premier League\", \"Primera Division\", \"Serie A\", \"Bundesliga\", \"Ligue 1\", \"FIFA World Cup\", \"UEFA Champions League\", \"Eredivisie\", \"Campeonato Brasileiro Série A\", \"Championship\", \"Primeira Liga\", \"European Championship\"}\n",
    "    if name not in valid:\n",
    "        raise ValueError(\"results: status must be one of %r.\" % valid)\n",
    "    if name == \"Premier League\" or name == \"English League\":\n",
    "        return \"PL\"\n",
    "    elif name == \"Primera Division\" or name == \"Spanish League\":\n",
    "        return \"PD\"\n",
    "    elif name == \"Serie A\" or name == \"Italian League\":\n",
    "        return \"SA\"\n",
    "    elif name == \"Bundesliga\" or name == \"German League\":\n",
    "        return \"BL1\"\n",
    "    elif name == \"Ligue 1\" or name == \"French League\":\n",
    "        return \"FL1\"\n",
    "    elif name == \"FIFA World Cup\" or name == \"World Cup\":\n",
    "        return \"WC\"\n",
    "    elif name == \"UEFA Champions League\" or name == \"Champions League\":\n",
    "        return \"Cl\"\n",
    "    elif name == \"Eredivisie\" or name == \"Dutch League\":\n",
    "        return \"DED\"\n",
    "    elif name == \"Campeonato Brasileiro Série A\" or name == \"Brazilian League\":\n",
    "        return \"BSA\"\n",
    "    elif name == \"Championship\" or name == \"English League 2\":\n",
    "        return \"ELC\"\n",
    "    elif name == \"Primeira Liga\" or name == \"Portuguese League\":\n",
    "        return \"PPL\"\n",
    "    elif name == \"European Championship\" or name == \"Euro\":\n",
    "        return \"EC\"\n"
   ]
  },
  {
   "cell_type": "code",
   "execution_count": 7,
   "metadata": {},
   "outputs": [],
   "source": [
    "def get_league_standings(league):\n",
    "    valid = {\"WC\", \"CL\", \"BL1\", \"DED\", \"BSA\", \"PD\", \"FL1\", \"ELC\", \"PPL\", \"EC\", \"SA\", \"PL\"}\n",
    "    standings = \"\"\n",
    "    if league not in valid:\n",
    "        raise ValueError(\"results: status must be one of %r.\" % valid)\n",
    "    results = http_request(f\"https://api.football-data.org/v4/competitions/{league}/standings\", headers=headers)\n",
    "    for i in range(len(results[\"standings\"][0][\"table\"])):\n",
    "        standings += str(results[\"standings\"][0][\"table\"][i][\"position\"]) + \". \" + results[\"standings\"][0][\"table\"][i][\"team\"][\"name\"] + \" - \" + str(results[\"standings\"][0][\"table\"][i][\"points\"]) + \" points\\n\"\n",
    "    return standings"
   ]
  },
  {
   "cell_type": "code",
   "execution_count": 8,
   "metadata": {},
   "outputs": [],
   "source": [
    "def get_matchday_matches(league, matchday):\n",
    "    valid = {\"WC\", \"CL\", \"BL1\", \"DED\", \"BSA\", \"PD\", \"FL1\", \"ELC\", \"PPL\", \"EC\", \"SA\", \"PL\"}\n",
    "    matches = \"\"\n",
    "    if league not in valid:\n",
    "        raise ValueError(\"results: status must be one of %r.\" % valid)\n",
    "    results = http_request(f\"https://api.football-data.org/v4/competitions/{league}/matches?matchday={matchday}\", headers=headers)\n",
    "    for i in range(len(results[\"matches\"])):\n",
    "        if results[\"matches\"][i][\"status\"] == \"SCHEDULED\"or results[\"matches\"][i][\"status\"] == \"TIMED\":\n",
    "            matches += \"playing on the \" + results[\"matches\"][i][\"utcDate\"][-12:-10] + \".\" + results[\"matches\"][i][\"utcDate\"][-15:-13] + \".\" + results[\"matches\"][i][\"utcDate\"][0:4] + \" at \" + str(int(results[\"matches\"][i][\"utcDate\"][-9:-7])+2) + results[\"matches\"][i][\"utcDate\"][-7:-4] + \": \" + results[\"matches\"][i][\"homeTeam\"][\"name\"] + \" vs \" + results[\"matches\"][i][\"awayTeam\"][\"name\"] + \"\\n\"  \n",
    "        elif results[\"matches\"][i][\"status\"] == \"FINISHED\":\n",
    "            matches += \"played on the \" + results[\"matches\"][i][\"utcDate\"][-12:-10] + \".\" + results[\"matches\"][i][\"utcDate\"][-15:-13] + \".\" + results[\"matches\"][i][\"utcDate\"][0:4] + \" at \" + str(int(results[\"matches\"][i][\"utcDate\"][-9:-7])+2) + results[\"matches\"][i][\"utcDate\"][-7:-4] + \": \" + results[\"matches\"][i][\"homeTeam\"][\"name\"] + \" \" + str(results[\"matches\"][i][\"score\"][\"fullTime\"][\"home\"]) + \" : \" + str(results[\"matches\"][i][\"score\"][\"fullTime\"][\"away\"]) + \" \" + results[\"matches\"][i][\"awayTeam\"][\"name\"] + \"\\n\"  \n",
    "    return matches"
   ]
  },
  {
   "cell_type": "code",
   "execution_count": 9,
   "metadata": {},
   "outputs": [],
   "source": [
    "def get_ongoing_matches(league = \"\"):\n",
    "    valid = {\"WC\", \"CL\", \"BL1\", \"DED\", \"BSA\", \"PD\", \"FL1\", \"ELC\", \"PPL\", \"EC\", \"SA\", \"PL\", \"\"}\n",
    "    matches = \"\"\n",
    "    if league not in valid:\n",
    "        raise ValueError(\"results: status must be one of %r.\" % valid)\n",
    "    results = http_request(f'https://api.football-data.org/v4/matches?status=IN_PLAY', headers=headers)\n",
    "    for i in range(len(results[\"matches\"])):\n",
    "        if results[\"matches\"][i][\"competition\"][\"code\"] == league or league == \"\":\n",
    "            matches += \"playing at \" + str(int(results[\"matches\"][i][\"utcDate\"][-9:-7])+2) + results[\"matches\"][i][\"utcDate\"][-7:-4] + \": \" + results[\"matches\"][i][\"homeTeam\"][\"name\"] + \" vs \" + results[\"matches\"][i][\"awayTeam\"][\"name\"] + \" in \" + results[\"matches\"][i][\"competition\"][\"name\"] + \"\\n\"\n",
    "    return matches"
   ]
  },
  {
   "cell_type": "code",
   "execution_count": 10,
   "metadata": {},
   "outputs": [],
   "source": [
    "def get_matches_today(league = \"\"):\n",
    "    valid = {\"WC\", \"CL\", \"BL1\", \"DED\", \"BSA\", \"PD\", \"FL1\", \"ELC\", \"PPL\", \"EC\", \"SA\", \"PL\", \"\"}\n",
    "    matches = \"\"\n",
    "    if league not in valid:\n",
    "        raise ValueError(\"results: status must be one of %r.\" % valid)\n",
    "    results = http_request(f'https://api.football-data.org/v4/matches?status=SCHEDULED', headers=headers)\n",
    "    for i in range(len(results[\"matches\"])):\n",
    "        if results[\"matches\"][i][\"competition\"][\"code\"] == league or league == \"\":\n",
    "            matches += \"playing at \" + str(int(results[\"matches\"][i][\"utcDate\"][-9:-7])+2) + results[\"matches\"][i][\"utcDate\"][-7:-4] + \": \" + results[\"matches\"][i][\"homeTeam\"][\"name\"] + \" vs \" + results[\"matches\"][i][\"awayTeam\"][\"name\"] + \" in \" + results[\"matches\"][i][\"competition\"][\"name\"] + \"\\n\"\n",
    "    return matches"
   ]
  },
  {
   "cell_type": "code",
   "execution_count": null,
   "metadata": {},
   "outputs": [],
   "source": []
  }
 ],
 "metadata": {
  "kernelspec": {
   "display_name": "Python 3.10.8 ('advanced-software-engineering-1dLge2xI-py3.10')",
   "language": "python",
   "name": "python3"
  },
  "language_info": {
   "codemirror_mode": {
    "name": "ipython",
    "version": 3
   },
   "file_extension": ".py",
   "mimetype": "text/x-python",
   "name": "python",
   "nbconvert_exporter": "python",
   "pygments_lexer": "ipython3",
   "version": "3.10.8"
  },
  "orig_nbformat": 4,
  "vscode": {
   "interpreter": {
    "hash": "559d28ad8bdf1afbc113991f661d3a3d2183e7932bc3daf0a788ec2f684f3799"
   }
  }
 },
 "nbformat": 4,
 "nbformat_minor": 2
}
