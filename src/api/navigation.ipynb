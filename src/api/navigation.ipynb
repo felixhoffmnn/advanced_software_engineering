{
 "cells": [
  {
   "cell_type": "code",
   "execution_count": 17,
   "metadata": {},
   "outputs": [],
   "source": [
    "from vvspy import get_departures, get_trips\n",
    "from vvspy.obj import Departure, Trip\n",
    "\n",
    "from datetime import datetime"
   ]
  },
  {
   "cell_type": "code",
   "execution_count": 18,
   "metadata": {},
   "outputs": [],
   "source": [
    "station_1 = \"de:08111:355\"  # Wallgraben\n",
    "station_2 = \"de:08111:6002\" # Vaihingen\n",
    "station_3 = \"de:08111:6112\" # Hauptbahnhof\n",
    "station_4 = \"de:08111:6056\" # Stadtmitte"
   ]
  },
  {
   "cell_type": "code",
   "execution_count": 19,
   "metadata": {},
   "outputs": [
    {
     "name": "stdout",
     "output_type": "stream",
     "text": [
      "[Delayed] [15:42] [82]: Waldeck - Rohr Mitte\n",
      "[15:43] [U3]: Vaihingen Bf - Plieningen\n",
      "[15:44] [81]: Hegel-Gymnasium - Büsnauer Platz\n",
      "[15:46] [82]: Vaihingen ZOB - Rohr Mitte\n",
      "[15:46] [82]: Rohr Mitte - Waldeck\n",
      "[Delayed] [15:50] [81]: Lambertweg - Büsnau\n",
      "[Delayed] [15:51] [81]: Büsnauer Platz - Dürrlewang\n",
      "[15:50] [S1]: Kirchheim (T) - Herrenberg\n",
      "[15:50] [U1]: Vaihingen Bf - Fellbach\n",
      "[15:50] [S2]: Flughafen/Messe - Schorndorf\n"
     ]
    }
   ],
   "source": [
    "\"\"\"\n",
    "Get specific data about incoming departure \n",
    "and e.g. display them on a monitor\n",
    "\"\"\"\n",
    "\n",
    "result = get_departures(station_2, limit=10)\n",
    "\n",
    "if result:\n",
    "  for res in result:\n",
    "    print(res)"
   ]
  },
  {
   "cell_type": "code",
   "execution_count": 20,
   "metadata": {},
   "outputs": [
    {
     "name": "stdout",
     "output_type": "stream",
     "text": [
      "Connection (12 minutes):\n",
      "[S2]: [13:42] @ Stadtmitte - [13:54] @ Vaihingen\n",
      "Connection (12 minutes):\n",
      "[S3]: [13:47] @ Stadtmitte - [13:59] @ Vaihingen\n",
      "Connection (12 minutes):\n",
      "[S1]: [13:52] @ Stadtmitte - [14:04] @ Vaihingen\n",
      "Connection (12 minutes):\n",
      "[S2]: [13:57] @ Stadtmitte - [14:09] @ Vaihingen\n"
     ]
    }
   ],
   "source": [
    "result = get_trips(station_4, station_2, limit=10)\n",
    "\n",
    "if result:\n",
    "  for res in result:\n",
    "    print(res)"
   ]
  }
 ],
 "metadata": {
  "kernelspec": {
   "display_name": "Python 3.10.7 ('advanced-software-engineering-m0rZkWJX-py3.10')",
   "language": "python",
   "name": "python3"
  },
  "language_info": {
   "codemirror_mode": {
    "name": "ipython",
    "version": 3
   },
   "file_extension": ".py",
   "mimetype": "text/x-python",
   "name": "python",
   "nbconvert_exporter": "python",
   "pygments_lexer": "ipython3",
   "version": "3.10.7"
  },
  "orig_nbformat": 4,
  "vscode": {
   "interpreter": {
    "hash": "bf8b431bd882305fa2204d37c1172188ac3de8806d6e176113016cf335ff1325"
   }
  }
 },
 "nbformat": 4,
 "nbformat_minor": 2
}
