{
 "cells": [
  {
   "cell_type": "code",
   "execution_count": null,
   "metadata": {},
   "outputs": [],
   "source": [
    "import os\n",
    "from datetime import datetime\n",
    "\n",
    "import googlemaps\n",
    "from vvspy import get_departures, get_trips\n",
    "from vvspy.obj import Departure, Trip"
   ]
  },
  {
   "cell_type": "code",
   "execution_count": null,
   "metadata": {},
   "outputs": [],
   "source": [
    "station_1 = \"de:08111:355\"  # Wallgraben\n",
    "station_2 = \"de:08111:6002\"  # Vaihingen\n",
    "station_3 = \"de:08111:6112\"  # Hauptbahnhof\n",
    "station_4 = \"de:08111:6056\"  # Stadtmitte"
   ]
  },
  {
   "cell_type": "code",
   "execution_count": null,
   "metadata": {},
   "outputs": [],
   "source": [
    "\"\"\"\n",
    "Get specific data about incoming departure \n",
    "and e.g. display them on a monitor\n",
    "\"\"\"\n",
    "\n",
    "result = get_departures(station_2, limit=10)\n",
    "\n",
    "if result:\n",
    "    for res in result:\n",
    "        print(res)"
   ]
  },
  {
   "cell_type": "code",
   "execution_count": null,
   "metadata": {},
   "outputs": [],
   "source": [
    "result = get_trips(station_4, station_2, limit=10)\n",
    "\n",
    "if result:\n",
    "    for res in result:\n",
    "        print(res)"
   ]
  },
  {
   "cell_type": "code",
   "execution_count": null,
   "metadata": {},
   "outputs": [],
   "source": [
    "gmaps = googlemaps.Client(key=os.getenv(\"GOOGLE_MAPS_API_KEY\"))"
   ]
  },
  {
   "cell_type": "code",
   "execution_count": null,
   "metadata": {},
   "outputs": [],
   "source": [
    "now = datetime.now()\n",
    "directions_result = gmaps.directions(\"Sydney Town Hall\", \"Parramatta, NSW\", mode=\"transit\", departure_time=now)\n",
    "\n",
    "directions_result"
   ]
  }
 ],
 "metadata": {
  "kernelspec": {
   "display_name": "Python 3.10.7 ('advanced-software-engineering-m0rZkWJX-py3.10')",
   "language": "python",
   "name": "python3"
  },
  "language_info": {
   "codemirror_mode": {
    "name": "ipython",
    "version": 3
   },
   "file_extension": ".py",
   "mimetype": "text/x-python",
   "name": "python",
   "nbconvert_exporter": "python",
   "pygments_lexer": "ipython3",
   "version": "3.10.7"
  },
  "orig_nbformat": 4,
  "vscode": {
   "interpreter": {
    "hash": "bf8b431bd882305fa2204d37c1172188ac3de8806d6e176113016cf335ff1325"
   }
  }
 },
 "nbformat": 4,
 "nbformat_minor": 2
}
