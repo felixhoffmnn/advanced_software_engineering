{
 "cells": [
  {
   "cell_type": "code",
   "execution_count": 1,
   "metadata": {},
   "outputs": [],
   "source": [
    "import os\n",
    "\n",
    "from src.api.weather.weather import Elements, Include, WeatherApi\n",
    "from src.utils.http_request import http_request"
   ]
  },
  {
   "cell_type": "code",
   "execution_count": 3,
   "metadata": {},
   "outputs": [
    {
     "name": "stderr",
     "output_type": "stream",
     "text": [
      "2022-10-20 11:36:26.553 | SUCCESS  | src.utils.http_request:http_request:32 - Successfully fetched data from https://weather.visualcrossing.com/VisualCrossingWebServices/rest/services/timeline/Stuttgart,DE/2022-10-19?key=N6XDYBF74RN82CAX6V6RZE5NN&unitGroup=metric&elements=preciptype,feelslike&include=events\n"
     ]
    }
   ],
   "source": [
    "crawler = WeatherApi()\n",
    "\n",
    "response_json = crawler.historic_day(\n",
    "    \"Stuttgart,DE\",\n",
    "    \"2022-10-19\",\n",
    "    [WeatherApi.PARAMS.ELEMENTS.PRECIP_TYPE, WeatherApi.PARAMS.ELEMENTS.FEELSLIKE],\n",
    "    [WeatherApi.PARAMS.INCLUDE.EVENTS],\n",
    ")"
   ]
  },
  {
   "cell_type": "code",
   "execution_count": 4,
   "metadata": {},
   "outputs": [
    {
     "name": "stdout",
     "output_type": "stream",
     "text": [
      "{'queryCost': 1, 'latitude': 48.7678, 'longitude': 9.17203, 'resolvedAddress': 'Stuttgart, Baden-Württemberg, Deutschland', 'address': 'Stuttgart,DE', 'timezone': 'Europe/Berlin', 'tzoffset': 2.0, 'days': [{'feelslike': 13.0, 'preciptype': None}]}\n"
     ]
    }
   ],
   "source": [
    "print(response_json)"
   ]
  }
 ],
 "metadata": {
  "kernelspec": {
   "display_name": "Python 3.10.7 ('advanced-software-engineering-m0rZkWJX-py3.10')",
   "language": "python",
   "name": "python3"
  },
  "language_info": {
   "codemirror_mode": {
    "name": "ipython",
    "version": 3
   },
   "file_extension": ".py",
   "mimetype": "text/x-python",
   "name": "python",
   "nbconvert_exporter": "python",
   "pygments_lexer": "ipython3",
   "version": "3.10.7"
  },
  "orig_nbformat": 4,
  "vscode": {
   "interpreter": {
    "hash": "bf8b431bd882305fa2204d37c1172188ac3de8806d6e176113016cf335ff1325"
   }
  }
 },
 "nbformat": 4,
 "nbformat_minor": 2
}
