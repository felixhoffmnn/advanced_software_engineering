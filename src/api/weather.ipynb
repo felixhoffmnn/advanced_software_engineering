{
 "cells": [
  {
   "cell_type": "code",
   "execution_count": 1,
   "metadata": {},
   "outputs": [],
   "source": [
    "import os\n",
    "\n",
    "from src.utils.http_request import http_request\n",
    "from src.api.weather.weather import WeatherApi, Include, Elements"
   ]
  },
  {
   "cell_type": "code",
   "execution_count": 3,
   "metadata": {},
   "outputs": [
    {
     "name": "stderr",
     "output_type": "stream",
     "text": [
      "2022-10-20 11:36:26.553 | SUCCESS  | src.utils.http_request:http_request:32 - Successfully fetched data from https://weather.visualcrossing.com/VisualCrossingWebServices/rest/services/timeline/Stuttgart,DE/2022-10-19?key=N6XDYBF74RN82CAX6V6RZE5NN&unitGroup=metric&elements=preciptype,feelslike&include=events\n"
     ]
    }
   ],
   "source": [
    "crawler = WeatherApi()\n",
    "\n",
    "response_json = crawler.historic_day(\"Stuttgart,DE\", \"2022-10-19\", [WeatherApi.PARAMS.ELEMENTS.PRECIP_TYPE, WeatherApi.PARAMS.ELEMENTS.FEELSLIKE], [WeatherApi.PARAMS.INCLUDE.EVENTS])\n"
   ]
  },
  {
   "cell_type": "code",
   "execution_count": 4,
   "metadata": {},
   "outputs": [
    {
     "name": "stdout",
     "output_type": "stream",
     "text": [
      "{'queryCost': 1, 'latitude': 48.7678, 'longitude': 9.17203, 'resolvedAddress': 'Stuttgart, Baden-Württemberg, Deutschland', 'address': 'Stuttgart,DE', 'timezone': 'Europe/Berlin', 'tzoffset': 2.0, 'days': [{'feelslike': 13.0, 'preciptype': None}]}\n"
     ]
    }
   ],
   "source": [
    "print(response_json)\n"
   ]
  }
 ],
 "metadata": {
  "kernelspec": {
   "display_name": "Python 3.10.8 ('advanced-software-engineering-J8FyIT0w-py3.10')",
   "language": "python",
   "name": "python3"
  },
  "language_info": {
   "codemirror_mode": {
    "name": "ipython",
    "version": 3
   },
   "file_extension": ".py",
   "mimetype": "text/x-python",
   "name": "python",
   "nbconvert_exporter": "python",
   "pygments_lexer": "ipython3",
   "version": "3.10.8"
  },
  "orig_nbformat": 4,
  "vscode": {
   "interpreter": {
    "hash": "7bff30677687d477eb2d61e3360e02230b43085e3cce367fbc0dc4c73fd3f77e"
   }
  }
 },
 "nbformat": 4,
 "nbformat_minor": 2
}
