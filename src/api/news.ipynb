{
 "cells": [
  {
   "cell_type": "code",
   "execution_count": 1,
   "metadata": {},
   "outputs": [],
   "source": [
    "import os\n",
    "import sys\n",
    "\n",
    "from src.utils.http_request import http_request"
   ]
  },
  {
   "cell_type": "code",
   "execution_count": 2,
   "metadata": {},
   "outputs": [],
   "source": [
    "API_key = os.getenv(\"GNEWS_API_key\")"
   ]
  },
  {
   "cell_type": "code",
   "execution_count": 3,
   "metadata": {},
   "outputs": [],
   "source": [
    "def top_headlines_search(topic, max_results=3):\n",
    "    valid = {\n",
    "        \"breaking-news\",\n",
    "        \"world\",\n",
    "        \"nation\",\n",
    "        \"business\",\n",
    "        \"technology\",\n",
    "        \"entertainment\",\n",
    "        \"sports\",\n",
    "        \"science\",\n",
    "        \"health\",\n",
    "    }\n",
    "    if topic not in valid:\n",
    "        raise ValueError(\"results: status must be one of %r.\" % valid)\n",
    "    headline_request = http_request(\n",
    "        f\"https://gnews.io/api/v4/top-headlines?token={API_key}&lang=de&country=de&topic={topic}&max={max_results}\"\n",
    "    )\n",
    "\n",
    "    return headline_request"
   ]
  },
  {
   "cell_type": "code",
   "execution_count": 4,
   "metadata": {},
   "outputs": [],
   "source": [
    "def keyword_search(keyword, max_results=3):\n",
    "    keyword_request = http_request(\n",
    "        f\"https://gnews.io/api/v4/search?q={keyword}&token={API_key}&lang=de&country=de&max={max_results}\"\n",
    "    )\n",
    "    return keyword_request"
   ]
  },
  {
   "cell_type": "code",
   "execution_count": 5,
   "metadata": {},
   "outputs": [
    {
     "name": "stderr",
     "output_type": "stream",
     "text": [
      "2022-10-24 17:04:04.328 | ERROR    | src.utils.http_request:http_request:26 - HTTP error occurred: 401 Client Error: Unauthorized for url: https://gnews.io/api/v4/top-headlines?token=None&lang=de&country=de&topic=world&max=5\n"
     ]
    }
   ],
   "source": [
    "result = top_headlines_search(\"world\", 5)"
   ]
  }
 ],
 "metadata": {
  "kernelspec": {
   "display_name": "Python 3.10.7 ('advanced-software-engineering-m0rZkWJX-py3.10')",
   "language": "python",
   "name": "python3"
  },
  "language_info": {
   "codemirror_mode": {
    "name": "ipython",
    "version": 3
   },
   "file_extension": ".py",
   "mimetype": "text/x-python",
   "name": "python",
   "nbconvert_exporter": "python",
   "pygments_lexer": "ipython3",
   "version": "3.10.7"
  },
  "orig_nbformat": 4,
  "vscode": {
   "interpreter": {
    "hash": "bf8b431bd882305fa2204d37c1172188ac3de8806d6e176113016cf335ff1325"
   }
  }
 },
 "nbformat": 4,
 "nbformat_minor": 2
}
