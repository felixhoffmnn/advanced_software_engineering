{
 "cells": [
  {
   "cell_type": "code",
   "execution_count": 9,
   "metadata": {},
   "outputs": [],
   "source": [
    "import sys\n",
    "import os\n",
    "\n",
    "module_path = os.path.abspath(os.path.join(\"..\"))\n",
    "if module_path not in sys.path:\n",
    "    sys.path.append(module_path)\n",
    "from utils.http_request import http_request"
   ]
  },
  {
   "cell_type": "code",
   "execution_count": 10,
   "metadata": {},
   "outputs": [],
   "source": [
    "API_key = os.getenv(\"GNEWS_API_key\")"
   ]
  },
  {
   "cell_type": "code",
   "execution_count": 11,
   "metadata": {},
   "outputs": [],
   "source": [
    "def top_headlines_search(topic, max_results=3):\n",
    "    valid = {\"breaking-news\", \"world\", \"nation\", \"business\", \"technology\", \"entertainment\", \"sports\", \"science\", \"health\"}\n",
    "    if topic not in valid:\n",
    "        raise ValueError(\"results: status must be one of %r.\" % valid)\n",
    "    headline_request = http_request(\n",
    "        f\"https://gnews.io/api/v4/top-headlines?token={API_key}&lang=de&country=de&topic={topic}&max={max_results}\"\n",
    "    )\n",
    "    return headline_request"
   ]
  },
  {
   "cell_type": "code",
   "execution_count": 12,
   "metadata": {},
   "outputs": [],
   "source": [
    "def keyword_search(keyword, max_results=3):\n",
    "    keyword_request = http_request(\n",
    "        f\"https://gnews.io/api/v4/search?q={keyword}&token={API_key}&lang=de&country=de&max={max_results}\"\n",
    "    )\n",
    "    return keyword_request"
   ]
  },
  {
   "cell_type": "code",
   "execution_count": 14,
   "metadata": {},
   "outputs": [
    {
     "name": "stdout",
     "output_type": "stream",
     "text": [
      "Success!\n"
     ]
    }
   ],
   "source": [
    "result = top_headlines_search(\"world\", 5)"
   ]
  },
  {
   "cell_type": "code",
   "execution_count": null,
   "metadata": {},
   "outputs": [],
   "source": []
  }
 ],
 "metadata": {
  "kernelspec": {
   "display_name": "Python 3.10.8 ('advanced-software-engineering-1dLge2xI-py3.10')",
   "language": "python",
   "name": "python3"
  },
  "language_info": {
   "codemirror_mode": {
    "name": "ipython",
    "version": 3
   },
   "file_extension": ".py",
   "mimetype": "text/x-python",
   "name": "python",
   "nbconvert_exporter": "python",
   "pygments_lexer": "ipython3",
   "version": "3.10.8"
  },
  "orig_nbformat": 4,
  "vscode": {
   "interpreter": {
    "hash": "559d28ad8bdf1afbc113991f661d3a3d2183e7932bc3daf0a788ec2f684f3799"
   }
  }
 },
 "nbformat": 4,
 "nbformat_minor": 2
}
