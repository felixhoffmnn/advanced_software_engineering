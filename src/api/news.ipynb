{
 "cells": [
  {
   "cell_type": "code",
   "execution_count": 36,
   "metadata": {},
   "outputs": [],
   "source": [
    "import os\n",
    "import sys\n",
    "\n",
    "from src.utils.http_request import http_request"
   ]
  },
  {
   "cell_type": "code",
   "execution_count": 37,
   "metadata": {},
   "outputs": [],
   "source": [
    "API_key = os.getenv(\"NEWS_API_key\")"
   ]
  },
  {
   "cell_type": "code",
   "execution_count": 53,
   "metadata": {},
   "outputs": [],
   "source": [
    "def top_headlines_search(country = \"us\", max_results=3):\n",
    "    result = \"\"\n",
    "    headline_request = http_request(\n",
    "        f\"https://newsapi.org/v2/top-headlines?country={country}&apiKey={API_key}\"\n",
    "    ).json()\n",
    "    if max_results > len(headline_request[\"articles\"]):\n",
    "        max_results = len(headline_request[\"articles\"])\n",
    "    for i in range(max_results):\n",
    "        result += headline_request[\"articles\"][i][\"title\"] + \": \" + headline_request[\"articles\"][i][\"description\"] + \"\\n\"\n",
    "    return result"
   ]
  },
  {
   "cell_type": "code",
   "execution_count": 54,
   "metadata": {},
   "outputs": [],
   "source": [
    "def keyword_search(keyword, max_results=3):\n",
    "    result = \"\"\n",
    "    keyword_request = http_request(\n",
    "        f\"https://newsapi.org/v2/everything?q={keyword}&apiKey={API_key}\"\n",
    "    ).json()\n",
    "    if max_results > len(keyword_request[\"articles\"]):\n",
    "        max_results = len(keyword_request[\"articles\"])\n",
    "    for i in range(max_results):\n",
    "        result += keyword_request[\"articles\"][i][\"title\"] + \": \" + keyword_request[\"articles\"][i][\"description\"] + \"\\n\"\n",
    "    return result"
   ]
  },
  {
   "cell_type": "code",
   "execution_count": 57,
   "metadata": {},
   "outputs": [
    {
     "name": "stderr",
     "output_type": "stream",
     "text": [
      "2022-11-03 10:01:49.968 | SUCCESS  | src.utils.http_request:http_request:32 - Successfully fetched data from https://newsapi.org/v2/top-headlines?country=us&apiKey=77d07b454fc9420f8d6a6321fb2dd975\n",
      "2022-11-03 10:01:50.267 | SUCCESS  | src.utils.http_request:http_request:32 - Successfully fetched data from https://newsapi.org/v2/everything?q=midterm elections&apiKey=77d07b454fc9420f8d6a6321fb2dd975\n"
     ]
    }
   ],
   "source": [
    "result1 = top_headlines_search()\n",
    "result2 = keyword_search(\"midterm elections\")"
   ]
  },
  {
   "cell_type": "code",
   "execution_count": 58,
   "metadata": {},
   "outputs": [
    {
     "name": "stdout",
     "output_type": "stream",
     "text": [
      "North Korea fires presumed ICBM in failed test, South Korean source says - CNN: North Korea conducted the failed launch of an intercontinental ballistic missile (ICBM) Thursday, according to a South Korean government source, as Pyongyang intensified its battery of missile tests against a backdrop of US and South Korean military drills th…\n",
      "Trump news – live: Trump sues NY’s Letitia James as Kash Patel ‘to testify’ in Mar-a-Lago case - The Independent: Donald Trump news today\n",
      "Recap: Barack Obama stumps for Kelly, Hobbs before midterms - The Arizona Republic: Barack Obama returns to Arizona to show support for Democratic candidates Sen. Mark Kelly, Katie Hobbs and others endorsed by the former president.\n",
      "\n",
      "Tapper: Why this year's midterms are like 'Sharknado': CNN's Jake Tapper explains why the 2022 midterm elections are shaping up to be one of the \"weirdest and least predictable\" midterms in modern memory.\n",
      "Is the U.S. Ready for Election Betting? We're About to Find Out: A group of well-resourced businessmen and economists are trying to convince the CFTC to allow bets on the upcoming midterm elections.\n",
      "Opinion: My family taught me 'the act of voting is democracy made manifest': On Tuesday, November 8, we will head to the polls to vote in our country's midterm elections. More than 235 million of us will be eligible to participate in this exercise fundamental to sound governance of the United States, but data on elections in midterm y…\n",
      "\n"
     ]
    }
   ],
   "source": [
    "print(result1)\n",
    "print(result2)"
   ]
  },
  {
   "cell_type": "code",
   "execution_count": null,
   "metadata": {},
   "outputs": [],
   "source": []
  }
 ],
 "metadata": {
  "kernelspec": {
   "display_name": "Python 3.10.8 ('advanced-software-engineering-1dLge2xI-py3.10')",
   "language": "python",
   "name": "python3"
  },
  "language_info": {
   "codemirror_mode": {
    "name": "ipython",
    "version": 3
   },
   "file_extension": ".py",
   "mimetype": "text/x-python",
   "name": "python",
   "nbconvert_exporter": "python",
   "pygments_lexer": "ipython3",
   "version": "3.10.8"
  },
  "orig_nbformat": 4,
  "vscode": {
   "interpreter": {
    "hash": "559d28ad8bdf1afbc113991f661d3a3d2183e7932bc3daf0a788ec2f684f3799"
   }
  }
 },
 "nbformat": 4,
 "nbformat_minor": 2
}
