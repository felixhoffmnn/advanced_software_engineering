{
 "cells": [
  {
   "cell_type": "code",
   "execution_count": 2,
   "metadata": {},
   "outputs": [],
   "source": [
    "import requests"
   ]
  },
  {
   "cell_type": "code",
   "execution_count": 20,
   "metadata": {},
   "outputs": [],
   "source": [
    "API_key = \"5253a449f5dbf2f9636245f904028e46\""
   ]
  },
  {
   "cell_type": "code",
   "execution_count": 21,
   "metadata": {},
   "outputs": [],
   "source": [
    "def top_headlines_search(topic, max_results=3):\n",
    "    valid = {\"breaking-news\", \"world\", \"nation\", \"business\", \"technology\", \"entertainment\", \"sports\", \"science\", \"health\"}\n",
    "    if topic not in valid:\n",
    "        raise ValueError(\"results: status must be one of %r.\" % valid)\n",
    "    headline_request = requests.get(\n",
    "        f\"https://gnews.io/api/v4/top-headlines?token={API_key}&lang=de&country=de&topic={topic}&max={max_results}\"\n",
    "    )\n",
    "    return headline_request.json()"
   ]
  },
  {
   "cell_type": "code",
   "execution_count": 22,
   "metadata": {},
   "outputs": [],
   "source": [
    "def kewyword_search(keyword, max_results=3):\n",
    "    keyword_request = requests.get(\n",
    "        f\"https://gnews.io/api/v4/search?q={keyword}&token={API_key}&lang=de&country=de&max={max_results}\"\n",
    "    )\n",
    "    return keyword_request.json()"
   ]
  },
  {
   "cell_type": "code",
   "execution_count": 23,
   "metadata": {},
   "outputs": [],
   "source": [
    "result = top_headlines_search(\"business\", 5)"
   ]
  },
  {
   "cell_type": "code",
   "execution_count": 24,
   "metadata": {},
   "outputs": [
    {
     "name": "stdout",
     "output_type": "stream",
     "text": [
      "{'totalArticles': 13120, 'articles': [{'title': 'Nach dem Ende der EC-Karte: Sparkasse präsentiert Nachfolger', 'description': 'Die klassischen EC-Karten werden ab dem kommenden Sommer auslaufen. Die Sparkasse hat deshalb nun einen Nachfolger präsentiert. Was die Kunden erwarten dürfen, erfahren Sie hier.', 'content': 'Die Karte soll das Bezahlen im Internet einfacher machen, kann weltweit genutzt werden und verfügt zudem über eine Mobiles-Bezahlen-Funktion. So kann Apple Pay oder aber die Mobiles-Bezahlen-Funktion von Android genutzt werden.\\nEbenfalls neu wird lau... [455 chars]', 'url': 'https://www.chip.de/news/Ende-der-EC-Karte-Sparkasse-praesentiert-Nachfolger_184465781.html', 'image': 'https://www.chip.de/ii/1/2/6/6/7/8/4/5/6/urn_binary_dpa_com_20090101_200318-99-381532-FILED_Marijan_Murat_dpa-1b25d014c7090158.jpeg', 'publishedAt': '2022-10-17T04:46:27Z', 'source': {'name': 'CHIP Online Deutschland', 'url': 'https://www.chip.de'}}, {'title': 'Erste Bank schafft Versorgung mit Bargeld ab: Das müssen Kunden jetzt wissen', 'description': 'In Deutschland nimmt die Bedeutung von Bargeld immer weiter ab. Die Raiffeisenbank Hochtaunus hat deshalb nun im Zuge der Schließung aller Filialen beschlossen, auch die Bargeld-Versorgung einzustellen. Hier lesen Sie, was Kunden jetzt wissen müssen.', 'content': 'Der Grund dafür liegt darin, dass die Kunden immer mehr Geschäfte online abschließen. Ein Sprecher deutet an, dass das Filialgeschäft schlicht nicht mehr rentabel sei: \"Im Schnitt haben wir pro Stunde über die bestehenden vier Filialen zwei Besucher,... [498 chars]', 'url': 'https://www.chip.de/news/Kein-Bargeld-mehr-bei-deutscher-Bank-Wichtige-Info-fuer-Kunden_184459982.html', 'image': 'https://www.chip.de/ii/1/2/6/6/7/6/9/3/0/urn_binary_dpa_com_20090101_200424-99-820342-FILED-1f88719c0bbc23b3.jpeg', 'publishedAt': '2022-10-17T03:08:14Z', 'source': {'name': 'CHIP Online Deutschland', 'url': 'https://www.chip.de'}}, {'title': 'Barfußschuhe Test 2022: Die Top-Empfehlungen', 'description': 'Ein Barfußschuh schützt den Fuß vor Verletzungen, Kälte und Hitze und ermöglicht ein natürliches Gehgefühl. 19 Barfußschuhe im Test.', 'content': 'Sohle\\nEin Barfußschuh sollte eine möglichst flexible und dünne Sohle besitzen. Beim Kauf können Sie die Flexibilität der Sohle ganz einfach testen, indem Sie versuchen, den Schuh aufzurollen bzw. wie einen Waschlappen auszuwringen. Ist dies möglich, ... [2160 chars]', 'url': 'https://www.chip.de/artikel/Barfussschuhe-Test-2022-Die-Top-Empfehlungen_184449770.html', 'image': 'https://www.chip.de/ii/1/2/6/6/7/4/4/0/7/Barfussschuhe-marekuliasz-a440feb9ee5cf4cc.jpg', 'publishedAt': '2022-10-16T19:31:12Z', 'source': {'name': 'CHIP Online Deutschland', 'url': 'https://www.chip.de'}}, {'title': 'Aldi und Lidl abgehängt: Das ist der beliebteste Einzelhändler der Deutschen', 'description': 'Nicht Aldi, nicht Lidl: Ein anderer Einzelhändler darf sich derzeit laut dem aktuellen Kundenmonitor der beliebteste der Deutschen nennen. Wer das ist und was die Kunden schätzen, erfahren Sie hier.', 'content': 'In 31 von 45 Kategorien belegen die GLOBUS Markthallen auf der Großfläche erneut die Spitzenplätze und erzielen mit der Gesamtnote 1,86 den ersten Platz unter allen Discount-, Supermarkt– und Großflächenhändlern in Deutschland. Jede GLOBUS Markthalle... [1079 chars]', 'url': 'https://www.chip.de/news/Das-ist-der-beliebteste-Einzelhaendler-der-Deutschen-Es-ist-nicht-Aldi-oder-Lidl_184443368.html', 'image': 'https://www.chip.de/ii/1/2/6/6/7/2/8/8/5/Coronavirus_Leinfeld_65170272_Sebastian_Gollnow_dpa-f7130ba47f547bf5.jpeg', 'publishedAt': '2022-10-16T16:16:55Z', 'source': {'name': 'CHIP Online Deutschland', 'url': 'https://www.chip.de'}}, {'title': 'Erste Bank schafft Versorgung mit Bargeld ab: Das müssen Kunden jetzt wissen', 'description': 'Die Bedeutung von Bargeld nimmt in Deutschland immer ab. Die Raiffeisenbank Hochtaunus hat deshalb nun im Zuge der Schließung aller Filialen beschlossen, auch die Bargeld-Versorgung einzustellen. Was Kunden jetzt wissen müssen, lesen Sie hier.', 'content': 'Der Grund dafür liegt darin, dass die Kunden immer mehr Geschäfte online abschließen. Ein Sprecher deutet an, dass das Filialgeschäft schlicht nicht mehr rentabel sei: \"Im Schnitt haben wir pro Stunde über die bestehenden vier Filialen zwei Besucher,... [498 chars]', 'url': 'https://www.chip.de/news/Deutsche-Bank-schafft-Bargeld-Versorgung-ab-Wichtige-Info-fuer-Kunden_184459982.html', 'image': 'https://www.chip.de/ii/1/2/6/6/7/6/9/3/0/urn_binary_dpa_com_20090101_200424-99-820342-FILED-1f88719c0bbc23b3.jpeg', 'publishedAt': '2022-10-16T09:20:39Z', 'source': {'name': 'CHIP Online Deutschland', 'url': 'https://www.chip.de'}}]}\n"
     ]
    }
   ],
   "source": [
    "print(result)"
   ]
  },
  {
   "cell_type": "code",
   "execution_count": null,
   "metadata": {},
   "outputs": [],
   "source": []
  }
 ],
 "metadata": {
  "kernelspec": {
   "display_name": "Python 3.10.7 ('advanced-software-engineering-z59G5ini-py3.10')",
   "language": "python",
   "name": "python3"
  },
  "language_info": {
   "codemirror_mode": {
    "name": "ipython",
    "version": 3
   },
   "file_extension": ".py",
   "mimetype": "text/x-python",
   "name": "python",
   "nbconvert_exporter": "python",
   "pygments_lexer": "ipython3",
   "version": "3.10.7"
  },
  "orig_nbformat": 4,
  "vscode": {
   "interpreter": {
    "hash": "d3e05ba949fdc18b1dd0500fc7b632904c50b940a8449ee214a924a5fd567400"
   }
  }
 },
 "nbformat": 4,
 "nbformat_minor": 2
}
