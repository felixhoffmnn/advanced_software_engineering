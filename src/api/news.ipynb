{
 "cells": [
  {
   "cell_type": "code",
   "execution_count": 1,
   "metadata": {},
   "outputs": [],
   "source": [
    "import sys\n",
    "import os\n",
    "# caution: path[0] is reserved for script path (or '' in REPL)\n",
    "sys.path.insert(1, 'src/utils/http_request.py')\n",
    "\n",
    "from src.utils.http_request import http_request"
   ]
  },
  {
   "cell_type": "code",
   "execution_count": 3,
   "metadata": {},
   "outputs": [
    {
     "name": "stdout",
     "output_type": "stream",
     "text": [
      "5253a449f5dbf2f9636245f904028e46\n"
     ]
    }
   ],
   "source": [
    "API_key = os.getenv(\"NEWS_API_KEY\")\n",
    "print(API_key)\n",
    "\n",
    "# ! Bitte füge in der root directory eine .env file hinzu und adde in dieser den NEWS_API_KEY. Dieser wird dann automatisch geladen und \n",
    "# ! kann von überall importiert werden.s\n",
    "# API_key = \"5253a449f5dbf2f9636245f904028e46\""
   ]
  },
  {
   "cell_type": "code",
   "execution_count": 4,
   "metadata": {},
   "outputs": [],
   "source": [
    "def top_headlines_search(topic, max_results=3):\n",
    "    valid = {\"breaking-news\", \"world\", \"nation\", \"business\", \"technology\", \"entertainment\", \"sports\", \"science\", \"health\"}\n",
    "    if topic not in valid:\n",
    "        raise ValueError(\"results: status must be one of %r.\" % valid)\n",
    "    headline_request = http_request(\n",
    "        f\"https://gnews.io/api/v4/top-headlines?token={API_key}&lang=de&country=de&topic={topic}&max={max_results}\"\n",
    "    )\n",
    "    return headline_request"
   ]
  },
  {
   "cell_type": "code",
   "execution_count": 34,
   "metadata": {},
   "outputs": [],
   "source": [
    "def keyword_search(keyword, max_results=3):\n",
    "    keyword_request = http_request(\n",
    "        f\"https://gnews.io/api/v4/search?q={keyword}&token={API_key}&lang=de&country=de&max={max_results}\"\n",
    "    )\n",
    "    return keyword_request"
   ]
  },
  {
   "cell_type": "code",
   "execution_count": 35,
   "metadata": {},
   "outputs": [
    {
     "name": "stdout",
     "output_type": "stream",
     "text": [
      "Success!\n"
     ]
    }
   ],
   "source": [
    "result = top_headlines_search(\"world\", 5)"
   ]
  },
  {
   "cell_type": "code",
   "execution_count": 72,
   "metadata": {},
   "outputs": [
    {
     "name": "stdout",
     "output_type": "stream",
     "text": [
      "{'totalArticles': 13710, 'articles': [{'title': 'Ukraine-Ticker: Zahlreiche neue russische Angriffe auf Ukraine', 'description': 'Russland hat mit neuen Raketen- und Drohnenangriffen in der Ukraine Luftalarm ausgelöst. In zahlreichen Regionen sei die Luftverteidigung aktiv. Vielerorts schlugen dennoch Raketen ein. Auch in Kiew gab es Explosionen. Die News im Ticker.', 'content': '08.38 Uhr: Explosionen im Norden von Kiew - Energie-Anlage getroffen\\nIn Kiew sind mehrere Explosionen zu hören. Rauch stehe über dem Norden der ukrainischen Hauptstadt, berichten Reuters-Reporter und ukrainische Behörden. Kyrylo Tymoschenko, der stel... [7438 chars]', 'url': 'https://www.br.de/nachrichten/deutschland-welt/russland-ukraine-krieg-im-news-ticker-vom-17-bis-23-oktober,TKV8Pzh', 'image': 'https://img.br.de/f8bcc071-25ad-4e9a-8293-92eec3f70630.jpeg?q=80&rect=10,22,1070,601&w=1600&h=900', 'publishedAt': '2022-10-17T21:50:12Z', 'source': {'name': 'br.de', 'url': 'https://www.br.de'}}, {'title': 'Drohnenterror in der Ukraine: Kriegspartei Iran', 'description': 'Erst Kamikazedrohnen, bald Mittelstreckenraketen: Russland setzt immer mehr auf iranische Terrorwaffen. Politisch könnte sich das rächen für Teheran.', 'content': 'Welchen Schrecken allein die Kamikazedrohnen in der Ukraine anrichten, zeigten am Montag wieder etliche Videos in den sozialen Medien. Dieses Video soll den Einschlag einer Shahed-136 in ein Wohngebäude in Kiew am Morgen zeigen:\\nEmpfohlener externer ... [3152 chars]', 'url': 'https://www.t-online.de/nachrichten/ukraine/id_100067004/drohnenterror-in-der-ukraine-kriegspartei-iran.html', 'image': 'https://images.t-online.de/2022/10/92449182v2/0x0:1920x1080/fit-in/1800x0/kiew-aufnahmen-zeigen-den-beschuss-der-ukrainischen-hauptstadt.jpg', 'publishedAt': '2022-10-17T18:31:49Z', 'source': {'name': 't-online', 'url': 'https://www.t-online.de'}}, {'title': 'Putins Rekrutierungs-Chef tot aufgefunden', 'description': 'Der nächste mysteriöse Todesfall unter den Mächtigen in Russland: In Partisansk in der Region Primorje im äußersten Osten Russlands wurde der Rekrutierungs-Chef Roman Malyk im Alter von 49 Jahren tot aufgefunden.', 'content': 'Von Philip Fabian\\nDer nächste mysteriöse Todesfall unter den Mächtigen in Russland: In Partisansk in der Region Primorje im äußersten Osten Russlands wurde der Rekrutierungs-Chef Roman Malyk im Alter von 49 Jahren tot aufgefunden.\\nDer Soldat, der für... [3971 chars]', 'url': 'https://www.bz-berlin.de/welt/putins-rekrutierungs-chef-tot-aufgefunden', 'image': 'https://image.bz-berlin.de/data/uploads/2022/10/rekrutierungschef_aufmacher.jpg', 'publishedAt': '2022-10-17T16:18:00Z', 'source': {'name': 'B.Z. – Die Stimme Berlins', 'url': 'https://www.bz-berlin.de'}}, {'title': 'Jeisk: Russisches Militärflugzeug stürzt nahe ukrainischer Grenze in Wohnblock', 'description': 'Nahe der ukrainischen Grenze ist ein russisches Flugzeug abgestürzt. Eines der Triebwerke soll Feuer gefangen haben.\\ufeff', 'content': 'Warum eine Entzündung der Speiseröhre gefährlich sein kann\\nNahe der Ukraine Russisches Militärflugzeug stürzt in Wohnblock Von t-online , sje Aktualisiert am 17.10.2022 - 18:44 Uhr Lesedauer: 1 Min. Explosion nach dem Absturz: Das Foto soll den Wohnb... [643 chars]', 'url': 'https://www.t-online.de/nachrichten/panorama/id_100067248/jeisk-russisches-militaerflugzeug-stuerzt-nahe-ukrainischer-grenze-in-wohnblock.html', 'image': 'https://images.t-online.de/2022/10/9D1lLoMJa3sx/0x326:960x540/fit-in/1800x0/explosion-nach-dem-absturz-das-foto-soll-den-wohnblock-zeigen-in-den-die-maschine-stuerzte.jpg', 'publishedAt': '2022-10-17T16:14:17Z', 'source': {'name': 't-online', 'url': 'https://www.t-online.de'}}, {'title': 'Rekrutierungs-Chef Roman Malyk tot aufgefunden: Erneut rätselhafter Tod in Russland', 'description': 'Die mysteriösen Todesfälle in Russlands Elite häufen sich. Diesmal ist ein Mobilisierungschef tot aufgefunden worden. Seine Familie glaubt nicht an einen Suizid.', 'content': 'Rätselraten um Todesursache Russischer Rekrutierungs-Kommandant tot aufgefunden Von t-online , ari Aktualisiert am 17.10.2022 - 20:14 Uhr Lesedauer: 1 Min. Teilmobilisierung russischer Männer: Roman Malyk war für die Rekrutierung von Soldaten für Put... [1831 chars]', 'url': 'https://www.t-online.de/nachrichten/ausland/id_100067128/rekrutierungs-chef-roman-malyk-tot-aufgefunden-erneut-raetselhafter-tod-in-russland.html', 'image': 'https://images.t-online.de/2022/10/89iR3xonqC9c/426x694:3455x1944/fit-in/1800x0/teilmobilisierung-russischer-maenner-roman-malyk-war-fuer-die-rekrutierung-von-soldaten-fuer-putins-krieg-zustaendig.jpg', 'publishedAt': '2022-10-17T14:22:21Z', 'source': {'name': 't-online', 'url': 'https://www.t-online.de'}}]}\n"
     ]
    }
   ],
   "source": [
    "print(result)"
   ]
  },
  {
   "cell_type": "code",
   "execution_count": 77,
   "metadata": {},
   "outputs": [
    {
     "name": "stdout",
     "output_type": "stream",
     "text": [
      "Success!\n"
     ]
    }
   ],
   "source": [
    "result2 = keyword_search(\"covid\")"
   ]
  },
  {
   "cell_type": "code",
   "execution_count": 78,
   "metadata": {},
   "outputs": [
    {
     "name": "stdout",
     "output_type": "stream",
     "text": [
      "{'totalArticles': 16704, 'articles': [{'title': 'Covid-19 als Todesursache: Pandemie senkte Lebenserwartung in Europa', 'description': 'Schnelle Impfprogramme und starke Gesundheitssysteme ließen einige Länder besonders gut durch die ersten Corona-Jahre kommen. Deutschland gehört nicht dazu.', 'content': 'Die Lebenserwartung hat sich einer Analyse unter Leitung Rostocker Wissenschaftler zufolge in den europäischen Staaten in der Corona-Pandemie sehr unterschiedlich entwickelt. Während sie in Bulgarien Ende 2021 um 43 Monate niedriger lag als 2019, sti... [4302 chars]', 'url': 'https://www.tagesspiegel.de/wissen/covid-19-als-todesursache-pandemie-senkte-lebenserwartung-in-europa-8761027.html', 'image': 'https://www.tagesspiegel.de/images/coronavirus-impfung3/alternates/BASE_16_9_W1400/coronavirus---impfung.jpeg', 'publishedAt': '2022-10-18T06:06:19Z', 'source': {'name': 'Tagesspiegel', 'url': 'https://www.tagesspiegel.de'}}, {'title': 'Eckart von Hirschhausen zu Long COVID: \"Die leiseste humanitäre Katastrophe der Welt\"', 'description': '\"Die Pandemie ist vorbei. Nee. Nicht überall und auch nicht für jeden.\" Das sagt Arzt und TV-Moderator Eckart von Hirschhausen am Montagabend in seiner ARD-Doku \"Hirschhausen und Long Covid. Die Pandemie der Unbehandelten\".', 'content': '\"Die Pandemie ist vorbei. Nee. Nicht überall und auch nicht für jeden.\" Das sagt Arzt und TV-Moderator Eckart von Hirschhausen am Montagabend in seiner ARD-Doku \"Hirschhausen und Long COVID. Die Pandemie der Unbehandelten\". Dort versucht er, die Sche... [10094 chars]', 'url': 'https://web.de/magazine/gesundheit/eckart-hirschhausen-ard-doku-long-covid-leiseste-humanitaere-katastrophe-welt-37391586', 'image': 'https://i0.web.de/image/602/37391602,pd=1,f=opengraph.jpg', 'publishedAt': '2022-10-18T05:30:06Z', 'source': {'name': 'WEB.DE News', 'url': 'https://web.de'}}, {'title': 'Fragwürdige Therapie: Hilft Blutwäsche bei Long Covid?', 'description': 'Menschen mit Long Covid suchen verzweifelt nach Therapien. Doch eine Wunderheilung gibt es nicht, warnen Fachleute. Neue Behandlungsansätze sind teilweise fragwürdig, nicht gut belegt oder teuer – wie etwa eine spezielle Blutwäsche.', 'content': 'Viele Menschen leiden auch Monate nach einer Corona-Infektion. Manche haben Schwierigkeiten zu atmen, andere brechen schon nach der kleinsten Anstrengung erschöpft zusammen, wieder andere können sich schlecht konzentrieren. Insgesamt sind mittlerweil... [5085 chars]', 'url': 'https://www.br.de/nachrichten/wissen/hilft-apherese-bei-long-covid-umstrittene-blutwaesche,TKXmCRP', 'image': 'https://img.br.de/16181f34-4a29-4d1a-8dfb-ca28c2d5dbb1.jpeg?q=80&rect=3,366,4097,2307&w=1600&h=900', 'publishedAt': '2022-10-17T18:47:17Z', 'source': {'name': 'BR24', 'url': 'https://www.br.de'}}]}\n"
     ]
    }
   ],
   "source": [
    "print(result2)"
   ]
  },
  {
   "cell_type": "code",
   "execution_count": null,
   "metadata": {},
   "outputs": [],
   "source": []
  }
 ],
 "metadata": {
  "kernelspec": {
   "display_name": "Python 3.10.8 ('advanced-software-engineering-J8FyIT0w-py3.10')",
   "language": "python",
   "name": "python3"
  },
  "language_info": {
   "codemirror_mode": {
    "name": "ipython",
    "version": 3
   },
   "file_extension": ".py",
   "mimetype": "text/x-python",
   "name": "python",
   "nbconvert_exporter": "python",
   "pygments_lexer": "ipython3",
   "version": "3.10.8"
  },
  "orig_nbformat": 4,
  "vscode": {
   "interpreter": {
    "hash": "7bff30677687d477eb2d61e3360e02230b43085e3cce367fbc0dc4c73fd3f77e"
   }
  }
 },
 "nbformat": 4,
 "nbformat_minor": 2
}
