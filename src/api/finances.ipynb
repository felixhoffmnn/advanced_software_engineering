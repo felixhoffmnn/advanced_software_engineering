{
 "cells": [
  {
   "cell_type": "code",
   "execution_count": 1,
   "metadata": {},
   "outputs": [],
   "source": [
    "import os\n",
    "from datetime import datetime, timedelta\n",
    "from typing import List\n",
    "\n",
    "from currency_converter import CurrencyConverter\n",
    "\n",
    "from src.utils.http_request import http_request"
   ]
  },
  {
   "cell_type": "code",
   "execution_count": 2,
   "metadata": {},
   "outputs": [],
   "source": [
    "fmp_api_key = os.environ.get(\"FMP_API_KEY\")\n",
    "av_api_key = os.environ.get(\"AV_API_KEY\")"
   ]
  },
  {
   "cell_type": "code",
   "execution_count": 3,
   "metadata": {},
   "outputs": [],
   "source": [
    "fmp_base_url = \"https://financialmodelingprep.com/api/v3\"\n",
    "av_base_url = \"https://www.alphavantage.co\""
   ]
  },
  {
   "cell_type": "markdown",
   "metadata": {},
   "source": [
    "0. User preferences\n"
   ]
  },
  {
   "cell_type": "code",
   "execution_count": 4,
   "metadata": {},
   "outputs": [],
   "source": [
    "stocks_of_interest = [\"Apple Inc.\", \"Amazon.com, Inc.\", \"Microsoft Corporation\", \"Tesla, Inc.\"]"
   ]
  },
  {
   "cell_type": "code",
   "execution_count": 5,
   "metadata": {},
   "outputs": [],
   "source": [
    "available_currencies = {\n",
    "    \"USD\": \"$\",\n",
    "    \"EUR\": \"€\",\n",
    "}\n",
    "selected_currency = \"USD\"\n",
    "if selected_currency not in available_currencies.keys():\n",
    "    raise ValueError(\n",
    "        f\"Currency {selected_currency} not available. Please choose from {list(available_currencies.keys())}\"\n",
    "    )\n",
    "\n",
    "cur_conv = CurrencyConverter()"
   ]
  },
  {
   "cell_type": "code",
   "execution_count": 6,
   "metadata": {},
   "outputs": [],
   "source": [
    "def get_stock_symbol_by_name(stock_name: str) -> str:\n",
    "    fmp_api_key = os.environ.get(\"FMP_API_KEY\")\n",
    "    response = http_request(f\"{fmp_base_url}/search?query={stock_name}&limit=10&apikey={fmp_api_key}\").json()\n",
    "    if response:\n",
    "        return response[0][\"symbol\"]\n",
    "    else:\n",
    "        return None"
   ]
  },
  {
   "cell_type": "code",
   "execution_count": 7,
   "metadata": {},
   "outputs": [
    {
     "name": "stderr",
     "output_type": "stream",
     "text": [
      "2022-10-19 14:15:58.730 | SUCCESS  | src.utils.http_request:http_request:32 - Successfully fetched data from https://financialmodelingprep.com/api/v3/search?query=Apple Inc.&limit=10&apikey=4cea8d2e4aecdcdf7424cd6b69b37bb1\n",
      "2022-10-19 14:15:59.237 | SUCCESS  | src.utils.http_request:http_request:32 - Successfully fetched data from https://financialmodelingprep.com/api/v3/search?query=Amazon.com, Inc.&limit=10&apikey=4cea8d2e4aecdcdf7424cd6b69b37bb1\n",
      "2022-10-19 14:15:59.736 | SUCCESS  | src.utils.http_request:http_request:32 - Successfully fetched data from https://financialmodelingprep.com/api/v3/search?query=Microsoft Corporation&limit=10&apikey=4cea8d2e4aecdcdf7424cd6b69b37bb1\n",
      "2022-10-19 14:16:00.226 | SUCCESS  | src.utils.http_request:http_request:32 - Successfully fetched data from https://financialmodelingprep.com/api/v3/search?query=Tesla, Inc.&limit=10&apikey=4cea8d2e4aecdcdf7424cd6b69b37bb1\n"
     ]
    },
    {
     "data": {
      "text/plain": [
       "['AAPL', 'AMZN', 'MSFT', 'TSLA']"
      ]
     },
     "execution_count": 7,
     "metadata": {},
     "output_type": "execute_result"
    }
   ],
   "source": [
    "symbols_of_interest = [get_stock_symbol_by_name(stock_name) for stock_name in stocks_of_interest]\n",
    "symbols_of_interest"
   ]
  },
  {
   "cell_type": "markdown",
   "metadata": {},
   "source": [
    "1. Stock price + change for selected stocks\n"
   ]
  },
  {
   "cell_type": "code",
   "execution_count": 8,
   "metadata": {},
   "outputs": [],
   "source": [
    "def get_stock_price(symbol: str, currency: str = \"USD\") -> float:\n",
    "    response = http_request(f\"{fmp_base_url}/quote-short/{symbol}?apikey={fmp_api_key}\").json()\n",
    "    price = response[0][\"price\"]\n",
    "    if currency != \"USD\":\n",
    "        price = cur_conv.convert(price, \"USD\", currency)\n",
    "    return \"{:.2f}\".format(price)\n",
    "\n",
    "\n",
    "def get_stock_rating(symbol: str) -> str:\n",
    "    response = http_request(f\"{fmp_base_url}/rating/{symbol}?apikey={fmp_api_key}\").json()\n",
    "    rating = f\"{response[0]['rating']} ({response[0]['ratingRecommendation']})\"\n",
    "    return rating\n",
    "\n",
    "\n",
    "def get_stock_price_change(symbol: str):\n",
    "    response = http_request(f\"{fmp_base_url}/stock-price-change/{symbol}?apikey={fmp_api_key}\").json()\n",
    "    change = {\n",
    "        \"24h\": get_percentage_change(response[0][\"1D\"]),\n",
    "        \"5D\": get_percentage_change(response[0][\"5D\"]),\n",
    "    }\n",
    "    return change\n",
    "\n",
    "\n",
    "def get_percentage_change(change: str) -> str:\n",
    "    if float(change) > 0:\n",
    "        return f\"+{change}%\"\n",
    "    else:\n",
    "        return f\"{change}%\""
   ]
  },
  {
   "cell_type": "code",
   "execution_count": 9,
   "metadata": {},
   "outputs": [
    {
     "name": "stderr",
     "output_type": "stream",
     "text": [
      "2022-10-19 14:16:00.731 | SUCCESS  | src.utils.http_request:http_request:32 - Successfully fetched data from https://financialmodelingprep.com/api/v3/stock-price-change/AAPL?apikey=4cea8d2e4aecdcdf7424cd6b69b37bb1\n",
      "2022-10-19 14:16:01.210 | SUCCESS  | src.utils.http_request:http_request:32 - Successfully fetched data from https://financialmodelingprep.com/api/v3/quote-short/AAPL?apikey=4cea8d2e4aecdcdf7424cd6b69b37bb1\n",
      "2022-10-19 14:16:01.727 | SUCCESS  | src.utils.http_request:http_request:32 - Successfully fetched data from https://financialmodelingprep.com/api/v3/rating/AAPL?apikey=4cea8d2e4aecdcdf7424cd6b69b37bb1\n"
     ]
    },
    {
     "name": "stdout",
     "output_type": "stream",
     "text": [
      "AAPL: $ 143.75 | +0.94% (24h) | +3.32% (5 Days) | Rating: S (Strong Buy)\n"
     ]
    },
    {
     "name": "stderr",
     "output_type": "stream",
     "text": [
      "2022-10-19 14:16:02.375 | SUCCESS  | src.utils.http_request:http_request:32 - Successfully fetched data from https://financialmodelingprep.com/api/v3/stock-price-change/AMZN?apikey=4cea8d2e4aecdcdf7424cd6b69b37bb1\n",
      "2022-10-19 14:16:02.843 | SUCCESS  | src.utils.http_request:http_request:32 - Successfully fetched data from https://financialmodelingprep.com/api/v3/quote-short/AMZN?apikey=4cea8d2e4aecdcdf7424cd6b69b37bb1\n",
      "2022-10-19 14:16:03.323 | SUCCESS  | src.utils.http_request:http_request:32 - Successfully fetched data from https://financialmodelingprep.com/api/v3/rating/AMZN?apikey=4cea8d2e4aecdcdf7424cd6b69b37bb1\n"
     ]
    },
    {
     "name": "stdout",
     "output_type": "stream",
     "text": [
      "AMZN: $ 116.36 | +2.26% (24h) | +3.44% (5 Days) | Rating: A (Buy)\n"
     ]
    },
    {
     "name": "stderr",
     "output_type": "stream",
     "text": [
      "2022-10-19 14:16:03.791 | SUCCESS  | src.utils.http_request:http_request:32 - Successfully fetched data from https://financialmodelingprep.com/api/v3/stock-price-change/MSFT?apikey=4cea8d2e4aecdcdf7424cd6b69b37bb1\n",
      "2022-10-19 14:16:04.407 | SUCCESS  | src.utils.http_request:http_request:32 - Successfully fetched data from https://financialmodelingprep.com/api/v3/quote-short/MSFT?apikey=4cea8d2e4aecdcdf7424cd6b69b37bb1\n",
      "2022-10-19 14:16:04.899 | SUCCESS  | src.utils.http_request:http_request:32 - Successfully fetched data from https://financialmodelingprep.com/api/v3/rating/MSFT?apikey=4cea8d2e4aecdcdf7424cd6b69b37bb1\n"
     ]
    },
    {
     "name": "stdout",
     "output_type": "stream",
     "text": [
      "MSFT: $ 238.50 | +0.41% (24h) | +5.81% (5 Days) | Rating: S- (Strong Buy)\n"
     ]
    },
    {
     "name": "stderr",
     "output_type": "stream",
     "text": [
      "2022-10-19 14:16:05.395 | SUCCESS  | src.utils.http_request:http_request:32 - Successfully fetched data from https://financialmodelingprep.com/api/v3/stock-price-change/TSLA?apikey=4cea8d2e4aecdcdf7424cd6b69b37bb1\n",
      "2022-10-19 14:16:05.881 | SUCCESS  | src.utils.http_request:http_request:32 - Successfully fetched data from https://financialmodelingprep.com/api/v3/quote-short/TSLA?apikey=4cea8d2e4aecdcdf7424cd6b69b37bb1\n",
      "2022-10-19 14:16:06.364 | SUCCESS  | src.utils.http_request:http_request:32 - Successfully fetched data from https://financialmodelingprep.com/api/v3/rating/TSLA?apikey=4cea8d2e4aecdcdf7424cd6b69b37bb1\n"
     ]
    },
    {
     "name": "stdout",
     "output_type": "stream",
     "text": [
      "TSLA: $ 220.19 | +0.38% (24h) | +2.26% (5 Days) | Rating: A+ (Strong Buy)\n"
     ]
    }
   ],
   "source": [
    "for symbol in symbols_of_interest:\n",
    "    change = get_stock_price_change(symbol)\n",
    "    print(\n",
    "        f\"{symbol}: {available_currencies[selected_currency]} {get_stock_price(symbol, selected_currency)} | {change['24h']} (24h) | {change['5D']} (5 Days) | Rating: {get_stock_rating(symbol)}\"\n",
    "    )"
   ]
  },
  {
   "cell_type": "markdown",
   "metadata": {},
   "source": [
    "2. Financial news sentiment\n"
   ]
  },
  {
   "cell_type": "code",
   "execution_count": 10,
   "metadata": {},
   "outputs": [],
   "source": [
    "def get_news_info_by_symbol(symbol: str) -> list:\n",
    "    one_day_ago = (datetime.utcnow() - timedelta(days=1)).strftime(\"%Y%m%dT%H%M\")\n",
    "    response = http_request(\n",
    "        f\"{av_base_url}/query?function=NEWS_SENTIMENT&tickers={symbol}&time_from={one_day_ago}&sort=latest&limit=200&apikey={av_api_key}\"\n",
    "    ).json()\n",
    "    all_news = response[\"feed\"]\n",
    "    most_relevant_news = list(\n",
    "        filter(\n",
    "            lambda news: float(get_ticker_by_symbol(news[\"ticker_sentiment\"], symbol)[\"relevance_score\"]) >= 0.8,\n",
    "            all_news,\n",
    "        )\n",
    "    )[:3]\n",
    "    return most_relevant_news\n",
    "\n",
    "\n",
    "def get_ticker_by_symbol(ticker_list, symbol):\n",
    "    return next((ticker for ticker in ticker_list if ticker[\"ticker\"] == symbol), None)\n",
    "\n",
    "\n",
    "def news_analysis(symbols: List[str]):\n",
    "    news_info_list = [get_news_info_by_symbol(symbol) for symbol in symbols]\n",
    "    for symbol, news_info in zip(symbols, news_info_list):\n",
    "        print(f\"\\nNews for {symbol}:\")\n",
    "        for news in news_info:\n",
    "            symbol_ticker = get_ticker_by_symbol(news[\"ticker_sentiment\"], symbol)\n",
    "            print(\n",
    "                f\"The article '{news['title']}' written by {news['authors'][0]} and published on {news['source']} implies a {symbol_ticker['ticker_sentiment_label']} sentiment.\"\n",
    "            )"
   ]
  },
  {
   "cell_type": "code",
   "execution_count": 11,
   "metadata": {},
   "outputs": [
    {
     "name": "stderr",
     "output_type": "stream",
     "text": [
      "2022-10-19 14:16:07.050 | SUCCESS  | src.utils.http_request:http_request:32 - Successfully fetched data from https://www.alphavantage.co/query?function=NEWS_SENTIMENT&tickers=AAPL&time_from=20221018T1216&sort=latest&limit=200&apikey=1D00HH30HPNM6NO0\n",
      "2022-10-19 14:16:07.603 | SUCCESS  | src.utils.http_request:http_request:32 - Successfully fetched data from https://www.alphavantage.co/query?function=NEWS_SENTIMENT&tickers=AMZN&time_from=20221018T1216&sort=latest&limit=200&apikey=1D00HH30HPNM6NO0\n",
      "2022-10-19 14:16:08.201 | SUCCESS  | src.utils.http_request:http_request:32 - Successfully fetched data from https://www.alphavantage.co/query?function=NEWS_SENTIMENT&tickers=MSFT&time_from=20221018T1216&sort=latest&limit=200&apikey=1D00HH30HPNM6NO0\n",
      "2022-10-19 14:16:08.939 | SUCCESS  | src.utils.http_request:http_request:32 - Successfully fetched data from https://www.alphavantage.co/query?function=NEWS_SENTIMENT&tickers=TSLA&time_from=20221018T1216&sort=latest&limit=200&apikey=1D00HH30HPNM6NO0\n"
     ]
    },
    {
     "name": "stdout",
     "output_type": "stream",
     "text": [
      "\n",
      "News for AAPL:\n",
      "The article 'Apple Cuts iPhone 14 Plus Production To Tap Demand For Premium iPhone Pro Models - Apple  ( NASDAQ:AAPL ) ' written by Anusuya Lahiri and published on Benzinga implies a Somewhat-Bullish sentiment.\n",
      "The article 'Apple Rounds Out Holiday Lineup With New iPads, TV Streaming Box' written by Investor's Business Daily and published on Investors Business Daily implies a Somewhat-Bullish sentiment.\n",
      "The article 'Apple Unveils New Products Ahead of the Holidays. The Company Is Flexing Its Muscles, Analyst Says.' written by Angela Palumbo and published on Barrons implies a Bullish sentiment.\n",
      "\n",
      "News for AMZN:\n",
      "The article 'Amazon Gets Another Breather As Workers Dump NY Union - Amazon.com  ( NASDAQ:AMZN ) ' written by Anusuya Lahiri and published on Benzinga implies a Somewhat-Bearish sentiment.\n",
      "The article 'Why I Own Amazon Stock' written by Zane Fracek and Nicholas Rossolillo and published on Motley Fool implies a Bearish sentiment.\n",
      "\n",
      "News for MSFT:\n",
      "The article 'What Are Whales Doing With Microsoft - Microsoft  ( NASDAQ:MSFT ) ' written by Benzinga Insights and published on Benzinga implies a Somewhat-Bullish sentiment.\n",
      "The article 'Microsoft Whale Trades For October 18 - Microsoft  ( NASDAQ:MSFT ) ' written by Benzinga Insights and published on Benzinga implies a Neutral sentiment.\n",
      "\n",
      "News for TSLA:\n",
      "The article 'If You Invested $1,000 In Tesla Stock When Elon Musk Was Sued By The SEC In 2018, Here's How Much You'd Have Right Now - Tesla  ( NASDAQ:TSLA ) ' written by Henry Khederian and published on Benzinga implies a Neutral sentiment.\n",
      "The article 'Why Tesla Stock Was Surging at the Market Open Today' written by John Ballard and published on Motley Fool implies a Neutral sentiment.\n",
      "The article 'A Tesla Stock Sale Is Coming. We Know Who, Why and When, but Not How Much.' written by Al Root and published on Barrons implies a Somewhat-Bearish sentiment.\n"
     ]
    }
   ],
   "source": [
    "news_analysis(symbols_of_interest)"
   ]
  }
 ],
 "metadata": {
  "kernelspec": {
   "display_name": "Python 3.10.7 ('advanced-software-engineering-m0rZkWJX-py3.10')",
   "language": "python",
   "name": "python3"
  },
  "language_info": {
   "codemirror_mode": {
    "name": "ipython",
    "version": 3
   },
   "file_extension": ".py",
   "mimetype": "text/x-python",
   "name": "python",
   "nbconvert_exporter": "python",
   "pygments_lexer": "ipython3",
   "version": "3.10.7"
  },
  "orig_nbformat": 4,
  "vscode": {
   "interpreter": {
    "hash": "bf8b431bd882305fa2204d37c1172188ac3de8806d6e176113016cf335ff1325"
   }
  }
 },
 "nbformat": 4,
 "nbformat_minor": 2
}
